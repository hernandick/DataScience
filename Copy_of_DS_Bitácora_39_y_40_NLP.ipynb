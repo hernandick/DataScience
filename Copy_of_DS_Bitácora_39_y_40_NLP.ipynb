{
  "nbformat": 4,
  "nbformat_minor": 0,
  "metadata": {
    "kernelspec": {
      "display_name": "Python 3",
      "language": "python",
      "name": "python3"
    },
    "language_info": {
      "codemirror_mode": {
        "name": "ipython",
        "version": 3
      },
      "file_extension": ".py",
      "mimetype": "text/x-python",
      "name": "python",
      "nbconvert_exporter": "python",
      "pygments_lexer": "ipython3",
      "version": "3.8.2"
    },
    "colab": {
      "name": "Copy of DS_Bitácora_39_y_40_NLP.ipynb",
      "provenance": [],
      "toc_visible": true,
      "include_colab_link": true
    }
  },
  "cells": [
    {
      "cell_type": "markdown",
      "metadata": {
        "id": "view-in-github",
        "colab_type": "text"
      },
      "source": [
        "<a href=\"https://colab.research.google.com/github/hernandick/DataScience/blob/master/Copy_of_DS_Bit%C3%A1cora_39_y_40_NLP.ipynb\" target=\"_parent\"><img src=\"https://colab.research.google.com/assets/colab-badge.svg\" alt=\"Open In Colab\"/></a>"
      ]
    },
    {
      "cell_type": "markdown",
      "metadata": {
        "id": "KnsgEfzaYila"
      },
      "source": [
        "# NLP\n",
        "\n",
        "A lo largo del notebook vamos a trabajar con el siguiente dataset:\n",
        "\n",
        "https://www.kaggle.com/rmisra/news-headlines-dataset-for-sarcasm-detection/\n",
        "\n",
        "En esa competencia de Kaggle también puedes encontrar Notebooks (*kernels*) sumamente interesantes.\n",
        "\n",
        "El objetivo es que se familiaricen con algunas herramientas típicas del Procesamiento del Lenguaje Natural (NLP por sus siglas en inglés).La biblioteca fundamental que vamos a usar es NLTK. Probablemente tengas que instalarla. Para ello, googlea cómo instalar esta librería con Conda (no olvides activar el ambiente).\n",
        "\n",
        "Ten en cuenta que la mayoría de las herramientas de NLP pueden ser consideradas como parte del preprocesamiento, llevar el texto a una forma que la computadora pueda entender. En general, esto corresponde a una forma tipo \"tabla\" al estilo de los DataFrames de Pandas. Es fácil olvidarse de ese objetivo y perderse en todos los pasos. Al principio es común marearse, pero no te preocupes que verás que no es difícil.\n",
        "\n",
        "\n",
        "## 1. Carga de datos\n",
        "\n",
        "Lo primero que tienes que hacer es fijarse en qué formato están los datos. ¿De qué se trata es formato?¿Cómo se abre? Si googleas, vas a ver que hay muchas formas de abrir archivos JSON con Python. Como venimos trabajando con Pandas, googlea \"Open JSON with Pandas\". Prueben esa función. Si les tira un error en el primer intento, googleen el error. Les aseguramos que la respuesta está muy a mano y es muy accesible, no tienen que hacer nada raro."
      ]
    },
    {
      "cell_type": "code",
      "metadata": {
        "id": "Kyw3EaYVYilb",
        "outputId": "8a401f1f-c51b-4679-d4c2-38b6ca418fda",
        "colab": {
          "base_uri": "https://localhost:8080/"
        }
      },
      "source": [
        "import itertools\n",
        "\n",
        "import numpy as np\n",
        "import pandas as pd\n",
        "\n",
        "import matplotlib.pyplot as plt\n",
        "import seaborn as sns\n",
        "sns.set()\n",
        "\n",
        "import nltk\n",
        "\n",
        "#Esto sirve para configurar NLTK. La primera vez puede tardar un poco\n",
        "nltk.download('punkt')\n",
        "nltk.download('stopwords')"
      ],
      "execution_count": null,
      "outputs": [
        {
          "output_type": "stream",
          "text": [
            "[nltk_data] Downloading package punkt to /root/nltk_data...\n",
            "[nltk_data]   Unzipping tokenizers/punkt.zip.\n",
            "[nltk_data] Downloading package stopwords to /root/nltk_data...\n",
            "[nltk_data]   Unzipping corpora/stopwords.zip.\n"
          ],
          "name": "stdout"
        },
        {
          "output_type": "execute_result",
          "data": {
            "text/plain": [
              "True"
            ]
          },
          "metadata": {
            "tags": []
          },
          "execution_count": 1
        }
      ]
    },
    {
      "cell_type": "code",
      "metadata": {
        "id": "OGB6evmkYilf",
        "outputId": "4efffd96-1c66-4e3f-c69a-cd709573fe5e",
        "colab": {
          "base_uri": "https://localhost:8080/",
          "height": 334
        }
      },
      "source": [
        "import json\n",
        "dataset = "
      ],
      "execution_count": null,
      "outputs": [
        {
          "output_type": "error",
          "ename": "AttributeError",
          "evalue": "ignored",
          "traceback": [
            "\u001b[0;31m---------------------------------------------------------------------------\u001b[0m",
            "\u001b[0;31mAttributeError\u001b[0m                            Traceback (most recent call last)",
            "\u001b[0;32m<ipython-input-6-45011dfc9ac2>\u001b[0m in \u001b[0;36m<module>\u001b[0;34m()\u001b[0m\n\u001b[1;32m      1\u001b[0m \u001b[0;32mimport\u001b[0m \u001b[0mjson\u001b[0m\u001b[0;34m\u001b[0m\u001b[0;34m\u001b[0m\u001b[0m\n\u001b[0;32m----> 2\u001b[0;31m \u001b[0mdataset\u001b[0m \u001b[0;34m=\u001b[0m \u001b[0mjson\u001b[0m\u001b[0;34m.\u001b[0m\u001b[0mload\u001b[0m\u001b[0;34m(\u001b[0m\u001b[0;34m'/content/Sarcasm_Headlines_Dataset.json'\u001b[0m\u001b[0;34m)\u001b[0m\u001b[0;34m\u001b[0m\u001b[0;34m\u001b[0m\u001b[0m\n\u001b[0m\u001b[1;32m      3\u001b[0m \u001b[0mdataset\u001b[0m\u001b[0;34m.\u001b[0m\u001b[0mhead\u001b[0m\u001b[0;34m(\u001b[0m\u001b[0;34m)\u001b[0m\u001b[0;34m\u001b[0m\u001b[0;34m\u001b[0m\u001b[0m\n",
            "\u001b[0;32m/usr/lib/python3.6/json/__init__.py\u001b[0m in \u001b[0;36mload\u001b[0;34m(fp, cls, object_hook, parse_float, parse_int, parse_constant, object_pairs_hook, **kw)\u001b[0m\n\u001b[1;32m    294\u001b[0m \u001b[0;34m\u001b[0m\u001b[0m\n\u001b[1;32m    295\u001b[0m     \"\"\"\n\u001b[0;32m--> 296\u001b[0;31m     return loads(fp.read(),\n\u001b[0m\u001b[1;32m    297\u001b[0m         \u001b[0mcls\u001b[0m\u001b[0;34m=\u001b[0m\u001b[0mcls\u001b[0m\u001b[0;34m,\u001b[0m \u001b[0mobject_hook\u001b[0m\u001b[0;34m=\u001b[0m\u001b[0mobject_hook\u001b[0m\u001b[0;34m,\u001b[0m\u001b[0;34m\u001b[0m\u001b[0;34m\u001b[0m\u001b[0m\n\u001b[1;32m    298\u001b[0m         \u001b[0mparse_float\u001b[0m\u001b[0;34m=\u001b[0m\u001b[0mparse_float\u001b[0m\u001b[0;34m,\u001b[0m \u001b[0mparse_int\u001b[0m\u001b[0;34m=\u001b[0m\u001b[0mparse_int\u001b[0m\u001b[0;34m,\u001b[0m\u001b[0;34m\u001b[0m\u001b[0;34m\u001b[0m\u001b[0m\n",
            "\u001b[0;31mAttributeError\u001b[0m: 'str' object has no attribute 'read'"
          ]
        }
      ]
    },
    {
      "cell_type": "markdown",
      "metadata": {
        "id": "rEiBIjvIYilh"
      },
      "source": [
        "¿Qué forma tiene el dataset?¿Cuántas instancias?¿Cuáles son sus columnas?¿Cuántos titulares hay de cada tipo?¿Podemos hablar ya de *features*?"
      ]
    },
    {
      "cell_type": "code",
      "metadata": {
        "id": "SgguTyo1Yilh",
        "outputId": "2d008579-3b17-496b-cc66-aede975ed538",
        "colab": {
          "base_uri": "https://localhost:8080/"
        }
      },
      "source": [
        "dataset.shape"
      ],
      "execution_count": null,
      "outputs": [
        {
          "output_type": "execute_result",
          "data": {
            "text/plain": [
              "(28619, 3)"
            ]
          },
          "metadata": {
            "tags": []
          },
          "execution_count": 9
        }
      ]
    },
    {
      "cell_type": "code",
      "metadata": {
        "id": "ngo5_BjVjNzN"
      },
      "source": [
        "dataset_v2 = pd.read_json(\"Sarcasm_Headlines_Dataset_v2.json\", lines=True)\n",
        "dataset= pd.read_json(\"Sarcasm_Headlines_Dataset.json\", lines=True)"
      ],
      "execution_count": null,
      "outputs": []
    },
    {
      "cell_type": "code",
      "metadata": {
        "id": "dgWmaVv9jNm_",
        "outputId": "e77d7083-9484-4a4a-9aba-f0df4b937a9c",
        "colab": {
          "base_uri": "https://localhost:8080/",
          "height": 204
        }
      },
      "source": [
        "dataset.head()\n"
      ],
      "execution_count": null,
      "outputs": [
        {
          "output_type": "execute_result",
          "data": {
            "text/html": [
              "<div>\n",
              "<style scoped>\n",
              "    .dataframe tbody tr th:only-of-type {\n",
              "        vertical-align: middle;\n",
              "    }\n",
              "\n",
              "    .dataframe tbody tr th {\n",
              "        vertical-align: top;\n",
              "    }\n",
              "\n",
              "    .dataframe thead th {\n",
              "        text-align: right;\n",
              "    }\n",
              "</style>\n",
              "<table border=\"1\" class=\"dataframe\">\n",
              "  <thead>\n",
              "    <tr style=\"text-align: right;\">\n",
              "      <th></th>\n",
              "      <th>article_link</th>\n",
              "      <th>headline</th>\n",
              "      <th>is_sarcastic</th>\n",
              "    </tr>\n",
              "  </thead>\n",
              "  <tbody>\n",
              "    <tr>\n",
              "      <th>0</th>\n",
              "      <td>https://www.huffingtonpost.com/entry/versace-b...</td>\n",
              "      <td>former versace store clerk sues over secret 'b...</td>\n",
              "      <td>0</td>\n",
              "    </tr>\n",
              "    <tr>\n",
              "      <th>1</th>\n",
              "      <td>https://www.huffingtonpost.com/entry/roseanne-...</td>\n",
              "      <td>the 'roseanne' revival catches up to our thorn...</td>\n",
              "      <td>0</td>\n",
              "    </tr>\n",
              "    <tr>\n",
              "      <th>2</th>\n",
              "      <td>https://local.theonion.com/mom-starting-to-fea...</td>\n",
              "      <td>mom starting to fear son's web series closest ...</td>\n",
              "      <td>1</td>\n",
              "    </tr>\n",
              "    <tr>\n",
              "      <th>3</th>\n",
              "      <td>https://politics.theonion.com/boehner-just-wan...</td>\n",
              "      <td>boehner just wants wife to listen, not come up...</td>\n",
              "      <td>1</td>\n",
              "    </tr>\n",
              "    <tr>\n",
              "      <th>4</th>\n",
              "      <td>https://www.huffingtonpost.com/entry/jk-rowlin...</td>\n",
              "      <td>j.k. rowling wishes snape happy birthday in th...</td>\n",
              "      <td>0</td>\n",
              "    </tr>\n",
              "  </tbody>\n",
              "</table>\n",
              "</div>"
            ],
            "text/plain": [
              "                                        article_link  ... is_sarcastic\n",
              "0  https://www.huffingtonpost.com/entry/versace-b...  ...            0\n",
              "1  https://www.huffingtonpost.com/entry/roseanne-...  ...            0\n",
              "2  https://local.theonion.com/mom-starting-to-fea...  ...            1\n",
              "3  https://politics.theonion.com/boehner-just-wan...  ...            1\n",
              "4  https://www.huffingtonpost.com/entry/jk-rowlin...  ...            0\n",
              "\n",
              "[5 rows x 3 columns]"
            ]
          },
          "metadata": {
            "tags": []
          },
          "execution_count": 19
        }
      ]
    },
    {
      "cell_type": "code",
      "metadata": {
        "id": "KAA1pUcuYilk",
        "outputId": "fb435831-e41d-477a-9134-294af516f650",
        "colab": {
          "base_uri": "https://localhost:8080/",
          "height": 339
        }
      },
      "source": [
        "sns.countplot(dataset['is_sarcastic'])\n",
        "plt.show()"
      ],
      "execution_count": null,
      "outputs": [
        {
          "output_type": "stream",
          "text": [
            "/usr/local/lib/python3.6/dist-packages/seaborn/_decorators.py:43: FutureWarning: Pass the following variable as a keyword arg: x. From version 0.12, the only valid positional argument will be `data`, and passing other arguments without an explicit keyword will result in an error or misinterpretation.\n",
            "  FutureWarning\n"
          ],
          "name": "stderr"
        },
        {
          "output_type": "display_data",
          "data": {
            "image/png": "[encoded data removed]",
            "text/plain": [
              "<Figure size 432x288 with 1 Axes>"
            ]
          },
          "metadata": {
            "tags": [],
            "needs_background": "light"
          }
        }
      ]
    },
    {
      "cell_type": "markdown",
      "metadata": {
        "id": "ptd_tuePYilm"
      },
      "source": [
        "## 2. Breve exploración del dataset\n",
        "\n",
        "Elige una instancia del dataset al azar y selecciona el *headline*."
      ]
    },
    {
      "cell_type": "code",
      "metadata": {
        "id": "LahDnUqLYiln",
        "outputId": "8f307f6a-61bb-41d6-8c77-d458dd1bc8a1",
        "colab": {
          "base_uri": "https://localhost:8080/"
        }
      },
      "source": [
        "index_random = np.random.randint(0,dataset.shape[0])\n",
        "titular = dataset.iloc[index_random].headline\n",
        "print(index_random, titular)"
      ],
      "execution_count": null,
      "outputs": [
        {
          "output_type": "stream",
          "text": [
            "3225 important decision sent up to company's highest idiot\n"
          ],
          "name": "stdout"
        }
      ]
    },
    {
      "cell_type": "markdown",
      "metadata": {
        "id": "UeZP_F7vYilp"
      },
      "source": [
        "¿Te parece que es sarcástico?¿Qué características del texto te hace creer - o no - eso? Comprueba si es sarcástico o no imprimiendo en la celda de abajo el valor correspondiente del dataset. (Como la mayoría de los titulares están en inglés y encima refieren a política local, no te preocupes si es una tarea difícil)."
      ]
    },
    {
      "cell_type": "code",
      "metadata": {
        "id": "qgRee1q9Yilp",
        "outputId": "f34713b9-8048-4895-e3a7-9f965c73b3ae",
        "colab": {
          "base_uri": "https://localhost:8080/"
        }
      },
      "source": [
        "print(index_random, dataset.iloc[index_random].is_sarcastic)"
      ],
      "execution_count": null,
      "outputs": [
        {
          "output_type": "stream",
          "text": [
            "3225 1\n"
          ],
          "name": "stdout"
        }
      ]
    },
    {
      "cell_type": "markdown",
      "metadata": {
        "id": "G8sbvEqUYilt"
      },
      "source": [
        "## 3. NLTK\n",
        "\n",
        "Si es difícil para algunos humanos detectar el sarcasmo, probablemente también lo sea para una computadora. De todas formas, se puede hacer el intento. Para ello, es necesario extraer características de cada texto que nos sirvan para ir apuntando al objetivo. En los videos de Acámica hay muchos ejemplo de herramientas para aplicar. Elegir un titular que les llame la atención y probar las siguientes herramientas:\n",
        "\n",
        "### Tokenización\n",
        "\n",
        "¿Qué es y para qué sirve?¿Cuáles de todas las formas de tokenización presentadas te parece más útil para este problema?\n",
        "\n",
        "1. `sent_tokenize`"
      ]
    },
    {
      "cell_type": "code",
      "metadata": {
        "id": "r74lZGRpYilt",
        "outputId": "dbdd2f95-86d9-4880-bfb2-699058ce7c81",
        "colab": {
          "base_uri": "https://localhost:8080/"
        }
      },
      "source": [
        "titular_st = nltk.sent_tokenize(titular)\n",
        "titular_st"
      ],
      "execution_count": null,
      "outputs": [
        {
          "output_type": "execute_result",
          "data": {
            "text/plain": [
              "[\"important decision sent up to company's highest idiot\"]"
            ]
          },
          "metadata": {
            "tags": []
          },
          "execution_count": 34
        }
      ]
    },
    {
      "cell_type": "markdown",
      "metadata": {
        "id": "UnGJkq4JYilw"
      },
      "source": [
        "2. `word_tokenize`"
      ]
    },
    {
      "cell_type": "code",
      "metadata": {
        "id": "mYG2ETHhYilx",
        "outputId": "50cc26f4-6c80-416f-ac99-19508e342276",
        "colab": {
          "base_uri": "https://localhost:8080/"
        }
      },
      "source": [
        "titular_wt = nltk.word_tokenize(titular)\n",
        "titular_wt"
      ],
      "execution_count": null,
      "outputs": [
        {
          "output_type": "execute_result",
          "data": {
            "text/plain": [
              "['important',\n",
              " 'decision',\n",
              " 'sent',\n",
              " 'up',\n",
              " 'to',\n",
              " 'company',\n",
              " \"'s\",\n",
              " 'highest',\n",
              " 'idiot']"
            ]
          },
          "metadata": {
            "tags": []
          },
          "execution_count": 35
        }
      ]
    },
    {
      "cell_type": "markdown",
      "metadata": {
        "id": "2RFceYbPYilz"
      },
      "source": [
        "### Normalización\n",
        "\n",
        "¿Qué es y para qué sirve? Notar que varias formas de normalización ya vienen aplicadas en el dataset.\n",
        "\n",
        "1. Stopwords\n",
        "\n",
        "Importar los `stopwords` del inglés e imprimirlos."
      ]
    },
    {
      "cell_type": "code",
      "metadata": {
        "id": "dOX-KfrdYilz",
        "outputId": "72a55ac1-a617-46bb-f8ac-b0f07c7dd639",
        "colab": {
          "base_uri": "https://localhost:8080/"
        }
      },
      "source": [
        "from nltk.corpus import stopwords\n",
        "stopwords = set(stopwords.words('english'))\n",
        "stopwords"
      ],
      "execution_count": null,
      "outputs": [
        {
          "output_type": "execute_result",
          "data": {
            "text/plain": [
              "{'a',\n",
              " 'about',\n",
              " 'above',\n",
              " 'after',\n",
              " 'again',\n",
              " 'against',\n",
              " 'ain',\n",
              " 'all',\n",
              " 'am',\n",
              " 'an',\n",
              " 'and',\n",
              " 'any',\n",
              " 'are',\n",
              " 'aren',\n",
              " \"aren't\",\n",
              " 'as',\n",
              " 'at',\n",
              " 'be',\n",
              " 'because',\n",
              " 'been',\n",
              " 'before',\n",
              " 'being',\n",
              " 'below',\n",
              " 'between',\n",
              " 'both',\n",
              " 'but',\n",
              " 'by',\n",
              " 'can',\n",
              " 'couldn',\n",
              " \"couldn't\",\n",
              " 'd',\n",
              " 'did',\n",
              " 'didn',\n",
              " \"didn't\",\n",
              " 'do',\n",
              " 'does',\n",
              " 'doesn',\n",
              " \"doesn't\",\n",
              " 'doing',\n",
              " 'don',\n",
              " \"don't\",\n",
              " 'down',\n",
              " 'during',\n",
              " 'each',\n",
              " 'few',\n",
              " 'for',\n",
              " 'from',\n",
              " 'further',\n",
              " 'had',\n",
              " 'hadn',\n",
              " \"hadn't\",\n",
              " 'has',\n",
              " 'hasn',\n",
              " \"hasn't\",\n",
              " 'have',\n",
              " 'haven',\n",
              " \"haven't\",\n",
              " 'having',\n",
              " 'he',\n",
              " 'her',\n",
              " 'here',\n",
              " 'hers',\n",
              " 'herself',\n",
              " 'him',\n",
              " 'himself',\n",
              " 'his',\n",
              " 'how',\n",
              " 'i',\n",
              " 'if',\n",
              " 'in',\n",
              " 'into',\n",
              " 'is',\n",
              " 'isn',\n",
              " \"isn't\",\n",
              " 'it',\n",
              " \"it's\",\n",
              " 'its',\n",
              " 'itself',\n",
              " 'just',\n",
              " 'll',\n",
              " 'm',\n",
              " 'ma',\n",
              " 'me',\n",
              " 'mightn',\n",
              " \"mightn't\",\n",
              " 'more',\n",
              " 'most',\n",
              " 'mustn',\n",
              " \"mustn't\",\n",
              " 'my',\n",
              " 'myself',\n",
              " 'needn',\n",
              " \"needn't\",\n",
              " 'no',\n",
              " 'nor',\n",
              " 'not',\n",
              " 'now',\n",
              " 'o',\n",
              " 'of',\n",
              " 'off',\n",
              " 'on',\n",
              " 'once',\n",
              " 'only',\n",
              " 'or',\n",
              " 'other',\n",
              " 'our',\n",
              " 'ours',\n",
              " 'ourselves',\n",
              " 'out',\n",
              " 'over',\n",
              " 'own',\n",
              " 're',\n",
              " 's',\n",
              " 'same',\n",
              " 'shan',\n",
              " \"shan't\",\n",
              " 'she',\n",
              " \"she's\",\n",
              " 'should',\n",
              " \"should've\",\n",
              " 'shouldn',\n",
              " \"shouldn't\",\n",
              " 'so',\n",
              " 'some',\n",
              " 'such',\n",
              " 't',\n",
              " 'than',\n",
              " 'that',\n",
              " \"that'll\",\n",
              " 'the',\n",
              " 'their',\n",
              " 'theirs',\n",
              " 'them',\n",
              " 'themselves',\n",
              " 'then',\n",
              " 'there',\n",
              " 'these',\n",
              " 'they',\n",
              " 'this',\n",
              " 'those',\n",
              " 'through',\n",
              " 'to',\n",
              " 'too',\n",
              " 'under',\n",
              " 'until',\n",
              " 'up',\n",
              " 've',\n",
              " 'very',\n",
              " 'was',\n",
              " 'wasn',\n",
              " \"wasn't\",\n",
              " 'we',\n",
              " 'were',\n",
              " 'weren',\n",
              " \"weren't\",\n",
              " 'what',\n",
              " 'when',\n",
              " 'where',\n",
              " 'which',\n",
              " 'while',\n",
              " 'who',\n",
              " 'whom',\n",
              " 'why',\n",
              " 'will',\n",
              " 'with',\n",
              " 'won',\n",
              " \"won't\",\n",
              " 'wouldn',\n",
              " \"wouldn't\",\n",
              " 'y',\n",
              " 'you',\n",
              " \"you'd\",\n",
              " \"you'll\",\n",
              " \"you're\",\n",
              " \"you've\",\n",
              " 'your',\n",
              " 'yours',\n",
              " 'yourself',\n",
              " 'yourselves'}"
            ]
          },
          "metadata": {
            "tags": []
          },
          "execution_count": 44
        }
      ]
    },
    {
      "cell_type": "markdown",
      "metadata": {
        "id": "7MKKgCyqYil2"
      },
      "source": [
        "¿Les parece conveniente aplicar todos los stopwords que aparecen en esa lista?\n",
        "\n",
        "Eliminar del titular elegido los stopwords."
      ]
    },
    {
      "cell_type": "code",
      "metadata": {
        "id": "BHRBjOBQYil2"
      },
      "source": [
        "titular_wt_sin_sw = [COMPLETAR for COMPLETAR in COMPLETAR if COMPLETAR not in COMPLETAR]\n",
        "titular_wt_sin_sw"
      ],
      "execution_count": null,
      "outputs": []
    },
    {
      "cell_type": "markdown",
      "metadata": {
        "id": "k5ubQI2yYil5"
      },
      "source": [
        "¿Cuál o cuáles palabras se fueron?"
      ]
    },
    {
      "cell_type": "markdown",
      "metadata": {
        "id": "xUzR-JW5Yil5"
      },
      "source": [
        "### Frecuencia de palabras\n",
        "\n",
        "Dado el titular ya tokenizado por palabras y sin stopwords, usar `nltk` para extrar la frecuencia con que aparece cada palabras. ¿Tiene sentido esto para titulares?"
      ]
    },
    {
      "cell_type": "code",
      "metadata": {
        "id": "8bcZjMqcYil6"
      },
      "source": [
        "freq = nltk.COMPLETAR(COMPLETAR)\n",
        "freq"
      ],
      "execution_count": null,
      "outputs": []
    },
    {
      "cell_type": "markdown",
      "metadata": {
        "id": "mxjxpAZdYil8"
      },
      "source": [
        "### Dataset Completo\n",
        "\n",
        "Antes de pasar a extraer features de cada instancia del Dataset, podemos hacer un pequeño análisis del dataset en su conjunto. Por ejemplo, una opción es agrupar todos los titulares por tipo y extraer de cada clase las palabras más frecuentes. Para ello:\n",
        "\n",
        "1. Agrupar los titulares por tipo. Crear un dataframe para cada uno. Recuerden usar máscaras.\n",
        "2. Crear una lista vacia y agregar en esa lista todos los titulares (por tipo/dataframe creado) ya tokenizados (usar el `RegexpTokenizer`) y filtrado por `stopwords`.\n",
        "3. Usar el `FreqDist` en esa lista que acaban de llenar. Llevar lo que devuelve `FreqDist` a un Dataframe. Ordenar por frecuencia en que aparece cada palabra.\n",
        "4. Hacer un `barplot` o similar para visualizar.\n",
        "5. ¿Qué palabras filtrarían, aparte de las que aparecen en `stopwords`? Crear una lista vacía y agregarlas a mano. Agregar en el código que realizaron una línea (similar a la que usan con `stopwords`) para que también filtre por esas palabras.\n",
        "6. Volver a visualizar.\n",
        "\n",
        "#### No-Sarcasmo"
      ]
    },
    {
      "cell_type": "code",
      "metadata": {
        "id": "l7t1JEB9Yil9"
      },
      "source": [
        "dataset_no_sarcasmo = dataset[COMPLETAR]\n",
        "dataset_no_sarcasmo.head()"
      ],
      "execution_count": null,
      "outputs": []
    },
    {
      "cell_type": "code",
      "metadata": {
        "id": "TLGlcxvDYil_"
      },
      "source": [
        "todos_titulares_no_sarcasmo = COMPLETAR\n",
        "for i in range(dataset_no_sarcasmo.shape[0]):\n",
        "    titular = COMPLETAR #seleccionar el titular\n",
        "    titular = COMPLETAR # Tokenizar con RegexpTokenizer\n",
        "    titular = COMPLETAR # Filtrar por stopwords\n",
        "    todos_titulares_no_sarcasmo.COMPLETAR(COMPLETAR) #agregar el resultado a la lista"
      ],
      "execution_count": null,
      "outputs": []
    },
    {
      "cell_type": "code",
      "metadata": {
        "id": "SU9fdY5JYimB"
      },
      "source": [
        "# Esta celda convierte una lista de listas en una unica lista\n",
        "todos_titulares_no_sarcasmo = list(itertools.chain(*todos_titulares_no_sarcasmo))\n",
        "todos_titulares_no_sarcasmo"
      ],
      "execution_count": null,
      "outputs": []
    },
    {
      "cell_type": "code",
      "metadata": {
        "id": "-EVmRKsPYimE"
      },
      "source": [
        "#FreqDist\n",
        "freq_no_sarcasmo = nltk.COMPLETAR(COMPLETAR)\n",
        "freq_no_sarcasmo"
      ],
      "execution_count": null,
      "outputs": []
    },
    {
      "cell_type": "code",
      "metadata": {
        "id": "XtIlbC9GYimG"
      },
      "source": [
        "# googlear: how to get pandas dataframe from freqdist\n",
        "df_no_sarcasmo = COMPLETAR\n",
        "df_no_sarcasmo.head()"
      ],
      "execution_count": null,
      "outputs": []
    },
    {
      "cell_type": "code",
      "metadata": {
        "id": "8wGTbAV9YimN"
      },
      "source": [
        "# ordenar por frecuencia\n",
        "df_no_sarcasmo.COMPLETAR(COMPLETAR)\n",
        "df_no_sarcasmo.head()"
      ],
      "execution_count": null,
      "outputs": []
    },
    {
      "cell_type": "code",
      "metadata": {
        "id": "cKp6EJwcYimQ"
      },
      "source": [
        "df_no_sarcasmo.reset_index(drop = True, inplace=True)\n",
        "df_no_sarcasmo.head()"
      ],
      "execution_count": null,
      "outputs": []
    },
    {
      "cell_type": "code",
      "metadata": {
        "id": "Td2z1_L1YimT"
      },
      "source": [
        "plt.figure(figsize = (15,8))\n",
        "plot = sns.barplot(x  = df_no_sarcasmo.iloc[:30].Word, y = df_no_sarcasmo.iloc[:30].Frequency)\n",
        "for item in plot.get_xticklabels():\n",
        "    item.set_rotation(90)\n",
        "plt.show()"
      ],
      "execution_count": null,
      "outputs": []
    },
    {
      "cell_type": "markdown",
      "metadata": {
        "id": "J9YEL4fTYimV"
      },
      "source": [
        "#### Sarcasmo"
      ]
    },
    {
      "cell_type": "code",
      "metadata": {
        "id": "w-5Qs5ozYimV"
      },
      "source": [
        "dataset_sarcasmo = COMPLETAR\n",
        "dataset_sarcasmo.head()"
      ],
      "execution_count": null,
      "outputs": []
    },
    {
      "cell_type": "code",
      "metadata": {
        "id": "L66zIsJ5YimY"
      },
      "source": [
        "COMPLETAR"
      ],
      "execution_count": null,
      "outputs": []
    },
    {
      "cell_type": "code",
      "metadata": {
        "id": "Bi3cwmf4Yimb"
      },
      "source": [
        "todos_titulares_sarcasmo = COMPLETAR\n",
        "todos_titulares_sarcasmo"
      ],
      "execution_count": null,
      "outputs": []
    },
    {
      "cell_type": "code",
      "metadata": {
        "id": "YQa3QzbTYimd"
      },
      "source": [
        "freq_sarcasmo = COMPLETAR\n",
        "freq_sarcasmo"
      ],
      "execution_count": null,
      "outputs": []
    },
    {
      "cell_type": "code",
      "metadata": {
        "id": "nkjoiIZDYimf"
      },
      "source": [
        "df_sarcasmo = COMPLETAR\n",
        "df_sarcasmo.head()"
      ],
      "execution_count": null,
      "outputs": []
    },
    {
      "cell_type": "code",
      "metadata": {
        "id": "mrEP_DSPYimi"
      },
      "source": [
        "df_sarcasmo.COMPLETAR\n",
        "df_sarcasmo.head()"
      ],
      "execution_count": null,
      "outputs": []
    },
    {
      "cell_type": "code",
      "metadata": {
        "id": "N3q3_YPYYimk"
      },
      "source": [
        "df_sarcasmo.COMPLETAR\n",
        "df_sarcasmo.head()"
      ],
      "execution_count": null,
      "outputs": []
    },
    {
      "cell_type": "code",
      "metadata": {
        "id": "qR5ooiC4Yimn"
      },
      "source": [
        "plt.figure(figsize = (15,8))\n",
        "COMPLETAR"
      ],
      "execution_count": null,
      "outputs": []
    },
    {
      "cell_type": "code",
      "metadata": {
        "id": "o5EMaU-LYimp"
      },
      "source": [
        "filtrar = []\n",
        "if False:\n",
        "    filtrar.append(\"u\")\n",
        "    filtrar.append(\"new\")"
      ],
      "execution_count": null,
      "outputs": []
    },
    {
      "cell_type": "markdown",
      "metadata": {
        "id": "R2boEV33Yimt"
      },
      "source": [
        "## 4. Stemming\n",
        "Por razones gramaticales muchas palabras pueden escribirse de manera distinta (debido a conjugación, género, número) pero tener el mismo significado para el texto. Por ejemplo si decimos \"jugar\", \"jugando\" o \"juega\", debido a como estan conjugadas, la computadora puede tratarlas como palabras distintas. Pero, en términos de significado, todas estan relacionadas al verbo Jugar. Muchas veces nos va a convenir unir todas estos términos en uno solo.\n",
        "\n",
        "Una de las manera de hacer esto es por \"STEMMING\". El Stemming es un proceso eurístico que recorta la terminación de las palabras, agrupándolas por su raiz. Reduzcamos la cantidad de palabras diferentes en nuestro dataset utilizando este proceso.\n",
        "\n",
        "a. Importar nuevamente el dataset completo"
      ]
    },
    {
      "cell_type": "code",
      "metadata": {
        "scrolled": true,
        "id": "EZKpYjOkYimu"
      },
      "source": [
        "dataset = COMPLETAR\n",
        "dataset.head()"
      ],
      "execution_count": null,
      "outputs": []
    },
    {
      "cell_type": "markdown",
      "metadata": {
        "id": "kjMbbByaYimw"
      },
      "source": [
        "b. Tomar del `dataset` solo las columnas de interes"
      ]
    },
    {
      "cell_type": "code",
      "metadata": {
        "id": "h7VxGS4WYimx"
      },
      "source": [
        "dataset = COMPLETAR\n",
        "dataset.dropna(axis=0,inplace=True)  # Si hay alguna nan, tiramos esa instancia\n",
        "dataset.head()"
      ],
      "execution_count": null,
      "outputs": []
    },
    {
      "cell_type": "markdown",
      "metadata": {
        "id": "cj2nPuJNYimz"
      },
      "source": [
        "c. Antes de realizar el proceso de Stemming, vamos a normalizar el texto de la manera que ya estuvimos viendo. Le agregamos en este caso el uso de la libreria `re`, que nos permite sacar del texto todos los caracteres que no sean palabras. Notemos que hay veces que no conviene quitar estos caracteres ya que, por ejemplo, no podremos distiguir preguntas (?) o exclamaciones (!)."
      ]
    },
    {
      "cell_type": "code",
      "metadata": {
        "id": "zkRKDX5YYimz"
      },
      "source": [
        "# Importamos esta libreria que nos permite reemplzar caracteres\n",
        "import re\n",
        "\n",
        "# Importamos la función que nos permite Stemmizar de nltk y definimos el stemmer\n",
        "from nltk.stem import PorterStemmer\n",
        "stemmer = PorterStemmer()\n",
        "\n",
        "# Traemos nuevamente las stopwords\n",
        "stopwords = nltk.COMPLETAR"
      ],
      "execution_count": null,
      "outputs": []
    },
    {
      "cell_type": "code",
      "metadata": {
        "id": "ctoj60OiYim1"
      },
      "source": [
        "# Recorremos todos los titulos y le vamos aplicando la Normalizacion y luega el Stemming a cada uno\n",
        "titular_list=[]\n",
        "for titular in dataset.headline:\n",
        "    # Vamos a reemplzar los caracteres que no sean leras por espacios\n",
        "    titular=re.sub(\"[^a-zA-Z]\",\" \",str(titular))\n",
        "    # Pasamos todo a minúsculas\n",
        "    titular=titular.lower()\n",
        "    # Tokenizamos para separar las palabras del titular\n",
        "    titular=nltk.COMPLETAR\n",
        "    # Eliminamos las palabras de menos de 3 letras\n",
        "    titular = [palabra for palabra in titular if len(palabra)>3]\n",
        "    # Sacamos las Stopwords\n",
        "    titular = [COMPLETAR for COMPLETAR in COMPLETAR if not COMPLETAR in COMPLETAR]\n",
        "    \n",
        "    ## Hasta acá Normalizamos, ahora a stemmizar\n",
        "    \n",
        "    # Aplicamos la funcion para buscar la raiz de las palabras\n",
        "    titular = [stemmer.stem(COMPLETAR) for COMPLETAR in COMPLETAR]\n",
        "    # Por ultimo volvemos a unir el titular\n",
        "    titular = \" \".join(titular)\n",
        "    \n",
        "    # Vamos armando una lista con todos los titulares\n",
        "    titular_list.append(COMPLETAR)"
      ],
      "execution_count": null,
      "outputs": []
    },
    {
      "cell_type": "markdown",
      "metadata": {
        "id": "bm4Zg6LzYim4"
      },
      "source": [
        "d. Agregamos al dataset una columna llamado `titular_stem` que contenga los titulares stemmizados"
      ]
    },
    {
      "cell_type": "code",
      "metadata": {
        "id": "cpZgnRzzYim5"
      },
      "source": [
        "dataset[\"titular_stem\"] = COMPLETAR\n",
        "dataset.tail()"
      ],
      "execution_count": null,
      "outputs": []
    },
    {
      "cell_type": "markdown",
      "metadata": {
        "id": "E7RQRf56Yim7"
      },
      "source": [
        "e. Armamos un nuevo dataset llamado `dataset_stem` que contenga solo las columnas `titular_stem` e `is_sarcastic`"
      ]
    },
    {
      "cell_type": "code",
      "metadata": {
        "scrolled": true,
        "id": "4Dve6u3PYim7"
      },
      "source": [
        "dataset_stem = COMPLETAR\n",
        "dataset_stem.dropna(axis=0,inplace=True)  # Por si quedaron titulares vacios\n",
        "dataset_stem.head()"
      ],
      "execution_count": null,
      "outputs": []
    },
    {
      "cell_type": "markdown",
      "metadata": {
        "id": "GtQT4GEgYim-"
      },
      "source": [
        "## 5. Lemmatization\n",
        "\n",
        "Otra manera de llevar distintas palabras a un raíz común en la que comparten un significado es mediante el procezo de 'Lemmatizar' el texto. Es similar al 'Stemming' pero un poco más educado, ya que intenta realizar el proceso teniendo en cuenta cuál es el rol que la palabra cumple en el texto. Esto quiere decir que su accionar será distinto si la palabra a lemmantizar está actuando como verbo, sustantivo, etc. \n",
        "\n",
        "Para usar las funciones que ofrece `nltk` para lemmantizar, tendremos primero que descargar la libreria `Wordnet` que se encuentra en la solapa 'corpora' y las librerias 'maxent_treebank_pos_' y 'averaged_perceptron_tagger' que se encuentra en la solapa 'Models'. Para eso ejecute la siguiente celda:"
      ]
    },
    {
      "cell_type": "code",
      "metadata": {
        "id": "63dhpam5Yim_"
      },
      "source": [
        "nltk.download()"
      ],
      "execution_count": null,
      "outputs": []
    },
    {
      "cell_type": "code",
      "metadata": {
        "id": "0NhNTAoaYinC"
      },
      "source": [
        "# Importamos esta libreria que nos permite reemplzar caracteres\n",
        "import re\n",
        "\n",
        "# Importamos el lemmatizar de NLTK, y creamos el objeto\n",
        "from nltk.stem import WordNetLemmatizer\n",
        "wordnet_lemmatizer = WordNetLemmatizer()"
      ],
      "execution_count": null,
      "outputs": []
    },
    {
      "cell_type": "markdown",
      "metadata": {
        "id": "AyGJrII0YinE"
      },
      "source": [
        "Veamos cómo actúa el lemmatizer sobre una frase de ejemplo."
      ]
    },
    {
      "cell_type": "code",
      "metadata": {
        "id": "h5lN5zzjYinE"
      },
      "source": [
        "# Oracion que usaremos como ejemplo\n",
        "frase = \"He was running and eating at same time. He has bad habit of swimming after playing long hours in the Sun.\"\n",
        "\n",
        "# Hay que regularizar el texto. Dejar solo letra, pasar a minúsculas y tokenizar:\n",
        "\n",
        "# Sacamos todo lo que no sean letras\n",
        "frase = COMPLETAR\n",
        "# Pasamos a minúsculas\n",
        "frase = COMPLETAR\n",
        "# Tokenizamos\n",
        "frase_tokens = COMPLETAR\n",
        "\n",
        "# Veamos como cambians las palabras al lemmatizar\n",
        "print(\"{0:20}{1:20}\".format(\"Word\",\"Lemma\"))\n",
        "for palabra in frase_tokens:\n",
        "    print (\"{0:20}{1:20}\".format(palabra,wordnet_lemmatizer.lemmatize(palabra)))"
      ],
      "execution_count": null,
      "outputs": []
    },
    {
      "cell_type": "markdown",
      "metadata": {
        "id": "bHuDJczuYinH"
      },
      "source": [
        "¿Te sorprende lo que paso? No cambiaron casi nada (solo se fueron las \"s\" del final). El problema es que precisamos darle información extra al Lemmatizer, decirle qué rol está cumpliendo la palabra en la oración. Si se fijan en la documentación, esto se hace pasandole un argumento extra a la función llamado POS (Part Of Speech).\n",
        "\n",
        "Hay distintos metodos que intentan averiguar el rol que cumple una palabra en una oración. Nosotros vamos a utilizar uno que viene incorporado en NLTK llamado pos_tag."
      ]
    },
    {
      "cell_type": "code",
      "metadata": {
        "id": "-bxFkHxXYinH"
      },
      "source": [
        "print(nltk.pos_tag(frase_tokens))"
      ],
      "execution_count": null,
      "outputs": []
    },
    {
      "cell_type": "markdown",
      "metadata": {
        "id": "tH8TKUezYinT"
      },
      "source": [
        "Las etiquetas refieren al tipo de palabra. Vamos a definir una función para traducir estas etiquetas a los valores de POS que entiende `wordnet_lemmatizer`."
      ]
    },
    {
      "cell_type": "code",
      "metadata": {
        "id": "_uQoNKkaYinT"
      },
      "source": [
        "from nltk.corpus import wordnet\n",
        "\n",
        "def get_wordnet_pos(word):\n",
        "    \"\"\"Map POS tag to first character lemmatize() accepts\"\"\"\n",
        "    tag = nltk.pos_tag([word])[0][1][0].upper()\n",
        "    tag_dict = {\"J\": wordnet.ADJ,\n",
        "                \"N\": wordnet.NOUN,\n",
        "                \"V\": wordnet.VERB,\n",
        "                \"R\": wordnet.ADV}\n",
        "\n",
        "    return tag_dict.get(tag, wordnet.NOUN)"
      ],
      "execution_count": null,
      "outputs": []
    },
    {
      "cell_type": "markdown",
      "metadata": {
        "id": "yFQF4OPKYinV"
      },
      "source": [
        "Veamos finalmente como funciona en nuestro ejemplo."
      ]
    },
    {
      "cell_type": "code",
      "metadata": {
        "id": "1MJjUzzhYinW"
      },
      "source": [
        "frase_lemma = [wordnet_lemmatizer.lemmatize(w, get_wordnet_pos(w)) for w in nltk.word_tokenize(frase)]\n",
        "tipo_palabra = [get_wordnet_pos(w) for w in nltk.word_tokenize(frase)]\n",
        "\n",
        "# Veamos como cambiaron las palabras\n",
        "print(\"{0:20}{1:20}{2:20}\".format(\"Palabra:\",\"Tipo:\",\"Lemma:\"))\n",
        "for i in range(len(frase_tokens)):\n",
        "    print (\"{0:20}{1:20}{2:20}\".format(frase_tokens[i],tipo_palabra[i],frase_lemma[i]))"
      ],
      "execution_count": null,
      "outputs": []
    },
    {
      "cell_type": "markdown",
      "metadata": {
        "id": "SHg9FAYGYinX"
      },
      "source": [
        "a. Ahora te toca aplicar todo esto a nuestro dataset. Vamos a volver a importarlo y hacer un procedimiento análogo al que hicimos para la parte de Stemming."
      ]
    },
    {
      "cell_type": "code",
      "metadata": {
        "id": "6fuMF8EWYinY"
      },
      "source": [
        "# Importamos el lemmatizar de NLTK, y creamos el objeto\n",
        "from nltk.stem import WordNetLemmatizer\n",
        "wordnet_lemmatizer = WordNetLemmatizer()\n",
        "\n",
        "# Importamos esta libreria que nos permite reemplzar caracteres\n",
        "import re\n",
        "\n",
        "dataset = COMPLETAR\n",
        "dataset = COMPLETAR\n",
        "dataset.dropna(axis=0,inplace=True)\n",
        "\n",
        "# Traemos nuevamente las stopwords\n",
        "stopwords = COMPLETAR"
      ],
      "execution_count": null,
      "outputs": []
    },
    {
      "cell_type": "code",
      "metadata": {
        "id": "Mi0JDy6CYina"
      },
      "source": [
        "titular_list=[]\n",
        "for titular in dataset.headline:\n",
        "    # Vamos a reemplzar los caracteres que no sean leras por espacios\n",
        "    titular = COMPLETAR\n",
        "    # Pasamos todo a minúsculas\n",
        "    titular = COMPLETAR\n",
        "    # Tokenizamos para separar las palabras\n",
        "    titular = COMPLETAR\n",
        "    \n",
        "    # Aplicamos el Lemmatizer (Esto puede tardar un ratito)\n",
        "    frase_lemma = [wordnet_lemmatizer.lemmatize(w, get_wordnet_pos(w)) for w in titular]\n",
        "    \n",
        "    \n",
        "    # Eliminamos las palabras d emenos de 3 letras\n",
        "    titular = COMPLETAR\n",
        "    # Sacamos las Stopwords\n",
        "    titular = COMPLETAR\n",
        "    \n",
        "    # Por ultimo volvemos a unir el titular\n",
        "    titular=\" \".join(titular)\n",
        "    #dataset[\"titular_normalizado\"] = titular_list\n",
        "    titular_list.append(titular)"
      ],
      "execution_count": null,
      "outputs": []
    },
    {
      "cell_type": "code",
      "metadata": {
        "id": "mrwUnJMgYinc"
      },
      "source": [
        "dataset[\"titular_lemm\"] = COMPLETAR\n",
        "dataset.tail()"
      ],
      "execution_count": null,
      "outputs": []
    },
    {
      "cell_type": "markdown",
      "metadata": {
        "id": "7SaEkN5hYine"
      },
      "source": [
        "b. Por último nos armamos un nuevo datasate llamado `dataset_lem` que tenga solo las columnas `titular_lemm` y `is_sarcastic`."
      ]
    },
    {
      "cell_type": "code",
      "metadata": {
        "id": "wyWxUTFzYine"
      },
      "source": [
        "dataset_lemm = COMPLETAR\n",
        "dataset_lemm.dropna(axis=0,inplace=True)  # Por si quedaron titulares vacios\n",
        "dataset_lemm.head()"
      ],
      "execution_count": null,
      "outputs": []
    },
    {
      "cell_type": "markdown",
      "metadata": {
        "id": "OhS4G_KcYing"
      },
      "source": [
        "**Para mirar**: toma algunos titulares al azar y compara su versión `dataset_lemm` y en `dataset_stem`. Explica.\n",
        "\n",
        "## 6. Vectorizar\n",
        "\n",
        "Hasta ahora, tenemos un grupo de palabras por cada titular (bag of words), ya sea *lemmatizado* o *stemmizado*. ¿Te parece que esto servirá para entrenar modelos? La idea ahora es representar esta lista de palabras como un vector. Para esto vamos a utilizar la función `CountVectorizer` de Scikit-Learn. Esta función nos permite representar cada título por un vector con un `1` en las palabras que contiene y un `0` en las que no. Además, vamos a trabajar únicamente con las palabras que aparecen más veces en el texto, ya que las que aparecen una única vez o pocas veces no nos van a brindar información que se pueda generalizar.\n",
        "\n",
        "a. Tomamos la lista de palabras y el vector que nos dice si es o no sarcástico el título"
      ]
    },
    {
      "cell_type": "code",
      "metadata": {
        "id": "ZcBghHroYinh"
      },
      "source": [
        "# Tomamso la lista de palabras y el vector que nos dice si es o no sarcastico el titulo\n",
        "list_titulos = list(COMPLETAR)\n",
        "is_sarc = COMPLETAR\n",
        "\n",
        "## Para probar con Stemmizer:\n",
        "#list_titulos = list(dataset_stem'titular_stem'].values)\n",
        "#is_sarc = dataset_stem['is_sarcastic'].values"
      ],
      "execution_count": null,
      "outputs": []
    },
    {
      "cell_type": "markdown",
      "metadata": {
        "id": "gqrYBt4mYink"
      },
      "source": [
        "b. Preparamos el conversor de bag of words a vectores que traemos de sklearn. `CountVectorizer` posee varias funcionalidades que pueden determinarse a partir de parámetros. Les recomendamos fuertemente leer su documentación."
      ]
    },
    {
      "cell_type": "code",
      "metadata": {
        "id": "-YWmxJhaYinl"
      },
      "source": [
        "from sklearn.feature_extraction.text import CountVectorizer\n",
        "\n",
        "# Usaremos solo las 1000 palabras con mas frecuencia en todo el corpus para generar los vectores\n",
        "max_features=1000\n",
        "\n",
        "# Es decir que cada instancia tendrá 1000 features\n",
        "cou_vec=CountVectorizer(max_features=max_features) # stop_words=\"english\" , ngram_range=(1, 2)"
      ],
      "execution_count": null,
      "outputs": []
    },
    {
      "cell_type": "markdown",
      "metadata": {
        "id": "ZoJLc3s5Yino"
      },
      "source": [
        "Notemos que desde `CountVectorizer` se pueden quitar las stopwords (algo que ya hicimos con `nltk`) e incluir los n_gramas automáticamente.\n",
        "\n",
        "c. Ahora sí, vamos generarnos los vectores para cada título a partir del corpus total."
      ]
    },
    {
      "cell_type": "code",
      "metadata": {
        "id": "Hbe5D0C7Yino"
      },
      "source": [
        "matriz_titulos = cou_vec.fit_transform(list_titulos)\n",
        "\n",
        "# Tomamos las palabras\n",
        "all_words = cou_vec.get_feature_names()\n",
        "\n",
        "# Vizualizamos las 50 palabras mas usadas\n",
        "print(\"50 palabras mas usadas: \",all_words[0:50])"
      ],
      "execution_count": null,
      "outputs": []
    },
    {
      "cell_type": "markdown",
      "metadata": {
        "id": "VCvgwA7MYinq"
      },
      "source": [
        "## 7. Modelar\n",
        "\n",
        "Ahora sí estamos listos para usar todo nuestro conocimiento de modelos en este set de datos. Tengamos en cuenta que, dependiendo el número de palabras (features) que hayamos elegido, los modelos pueden tardar un rato en entrenarse.\n",
        "\n",
        "a. Primero, como siempre, separamos en test y train."
      ]
    },
    {
      "cell_type": "code",
      "metadata": {
        "id": "crHG0LhXYinr"
      },
      "source": [
        "x = matriz_titulos.toarray()\n",
        "y = is_sarc\n",
        "\n",
        "from sklearn.model_selection import train_test_split\n",
        "xtrain, xtest, ytrain, ytest = train_test_split(x,y,test_size=0.2,random_state=42,stratify=y)"
      ],
      "execution_count": null,
      "outputs": []
    },
    {
      "cell_type": "markdown",
      "metadata": {
        "id": "Q7FBVlHbYint"
      },
      "source": [
        "Tambien definimos una función que nos permite plotear los resultados en una matriz de confusión."
      ]
    },
    {
      "cell_type": "code",
      "metadata": {
        "id": "Er41syeQYinu"
      },
      "source": [
        "from sklearn.metrics import confusion_matrix\n",
        "import seaborn as sns\n",
        "\n",
        "def confusion(ytest,y_pred):\n",
        "    names=[\"No Sarcastico\",\"Sarcastico\"]\n",
        "    cm=confusion_matrix(ytest,y_pred)\n",
        "    f,ax=plt.subplots(figsize=(5,5))\n",
        "    sns.heatmap(cm,annot=True,linewidth=.5,linecolor=\"r\",fmt=\".0f\",ax=ax)\n",
        "    plt.xlabel(\"y_pred\")\n",
        "    plt.ylabel(\"y_true\")\n",
        "    ax.set_xticklabels(names)\n",
        "    ax.set_yticklabels(names)\n",
        "    plt.show()\n",
        "\n",
        "    return"
      ],
      "execution_count": null,
      "outputs": []
    },
    {
      "cell_type": "markdown",
      "metadata": {
        "id": "qzX1aXB0Yinv"
      },
      "source": [
        "### Naive Bayes\n",
        "a. Empecemos por un simple Naive Bayes para tener un benchmark de referencia para el accuracy."
      ]
    },
    {
      "cell_type": "code",
      "metadata": {
        "id": "QXb8xLwjYinv"
      },
      "source": [
        "from sklearn.naive_bayes import GaussianNB\n",
        "nb = GaussianNB()\n",
        "nb.fit(xtrain,ytrain)\n",
        "\n",
        "print(\"acc : \", COMPLETAR)"
      ],
      "execution_count": null,
      "outputs": []
    },
    {
      "cell_type": "markdown",
      "metadata": {
        "id": "W6UNRSIiYinx"
      },
      "source": [
        "b. Veamos cómo queda graficada la matriz de confusión:"
      ]
    },
    {
      "cell_type": "code",
      "metadata": {
        "id": "k-Fgz8yGYinx"
      },
      "source": [
        "y_pred = COMPLETAR\n",
        "confusion(ytest,y_pred)"
      ],
      "execution_count": null,
      "outputs": []
    },
    {
      "cell_type": "markdown",
      "metadata": {
        "id": "FHnYJBxMYin0"
      },
      "source": [
        "### Random Forest\n",
        "a. Veamos cómo funciona un random forest para predecir el sarcasmo de una nota en base a su titular."
      ]
    },
    {
      "cell_type": "code",
      "metadata": {
        "id": "bhZep_R3Yin0"
      },
      "source": [
        "from sklearn.ensemble import RandomForestClassifier\n",
        "from sklearn.metrics import confusion_matrix\n",
        "\n",
        "rf = COMPLETAR\n",
        "rf.fit(COMPLETAR)\n",
        "\n",
        "print(\"acc : \", COMPLETAR)"
      ],
      "execution_count": null,
      "outputs": []
    },
    {
      "cell_type": "markdown",
      "metadata": {
        "id": "MQhIVT2MYin2"
      },
      "source": [
        "b. Grafiquen su matriz de confusión:"
      ]
    },
    {
      "cell_type": "code",
      "metadata": {
        "id": "uXegGbuJYin2"
      },
      "source": [
        "y_pred = COMPLETAR\n",
        "confusion(ytest,y_pred)"
      ],
      "execution_count": null,
      "outputs": []
    },
    {
      "cell_type": "markdown",
      "metadata": {
        "id": "FSUJQ5SMYin3"
      },
      "source": [
        "c. Habíamos dicho que algo muy bueno de Random Forest era poder preguntarle por la importancia de los features que uso para clasificar. Veamos en este caso cuales son las palabras que mayormente determinan el sarcasmo de una nota para este clasificador."
      ]
    },
    {
      "cell_type": "code",
      "metadata": {
        "id": "4-dwmycKYin4"
      },
      "source": [
        "# Le preguntamos la importancia de cada feature (cada palabra)\n",
        "importances = rf.feature_importances_\n",
        "# Tomamos la lista de palabras\n",
        "all_words = cou_vec.get_feature_names()\n",
        "columns = all_words\n",
        "\n",
        "# Ordenamos por importnacia y tomamos las 20 primeras\n",
        "indices = np.argsort(importances)[::-1]\n",
        "indices = indices[:20]\n",
        "selected_columns = [columns[i] for i in indices]\n",
        "selected_importances = importances[indices]\n",
        "\n",
        "# Por ultimo graficamos\n",
        "plt.figure(figsize = (15,8))\n",
        "sns.barplot(selected_columns, selected_importances)\n",
        "plt.show()"
      ],
      "execution_count": null,
      "outputs": []
    },
    {
      "cell_type": "markdown",
      "metadata": {
        "id": "V37GMx_EYin6"
      },
      "source": [
        "### SVM\n",
        "Por último vamos a utilizar uno de los modelos mas prometedores para este tipo de datos donde el numero de features es comparable al número de instancias: SVM."
      ]
    },
    {
      "cell_type": "markdown",
      "metadata": {
        "id": "UVZ9p8yFYin6"
      },
      "source": [
        "a. Entrene un modelo de SVM Lineal y calcule su accuracy para C = 1."
      ]
    },
    {
      "cell_type": "code",
      "metadata": {
        "id": "U-FZh7JIYin6"
      },
      "source": [
        "# Notar que en vez de utilizar SVC, vamos a usar LinearSVC. \n",
        "# Para el Kernel Lineal, esta función es MUCHO mas rapida que la tradicional SVC.\n",
        "from sklearn.svm import LinearSVC\n",
        "\n",
        "svc = LinearSVC(C = 1)\n",
        "svc.fit(COMPLETAR)\n",
        "\n",
        "print(\"acc : \", COMPLETAR)"
      ],
      "execution_count": null,
      "outputs": []
    },
    {
      "cell_type": "markdown",
      "metadata": {
        "id": "Pj3d3KVdYin9"
      },
      "source": [
        "b. Grafiquen su matrz de confusión:"
      ]
    },
    {
      "cell_type": "code",
      "metadata": {
        "id": "1LFHAzYNYin9"
      },
      "source": [
        "y_pred = COMPLETAR\n",
        "confusion(ytest,y_pred)"
      ],
      "execution_count": null,
      "outputs": []
    },
    {
      "cell_type": "markdown",
      "metadata": {
        "id": "kHi5yKNfYin-"
      },
      "source": [
        "## 7. Explora las posibilidades\n",
        "\n",
        "Si llegaste hasta acá, ya cuentas con todas las herramientas para poder explorar qué sucede con el poder predictivo cuando van cambiando la manera en que procesas y vectorizas el texto. Algunas sugerencias para explorar son las siguientes:\n",
        "\n",
        "1. Prueba con Stemmizar en vez de lemmantizar\n",
        "1. Cambia el numero de features que esta tomando.\n",
        "1. Prueba con TF-IDF.\n",
        "1. Incluye los 2-gramas. ¿Qué era eso?\n",
        "1. Conserve los signos de exclamación y pregunta del texto.\n"
      ]
    },
    {
      "cell_type": "code",
      "metadata": {
        "id": "d_2DR9LxYin_"
      },
      "source": [
        ""
      ],
      "execution_count": null,
      "outputs": []
    }
  ]
}