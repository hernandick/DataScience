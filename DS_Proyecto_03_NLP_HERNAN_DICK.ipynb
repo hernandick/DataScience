{
  "nbformat": 4,
  "nbformat_minor": 0,
  "metadata": {
    "kernelspec": {
      "display_name": "Python 3",
      "language": "python",
      "name": "python3"
    },
    "language_info": {
      "codemirror_mode": {
        "name": "ipython",
        "version": 3
      },
      "file_extension": ".py",
      "mimetype": "text/x-python",
      "name": "python",
      "nbconvert_exporter": "python",
      "pygments_lexer": "ipython3",
      "version": "3.8.2"
    },
    "colab": {
      "name": "DS_Proyecto_03_NLP_HERNAN_DICK.ipynb",
      "provenance": [],
      "collapsed_sections": [],
      "toc_visible": true,
      "include_colab_link": true
    }
  },
  "cells": [
    {
      "cell_type": "markdown",
      "metadata": {
        "id": "view-in-github",
        "colab_type": "text"
      },
      "source": [
        "<a href=\"https://colab.research.google.com/github/hernandick/DataScience/blob/master/DS_Proyecto_03_NLP_HERNAN_DICK.ipynb\" target=\"_parent\"><img src=\"https://colab.research.google.com/assets/colab-badge.svg\" alt=\"Open In Colab\"/></a>"
      ]
    },
    {
      "cell_type": "markdown",
      "metadata": {
        "id": "2GRQnxMzISE_"
      },
      "source": [
        "# Proyecto 03 - Procesamiento del Lenguaje Natural\n",
        "\n",
        "## Dataset: The Multilingual Amazon Reviews Corpus\n",
        "\n",
        "**Recuerda descargar el dataset de [aquí](https://github.com/kang205/SASRec). Es un archivo .zip que contiene tres documentos. Más información sobre el dataset [aquí](https://registry.opendata.aws/amazon-reviews-ml/). Es importante que tengas en cuenta la [licencia](https://docs.opendata.aws/amazon-reviews-ml/license.txt) de este dataset.**\n",
        "\n",
        "### Exploración de datos y Procesamiento del Lenguaje Natural\n",
        "\n",
        "Dedícale un buen tiempo a hacer un Análisis Exploratorio de Datos. Considera que hasta que no hayas aplicado las herramientas de Procesamiento del Lenguaje Natural vistas, será difícil completar este análisis. Elige preguntas que creas que puedas responder con este dataset. Por ejemplo, ¿qué palabras están asociadas a calificaciones positivas y qué palabras a calificaciones negativas?\n",
        "\n",
        "### Machine Learning\n",
        "\n",
        "Implementa un modelo que, dada la crítica de un producto, asigne la cantidad de estrellas correspondiente. **Para pensar**: ¿es un problema de Clasificación o de Regresión?\n",
        "\n",
        "1. Haz todas las transformaciones de datos que consideres necesarias. Justifica.\n",
        "1. Evalúa de forma apropiada sus resultados. Justifica la métrica elegida.\n",
        "1. Elige un modelo benchmark y compara tus resultados con este modelo.\n",
        "1. Optimiza los hiperparámetros de tu modelo.\n",
        "1. Intenta responder la pregunta: ¿Qué información está usando el modelo para predecir?\n",
        "\n",
        "**Recomendación:** si no te resulta conveniente trabajar en español con NLTK, te recomendamos que explores la librería [spaCy](https://spacy.io/).\n",
        "\n",
        "### Para pensar, investigar y, opcionalmente, implementar\n",
        "1. ¿Valdrá la pena convertir el problema de Machine Learning en un problema binario? Es decir, asignar únicamente las etiquetas Positiva y Negativa a cada crítica y hacer un modelo que, en lugar de predecir las estrellas, prediga esa etiqueta. Pensar en qué situación puede ser útil. ¿Esperas que el desempeño sea mejor o peor?\n",
        "1. ¿Hay algo que te gustaría investigar o probar?\n",
        "\n",
        "### **¡Tómate tiempo para investigar y leer mucho!**"
      ]
    },
    {
      "cell_type": "markdown",
      "metadata": {
        "id": "9UstUwgd4qDq"
      },
      "source": [
        "Comenzamos instalando los paquetes necesarios para realizar el proyecto"
      ]
    },
    {
      "cell_type": "code",
      "metadata": {
        "id": "ln66HEaNpxkB",
        "colab": {
          "base_uri": "https://localhost:8080/"
        },
        "outputId": "9f132a2f-ac31-4381-93e2-8a8edf03a3fd"
      },
      "source": [
        "!spacy download es_core_news_sm"
      ],
      "execution_count": null,
      "outputs": [
        {
          "output_type": "stream",
          "text": [
            "Requirement already satisfied: es_core_news_sm==2.2.5 from https://github.com/explosion/spacy-models/releases/download/es_core_news_sm-2.2.5/es_core_news_sm-2.2.5.tar.gz#egg=es_core_news_sm==2.2.5 in /usr/local/lib/python3.6/dist-packages (2.2.5)\n",
            "Requirement already satisfied: spacy>=2.2.2 in /usr/local/lib/python3.6/dist-packages (from es_core_news_sm==2.2.5) (2.2.4)\n",
            "Requirement already satisfied: setuptools in /usr/local/lib/python3.6/dist-packages (from spacy>=2.2.2->es_core_news_sm==2.2.5) (50.3.2)\n",
            "Requirement already satisfied: thinc==7.4.0 in /usr/local/lib/python3.6/dist-packages (from spacy>=2.2.2->es_core_news_sm==2.2.5) (7.4.0)\n",
            "Requirement already satisfied: catalogue<1.1.0,>=0.0.7 in /usr/local/lib/python3.6/dist-packages (from spacy>=2.2.2->es_core_news_sm==2.2.5) (1.0.0)\n",
            "Requirement already satisfied: numpy>=1.15.0 in /usr/local/lib/python3.6/dist-packages (from spacy>=2.2.2->es_core_news_sm==2.2.5) (1.18.5)\n",
            "Requirement already satisfied: blis<0.5.0,>=0.4.0 in /usr/local/lib/python3.6/dist-packages (from spacy>=2.2.2->es_core_news_sm==2.2.5) (0.4.1)\n",
            "Requirement already satisfied: srsly<1.1.0,>=1.0.2 in /usr/local/lib/python3.6/dist-packages (from spacy>=2.2.2->es_core_news_sm==2.2.5) (1.0.2)\n",
            "Requirement already satisfied: cymem<2.1.0,>=2.0.2 in /usr/local/lib/python3.6/dist-packages (from spacy>=2.2.2->es_core_news_sm==2.2.5) (2.0.4)\n",
            "Requirement already satisfied: plac<1.2.0,>=0.9.6 in /usr/local/lib/python3.6/dist-packages (from spacy>=2.2.2->es_core_news_sm==2.2.5) (1.1.3)\n",
            "Requirement already satisfied: wasabi<1.1.0,>=0.4.0 in /usr/local/lib/python3.6/dist-packages (from spacy>=2.2.2->es_core_news_sm==2.2.5) (0.8.0)\n",
            "Requirement already satisfied: tqdm<5.0.0,>=4.38.0 in /usr/local/lib/python3.6/dist-packages (from spacy>=2.2.2->es_core_news_sm==2.2.5) (4.41.1)\n",
            "Requirement already satisfied: preshed<3.1.0,>=3.0.2 in /usr/local/lib/python3.6/dist-packages (from spacy>=2.2.2->es_core_news_sm==2.2.5) (3.0.2)\n",
            "Requirement already satisfied: murmurhash<1.1.0,>=0.28.0 in /usr/local/lib/python3.6/dist-packages (from spacy>=2.2.2->es_core_news_sm==2.2.5) (1.0.3)\n",
            "Requirement already satisfied: requests<3.0.0,>=2.13.0 in /usr/local/lib/python3.6/dist-packages (from spacy>=2.2.2->es_core_news_sm==2.2.5) (2.23.0)\n",
            "Requirement already satisfied: importlib-metadata>=0.20; python_version < \"3.8\" in /usr/local/lib/python3.6/dist-packages (from catalogue<1.1.0,>=0.0.7->spacy>=2.2.2->es_core_news_sm==2.2.5) (2.0.0)\n",
            "Requirement already satisfied: idna<3,>=2.5 in /usr/local/lib/python3.6/dist-packages (from requests<3.0.0,>=2.13.0->spacy>=2.2.2->es_core_news_sm==2.2.5) (2.10)\n",
            "Requirement already satisfied: urllib3!=1.25.0,!=1.25.1,<1.26,>=1.21.1 in /usr/local/lib/python3.6/dist-packages (from requests<3.0.0,>=2.13.0->spacy>=2.2.2->es_core_news_sm==2.2.5) (1.24.3)\n",
            "Requirement already satisfied: chardet<4,>=3.0.2 in /usr/local/lib/python3.6/dist-packages (from requests<3.0.0,>=2.13.0->spacy>=2.2.2->es_core_news_sm==2.2.5) (3.0.4)\n",
            "Requirement already satisfied: certifi>=2017.4.17 in /usr/local/lib/python3.6/dist-packages (from requests<3.0.0,>=2.13.0->spacy>=2.2.2->es_core_news_sm==2.2.5) (2020.6.20)\n",
            "Requirement already satisfied: zipp>=0.5 in /usr/local/lib/python3.6/dist-packages (from importlib-metadata>=0.20; python_version < \"3.8\"->catalogue<1.1.0,>=0.0.7->spacy>=2.2.2->es_core_news_sm==2.2.5) (3.4.0)\n",
            "\u001b[38;5;2m✔ Download and installation successful\u001b[0m\n",
            "You can now load the model via spacy.load('es_core_news_sm')\n"
          ],
          "name": "stdout"
        }
      ]
    },
    {
      "cell_type": "code",
      "metadata": {
        "id": "FpFa9WY7xq7t",
        "colab": {
          "base_uri": "https://localhost:8080/"
        },
        "outputId": "5462a26b-2c0b-43e9-d2de-f0272d560656"
      },
      "source": [
        "!pip install unidecode"
      ],
      "execution_count": null,
      "outputs": [
        {
          "output_type": "stream",
          "text": [
            "Requirement already satisfied: unidecode in /usr/local/lib/python3.6/dist-packages (1.1.1)\n"
          ],
          "name": "stdout"
        }
      ]
    },
    {
      "cell_type": "markdown",
      "metadata": {
        "id": "k4ZjH_G875iG"
      },
      "source": [
        "# Exploración de datos"
      ]
    },
    {
      "cell_type": "code",
      "metadata": {
        "id": "x1GFwraSISFB",
        "colab": {
          "base_uri": "https://localhost:8080/"
        },
        "outputId": "d318a8d3-14cd-43cd-c857-697f6b2e1280"
      },
      "source": [
        "#Importamos las librerías!\n",
        "import itertools\n",
        "\n",
        "import numpy as np\n",
        "import pandas as pd\n",
        "\n",
        "import matplotlib.pyplot as plt\n",
        "import seaborn as sns\n",
        "sns.set()\n",
        "\n",
        "import nltk\n",
        "\n",
        "#Esto sirve para configurar NLTK. La primera vez puede tardar un poco\n",
        "nltk.download('punkt')\n",
        "nltk.download('stopwords')"
      ],
      "execution_count": null,
      "outputs": [
        {
          "output_type": "stream",
          "text": [
            "[nltk_data] Downloading package punkt to /root/nltk_data...\n",
            "[nltk_data]   Package punkt is already up-to-date!\n",
            "[nltk_data] Downloading package stopwords to /root/nltk_data...\n",
            "[nltk_data]   Package stopwords is already up-to-date!\n"
          ],
          "name": "stdout"
        },
        {
          "output_type": "execute_result",
          "data": {
            "text/plain": [
              "True"
            ]
          },
          "metadata": {
            "tags": []
          },
          "execution_count": 3
        }
      ]
    },
    {
      "cell_type": "code",
      "metadata": {
        "id": "i3duz3zD63sh"
      },
      "source": [
        "#Importamos el dataset completo.\n",
        "import json\n",
        "dataset = pd.read_json(\"dataset_es_dev.json\", lines=True)"
      ],
      "execution_count": null,
      "outputs": []
    },
    {
      "cell_type": "code",
      "metadata": {
        "id": "CJbYNwds7jFw",
        "colab": {
          "base_uri": "https://localhost:8080/"
        },
        "outputId": "cc56f86b-5956-496b-bca5-3b5c0b02c065"
      },
      "source": [
        "#Forma del Dataset\n",
        "dataset.shape"
      ],
      "execution_count": null,
      "outputs": [
        {
          "output_type": "execute_result",
          "data": {
            "text/plain": [
              "(5000, 8)"
            ]
          },
          "metadata": {
            "tags": []
          },
          "execution_count": 5
        }
      ]
    },
    {
      "cell_type": "code",
      "metadata": {
        "id": "kWh1q_fwDw0q",
        "colab": {
          "base_uri": "https://localhost:8080/",
          "height": 323
        },
        "outputId": "8207f697-cea9-425a-c774-94458f4555ed"
      },
      "source": [
        "#Primer vistazo del dataset.\n",
        "dataset.head()"
      ],
      "execution_count": null,
      "outputs": [
        {
          "output_type": "execute_result",
          "data": {
            "text/html": [
              "<div>\n",
              "<style scoped>\n",
              "    .dataframe tbody tr th:only-of-type {\n",
              "        vertical-align: middle;\n",
              "    }\n",
              "\n",
              "    .dataframe tbody tr th {\n",
              "        vertical-align: top;\n",
              "    }\n",
              "\n",
              "    .dataframe thead th {\n",
              "        text-align: right;\n",
              "    }\n",
              "</style>\n",
              "<table border=\"1\" class=\"dataframe\">\n",
              "  <thead>\n",
              "    <tr style=\"text-align: right;\">\n",
              "      <th></th>\n",
              "      <th>review_id</th>\n",
              "      <th>product_id</th>\n",
              "      <th>reviewer_id</th>\n",
              "      <th>stars</th>\n",
              "      <th>review_body</th>\n",
              "      <th>review_title</th>\n",
              "      <th>language</th>\n",
              "      <th>product_category</th>\n",
              "    </tr>\n",
              "  </thead>\n",
              "  <tbody>\n",
              "    <tr>\n",
              "      <th>0</th>\n",
              "      <td>es_0417480</td>\n",
              "      <td>product_es_0873923</td>\n",
              "      <td>reviewer_es_0672978</td>\n",
              "      <td>1</td>\n",
              "      <td>Malisimo, muy grande demasiado aparatoso y mal...</td>\n",
              "      <td>Mala compra</td>\n",
              "      <td>es</td>\n",
              "      <td>wireless</td>\n",
              "    </tr>\n",
              "    <tr>\n",
              "      <th>1</th>\n",
              "      <td>es_0180432</td>\n",
              "      <td>product_es_0713146</td>\n",
              "      <td>reviewer_es_0100858</td>\n",
              "      <td>1</td>\n",
              "      <td>No he recibido el pedido no la devolución</td>\n",
              "      <td>No lo he recibido</td>\n",
              "      <td>es</td>\n",
              "      <td>apparel</td>\n",
              "    </tr>\n",
              "    <tr>\n",
              "      <th>2</th>\n",
              "      <td>es_0144850</td>\n",
              "      <td>product_es_0356874</td>\n",
              "      <td>reviewer_es_0486447</td>\n",
              "      <td>1</td>\n",
              "      <td>Tengo que buscar otro sistema, este no funcion...</td>\n",
              "      <td>Que no aprieta bien en el manillar</td>\n",
              "      <td>es</td>\n",
              "      <td>sports</td>\n",
              "    </tr>\n",
              "    <tr>\n",
              "      <th>3</th>\n",
              "      <td>es_0339629</td>\n",
              "      <td>product_es_0939832</td>\n",
              "      <td>reviewer_es_0894703</td>\n",
              "      <td>1</td>\n",
              "      <td>Utilicé las brocas de menor diámetro y se me d...</td>\n",
              "      <td>Brocas de mantequilla</td>\n",
              "      <td>es</td>\n",
              "      <td>home_improvement</td>\n",
              "    </tr>\n",
              "    <tr>\n",
              "      <th>4</th>\n",
              "      <td>es_0858362</td>\n",
              "      <td>product_es_0489066</td>\n",
              "      <td>reviewer_es_0887663</td>\n",
              "      <td>1</td>\n",
              "      <td>No me gusta su olor a viejo y aspecto malo</td>\n",
              "      <td>No me gusta</td>\n",
              "      <td>es</td>\n",
              "      <td>beauty</td>\n",
              "    </tr>\n",
              "  </tbody>\n",
              "</table>\n",
              "</div>"
            ],
            "text/plain": [
              "    review_id          product_id  ... language  product_category\n",
              "0  es_0417480  product_es_0873923  ...       es          wireless\n",
              "1  es_0180432  product_es_0713146  ...       es           apparel\n",
              "2  es_0144850  product_es_0356874  ...       es            sports\n",
              "3  es_0339629  product_es_0939832  ...       es  home_improvement\n",
              "4  es_0858362  product_es_0489066  ...       es            beauty\n",
              "\n",
              "[5 rows x 8 columns]"
            ]
          },
          "metadata": {
            "tags": []
          },
          "execution_count": 6
        }
      ]
    },
    {
      "cell_type": "markdown",
      "metadata": {
        "id": "UMkoQMU15L3t"
      },
      "source": [
        "En primer lugar se buscara describir el dataset respondiendo una serie de preguntas.\n",
        "\n",
        "1. **¿La distribucion de puntajes es equitativa en nuestro dataset?**"
      ]
    },
    {
      "cell_type": "code",
      "metadata": {
        "id": "TdmgJj2gvIlG",
        "colab": {
          "base_uri": "https://localhost:8080/",
          "height": 339
        },
        "outputId": "4a4be964-39fa-4508-8180-b92569d79cbb"
      },
      "source": [
        "#Distribucion de puntajes (estrellas) en el dataset.\n",
        "sns.countplot(dataset['stars'])\n",
        "plt.show()"
      ],
      "execution_count": null,
      "outputs": [
        {
          "output_type": "stream",
          "text": [
            "/usr/local/lib/python3.6/dist-packages/seaborn/_decorators.py:43: FutureWarning: Pass the following variable as a keyword arg: x. From version 0.12, the only valid positional argument will be `data`, and passing other arguments without an explicit keyword will result in an error or misinterpretation.\n",
            "  FutureWarning\n"
          ],
          "name": "stderr"
        },
        {
          "output_type": "display_data",
          "data": {
            "image/png": "[encoded data removed]",
            "text/plain": [
              "<Figure size 432x288 with 1 Axes>"
            ]
          },
          "metadata": {
            "tags": []
          }
        }
      ]
    },
    {
      "cell_type": "markdown",
      "metadata": {
        "id": "q6dUJXA957mN"
      },
      "source": [
        "Podemos ver que si, la distribucion de puntaje (stars) es equitativa para la muestra de datos. Esto sera clave para que el modelo de prediccion no esté sezgado.\n",
        "\n",
        "A continuacion se sigue describiendo el dataset para netenderlo mejor."
      ]
    },
    {
      "cell_type": "code",
      "metadata": {
        "id": "yp5SsCvK9zJf",
        "colab": {
          "base_uri": "https://localhost:8080/"
        },
        "outputId": "2b84280e-d94a-4cda-f045-fe51603ce14d"
      },
      "source": [
        "#Cantidad de productos diferentes en el dataset. \n",
        "dataset.product_id.describe()"
      ],
      "execution_count": null,
      "outputs": [
        {
          "output_type": "execute_result",
          "data": {
            "text/plain": [
              "count                   5000\n",
              "unique                  4964\n",
              "top       product_es_0066449\n",
              "freq                       2\n",
              "Name: product_id, dtype: object"
            ]
          },
          "metadata": {
            "tags": []
          },
          "execution_count": 8
        }
      ]
    },
    {
      "cell_type": "markdown",
      "metadata": {
        "id": "IomFSuhc6SPp"
      },
      "source": [
        "Hay 4964 productos diferentes en el dataset.\n",
        "\n",
        "El paso siguiente  es observar la cantidad de categorías en las que se clasifican estos productos."
      ]
    },
    {
      "cell_type": "code",
      "metadata": {
        "id": "5nTmdFu-a_pr",
        "colab": {
          "base_uri": "https://localhost:8080/"
        },
        "outputId": "7382ff05-813a-4d30-d571-3e225ce7c5a5"
      },
      "source": [
        "#Cantidad categorías en el datset.\n",
        "dataset.product_category.describe()"
      ],
      "execution_count": null,
      "outputs": [
        {
          "output_type": "execute_result",
          "data": {
            "text/plain": [
              "count         5000\n",
              "unique          30\n",
              "top       wireless\n",
              "freq           672\n",
              "Name: product_category, dtype: object"
            ]
          },
          "metadata": {
            "tags": []
          },
          "execution_count": 9
        }
      ]
    },
    {
      "cell_type": "markdown",
      "metadata": {
        "id": "yt2QButC6p85"
      },
      "source": [
        "Se puede observar que tenemos 30 categorías diferentes.\n",
        "\n",
        "A continuacion un diagrama describe la distribucion de los productos en dichas categorías."
      ]
    },
    {
      "cell_type": "code",
      "metadata": {
        "id": "JxRTnJYKcnTr",
        "colab": {
          "base_uri": "https://localhost:8080/",
          "height": 463
        },
        "outputId": "74dabdb4-775c-4406-e6d1-27c21ce1532a"
      },
      "source": [
        "#Distribucion de categorías en el datset.\n",
        "plt.figure(figsize = (22,6))\n",
        "sns.countplot(dataset['product_category'], order = dataset.product_category.value_counts().iloc[:30].index)\n",
        "plt.xticks(rotation =60)\n",
        "\n",
        "plt.show()"
      ],
      "execution_count": null,
      "outputs": [
        {
          "output_type": "stream",
          "text": [
            "/usr/local/lib/python3.6/dist-packages/seaborn/_decorators.py:43: FutureWarning: Pass the following variable as a keyword arg: x. From version 0.12, the only valid positional argument will be `data`, and passing other arguments without an explicit keyword will result in an error or misinterpretation.\n",
            "  FutureWarning\n"
          ],
          "name": "stderr"
        },
        {
          "output_type": "display_data",
          "data": {
            "image/png": "[encoded data removed]",
            "text/plain": [
              "<Figure size 1584x432 with 1 Axes>"
            ]
          },
          "metadata": {
            "tags": []
          }
        }
      ]
    },
    {
      "cell_type": "markdown",
      "metadata": {
        "id": "UQ4LGbQY-N7l"
      },
      "source": [
        "Podemos ver que las dos categorías mas populares son 'wierless' y 'home'. \n",
        "\n",
        "**Surge la pregunta: ¿Como se distribuyen los puntajes dentro de estas categorías?**\n"
      ]
    },
    {
      "cell_type": "code",
      "metadata": {
        "id": "A6ZiHBw9-eQn",
        "colab": {
          "base_uri": "https://localhost:8080/",
          "height": 339
        },
        "outputId": "e3a2ee62-8a99-4cd9-81b3-0d253b8b72ee"
      },
      "source": [
        "#Distribucion de puntajes dentro de la categoría wireless.\n",
        "data_wireless = dataset[dataset.product_category == 'wireless']\n",
        "sns.countplot(data_wireless['stars'])\n",
        "plt.show()"
      ],
      "execution_count": null,
      "outputs": [
        {
          "output_type": "stream",
          "text": [
            "/usr/local/lib/python3.6/dist-packages/seaborn/_decorators.py:43: FutureWarning: Pass the following variable as a keyword arg: x. From version 0.12, the only valid positional argument will be `data`, and passing other arguments without an explicit keyword will result in an error or misinterpretation.\n",
            "  FutureWarning\n"
          ],
          "name": "stderr"
        },
        {
          "output_type": "display_data",
          "data": {
            "image/png": "[encoded data removed]",
            "text/plain": [
              "<Figure size 432x288 with 1 Axes>"
            ]
          },
          "metadata": {
            "tags": []
          }
        }
      ]
    },
    {
      "cell_type": "markdown",
      "metadata": {
        "id": "lX4GOP7gG1BO"
      },
      "source": [
        "En el diagrama podemos observar los puntajes dentro de la categoría wireless. Podemos ver que dentro de la categoría los puntajes no estan perfectamente distribuidos. Un defasaje grande podria llegar a perjudicar el modelo final debido a que se podria generar un sezgo. Esto es por que si en determinada categoría tendríamos muchos puntajes negativos y hay palabras \"negativas\" que unicamente se asocian a la categoría, se veeria reflejado en el modelo.\n",
        "\n",
        "En este caso como el defasaje de puntajes es pequeño, podemos asumir que el sezgo no es significativo."
      ]
    },
    {
      "cell_type": "code",
      "metadata": {
        "id": "Tfixdqnh_oBi",
        "colab": {
          "base_uri": "https://localhost:8080/",
          "height": 339
        },
        "outputId": "b2636b40-7f82-405b-9cf6-c9bcc6d67066"
      },
      "source": [
        "#Distribucion de puntajes dentro de la categoría home.\n",
        "data_home = dataset[dataset.product_category == 'home']\n",
        "sns.countplot(data_home['stars'])\n",
        "plt.show()"
      ],
      "execution_count": null,
      "outputs": [
        {
          "output_type": "stream",
          "text": [
            "/usr/local/lib/python3.6/dist-packages/seaborn/_decorators.py:43: FutureWarning: Pass the following variable as a keyword arg: x. From version 0.12, the only valid positional argument will be `data`, and passing other arguments without an explicit keyword will result in an error or misinterpretation.\n",
            "  FutureWarning\n"
          ],
          "name": "stderr"
        },
        {
          "output_type": "display_data",
          "data": {
            "image/png": "[encoded data removed]",
            "text/plain": [
              "<Figure size 432x288 with 1 Axes>"
            ]
          },
          "metadata": {
            "tags": []
          }
        }
      ]
    },
    {
      "cell_type": "markdown",
      "metadata": {
        "id": "Wa49G8JQ_3zW"
      },
      "source": [
        "Se puede observar que en este caso el defasaje de puntajes dentro de la categoría es aún menor.\n",
        "Dentro de las categorías la distribucion de puntajes no es equitativa. Sin embargo los defasajes de puntaje no son grandes y podemos concluir que no resultaran afectando el modelo final."
      ]
    },
    {
      "cell_type": "markdown",
      "metadata": {
        "id": "gZ2-5JPJAJuq"
      },
      "source": [
        "#Stemming\n",
        "\n",
        "Se procede a aplicar las herramientas de procesamiento de lenguaje natural al dataset. En un primer caso aplicamos las herramientas de stemming de nltk para tokenizar las reseñas del dataset.\n"
      ]
    },
    {
      "cell_type": "code",
      "metadata": {
        "id": "WyiPNd_1Hfhb"
      },
      "source": [
        "# Se definen los stopwords en español\n",
        "# Se elimina la palabra 'no' del arreglo ya que puede llegar a ser desiciva para catalogar referencias positivas o negativas.\n",
        "from nltk.corpus import stopwords\n",
        "stopwords = set(stopwords.words('spanish'))\n",
        "stopwords.remove('no')"
      ],
      "execution_count": null,
      "outputs": []
    },
    {
      "cell_type": "code",
      "metadata": {
        "id": "JItJiE6HIsT9"
      },
      "source": [
        "\n",
        "# Importamos esta libreria que nos permite reemplzar caracteres\n",
        "import re\n",
        "\n",
        "#Definimos el stemmer\n",
        "spanish_stemmer = nltk.stem.SnowballStemmer('spanish')\n",
        "\n",
        "# Traemos nuevamente las stopwords\n",
        "stopwords = nltk.corpus.stopwords.words('spanish')\n",
        "stopwords.remove('no')\n"
      ],
      "execution_count": null,
      "outputs": []
    },
    {
      "cell_type": "code",
      "metadata": {
        "id": "yMKCD1HeIwzF"
      },
      "source": [
        "\n",
        "# Recorremos todos los titulos y le vamos aplicando la Normalizacion y luega el Stemming a cada uno\n",
        "titular_list=[]\n",
        "for titular in dataset.review_body:\n",
        "    # Vamos a reemplzar los caracteres que no sean letras por espacios\n",
        "    titular=re.sub(\"[^a-zA-Z]\",\" \",str(titular))\n",
        "    # Pasamos todo a minúsculas\n",
        "    titular=titular.lower()\n",
        "    # Tokenizamos para separar las palabras del titular\n",
        "    titular=nltk.word_tokenize(titular)\n",
        "    # Eliminamos las palabras de menos de 2 letras\n",
        "    titular = [palabra for palabra in titular if len(palabra)>1]\n",
        "    # Sacamos las Stopwords\n",
        "    titular = [palabra for palabra in titular if not palabra in stopwords]\n",
        "    \n",
        "    ## Hasta acá Normalizamos, ahora a stemmizar\n",
        "    # Aplicamos la funcion para buscar la raiz de las palabras\n",
        "    titular=[spanish_stemmer.stem(palabra) for palabra in titular]\n",
        "    # Por ultimo volvemos a unir el titular\n",
        "    titular=\" \".join(titular)\n",
        "    # Vamos armando una lista con todos los titulares\n",
        "    titular_list.append(titular)\n",
        "    #dataset[\"titular_normalizado\"] = titular_list"
      ],
      "execution_count": null,
      "outputs": []
    },
    {
      "cell_type": "code",
      "metadata": {
        "id": "KdSAZUtUJBha",
        "colab": {
          "base_uri": "https://localhost:8080/",
          "height": 547
        },
        "outputId": "c98e92d4-27d2-46de-c37a-4cb6fa155998"
      },
      "source": [
        "# Agregamos al dataset una columna con la reseña stemmizada\n",
        "dataset[\"body_stem\"] = titular_list\n",
        "dataset.tail()"
      ],
      "execution_count": null,
      "outputs": [
        {
          "output_type": "execute_result",
          "data": {
            "text/html": [
              "<div>\n",
              "<style scoped>\n",
              "    .dataframe tbody tr th:only-of-type {\n",
              "        vertical-align: middle;\n",
              "    }\n",
              "\n",
              "    .dataframe tbody tr th {\n",
              "        vertical-align: top;\n",
              "    }\n",
              "\n",
              "    .dataframe thead th {\n",
              "        text-align: right;\n",
              "    }\n",
              "</style>\n",
              "<table border=\"1\" class=\"dataframe\">\n",
              "  <thead>\n",
              "    <tr style=\"text-align: right;\">\n",
              "      <th></th>\n",
              "      <th>review_id</th>\n",
              "      <th>product_id</th>\n",
              "      <th>reviewer_id</th>\n",
              "      <th>stars</th>\n",
              "      <th>review_body</th>\n",
              "      <th>review_title</th>\n",
              "      <th>language</th>\n",
              "      <th>product_category</th>\n",
              "      <th>body_stem</th>\n",
              "    </tr>\n",
              "  </thead>\n",
              "  <tbody>\n",
              "    <tr>\n",
              "      <th>4995</th>\n",
              "      <td>es_0179515</td>\n",
              "      <td>product_es_0158275</td>\n",
              "      <td>reviewer_es_0273644</td>\n",
              "      <td>5</td>\n",
              "      <td>Me ha encantado la cesta. Ha llegado impecable...</td>\n",
              "      <td>guadalupe</td>\n",
              "      <td>es</td>\n",
              "      <td>home</td>\n",
              "      <td>encant cest lleg impec tam util no pes firm qu...</td>\n",
              "    </tr>\n",
              "    <tr>\n",
              "      <th>4996</th>\n",
              "      <td>es_0894902</td>\n",
              "      <td>product_es_0953259</td>\n",
              "      <td>reviewer_es_0153773</td>\n",
              "      <td>5</td>\n",
              "      <td>Desempeña su función correctamente</td>\n",
              "      <td>calidad precio</td>\n",
              "      <td>es</td>\n",
              "      <td>camera</td>\n",
              "      <td>desemp funci correct</td>\n",
              "    </tr>\n",
              "    <tr>\n",
              "      <th>4997</th>\n",
              "      <td>es_0760496</td>\n",
              "      <td>product_es_0731995</td>\n",
              "      <td>reviewer_es_0171091</td>\n",
              "      <td>5</td>\n",
              "      <td>Me ha encantado la diadema! Las flores son tal...</td>\n",
              "      <td>Excelente</td>\n",
              "      <td>es</td>\n",
              "      <td>toy</td>\n",
              "      <td>encant diadem flor tal vien imag no ven an apl...</td>\n",
              "    </tr>\n",
              "    <tr>\n",
              "      <th>4998</th>\n",
              "      <td>es_0178380</td>\n",
              "      <td>product_es_0402051</td>\n",
              "      <td>reviewer_es_0686937</td>\n",
              "      <td>5</td>\n",
              "      <td>A mi me gustan mucho las fundas TPU, ya que so...</td>\n",
              "      <td>Genial</td>\n",
              "      <td>es</td>\n",
              "      <td>wireless</td>\n",
              "      <td>gust fund tpu fund normal fin color hac vil bo...</td>\n",
              "    </tr>\n",
              "    <tr>\n",
              "      <th>4999</th>\n",
              "      <td>es_0810087</td>\n",
              "      <td>product_es_0684221</td>\n",
              "      <td>reviewer_es_0613091</td>\n",
              "      <td>5</td>\n",
              "      <td>El artículo ha cumplido con las expectativas q...</td>\n",
              "      <td>Buena calidad</td>\n",
              "      <td>es</td>\n",
              "      <td>apparel</td>\n",
              "      <td>art cul cumpl expect des</td>\n",
              "    </tr>\n",
              "  </tbody>\n",
              "</table>\n",
              "</div>"
            ],
            "text/plain": [
              "       review_id  ...                                          body_stem\n",
              "4995  es_0179515  ...  encant cest lleg impec tam util no pes firm qu...\n",
              "4996  es_0894902  ...                               desemp funci correct\n",
              "4997  es_0760496  ...  encant diadem flor tal vien imag no ven an apl...\n",
              "4998  es_0178380  ...  gust fund tpu fund normal fin color hac vil bo...\n",
              "4999  es_0810087  ...                           art cul cumpl expect des\n",
              "\n",
              "[5 rows x 9 columns]"
            ]
          },
          "metadata": {
            "tags": []
          },
          "execution_count": 16
        }
      ]
    },
    {
      "cell_type": "code",
      "metadata": {
        "id": "03H-j8sAJPNu"
      },
      "source": [
        "\n",
        "# Recorremos todos los titulos y le vamos aplicando la Normalizacion y luega el Stemming a cada uno\n",
        "titular_list=[]\n",
        "for titular in dataset.review_title:\n",
        "    # Vamos a reemplzar los caracteres que no sean letras por espacios\n",
        "    titular=re.sub(\"[^a-zA-Z]\",\" \",str(titular))\n",
        "    # Pasamos todo a minúsculas\n",
        "    titular=titular.lower()\n",
        "    # Tokenizamos para separar las palabras del titular\n",
        "    titular=nltk.word_tokenize(titular)\n",
        "    # Eliminamos las palabras de menos de 2 letras\n",
        "    titular = [palabra for palabra in titular if len(palabra)>1]\n",
        "    # Sacamos las Stopwords\n",
        "    titular = [palabra for palabra in titular if not palabra in stopwords]\n",
        "    \n",
        "    ## Hasta acá Normalizamos, ahora a stemmizar\n",
        "    # Aplicamos la funcion para buscar la raiz de las palabras\n",
        "    titular=[spanish_stemmer.stem(palabra) for palabra in titular]\n",
        "    # Por ultimo volvemos a unir el titular\n",
        "    titular=\" \".join(titular)\n",
        "        # Vamos armando una lista con todos los titulares\n",
        "    titular_list.append(titular)\n",
        "    #dataset[\"titular_normalizado\"] = titular_list"
      ],
      "execution_count": null,
      "outputs": []
    },
    {
      "cell_type": "code",
      "metadata": {
        "id": "LTxwm3QQJW-j",
        "colab": {
          "base_uri": "https://localhost:8080/",
          "height": 547
        },
        "outputId": "22add298-7dfa-42ad-d414-e16e6c9346c4"
      },
      "source": [
        "#@title\n",
        "dataset[\"title_stem\"] = titular_list\n",
        "dataset.tail()"
      ],
      "execution_count": null,
      "outputs": [
        {
          "output_type": "execute_result",
          "data": {
            "text/html": [
              "<div>\n",
              "<style scoped>\n",
              "    .dataframe tbody tr th:only-of-type {\n",
              "        vertical-align: middle;\n",
              "    }\n",
              "\n",
              "    .dataframe tbody tr th {\n",
              "        vertical-align: top;\n",
              "    }\n",
              "\n",
              "    .dataframe thead th {\n",
              "        text-align: right;\n",
              "    }\n",
              "</style>\n",
              "<table border=\"1\" class=\"dataframe\">\n",
              "  <thead>\n",
              "    <tr style=\"text-align: right;\">\n",
              "      <th></th>\n",
              "      <th>review_id</th>\n",
              "      <th>product_id</th>\n",
              "      <th>reviewer_id</th>\n",
              "      <th>stars</th>\n",
              "      <th>review_body</th>\n",
              "      <th>review_title</th>\n",
              "      <th>language</th>\n",
              "      <th>product_category</th>\n",
              "      <th>body_stem</th>\n",
              "      <th>title_stem</th>\n",
              "    </tr>\n",
              "  </thead>\n",
              "  <tbody>\n",
              "    <tr>\n",
              "      <th>4995</th>\n",
              "      <td>es_0179515</td>\n",
              "      <td>product_es_0158275</td>\n",
              "      <td>reviewer_es_0273644</td>\n",
              "      <td>5</td>\n",
              "      <td>Me ha encantado la cesta. Ha llegado impecable...</td>\n",
              "      <td>guadalupe</td>\n",
              "      <td>es</td>\n",
              "      <td>home</td>\n",
              "      <td>encant cest lleg impec tam util no pes firm qu...</td>\n",
              "      <td>guadalup</td>\n",
              "    </tr>\n",
              "    <tr>\n",
              "      <th>4996</th>\n",
              "      <td>es_0894902</td>\n",
              "      <td>product_es_0953259</td>\n",
              "      <td>reviewer_es_0153773</td>\n",
              "      <td>5</td>\n",
              "      <td>Desempeña su función correctamente</td>\n",
              "      <td>calidad precio</td>\n",
              "      <td>es</td>\n",
              "      <td>camera</td>\n",
              "      <td>desemp funci correct</td>\n",
              "      <td>calid preci</td>\n",
              "    </tr>\n",
              "    <tr>\n",
              "      <th>4997</th>\n",
              "      <td>es_0760496</td>\n",
              "      <td>product_es_0731995</td>\n",
              "      <td>reviewer_es_0171091</td>\n",
              "      <td>5</td>\n",
              "      <td>Me ha encantado la diadema! Las flores son tal...</td>\n",
              "      <td>Excelente</td>\n",
              "      <td>es</td>\n",
              "      <td>toy</td>\n",
              "      <td>encant diadem flor tal vien imag no ven an apl...</td>\n",
              "      <td>excelent</td>\n",
              "    </tr>\n",
              "    <tr>\n",
              "      <th>4998</th>\n",
              "      <td>es_0178380</td>\n",
              "      <td>product_es_0402051</td>\n",
              "      <td>reviewer_es_0686937</td>\n",
              "      <td>5</td>\n",
              "      <td>A mi me gustan mucho las fundas TPU, ya que so...</td>\n",
              "      <td>Genial</td>\n",
              "      <td>es</td>\n",
              "      <td>wireless</td>\n",
              "      <td>gust fund tpu fund normal fin color hac vil bo...</td>\n",
              "      <td>genial</td>\n",
              "    </tr>\n",
              "    <tr>\n",
              "      <th>4999</th>\n",
              "      <td>es_0810087</td>\n",
              "      <td>product_es_0684221</td>\n",
              "      <td>reviewer_es_0613091</td>\n",
              "      <td>5</td>\n",
              "      <td>El artículo ha cumplido con las expectativas q...</td>\n",
              "      <td>Buena calidad</td>\n",
              "      <td>es</td>\n",
              "      <td>apparel</td>\n",
              "      <td>art cul cumpl expect des</td>\n",
              "      <td>buen calid</td>\n",
              "    </tr>\n",
              "  </tbody>\n",
              "</table>\n",
              "</div>"
            ],
            "text/plain": [
              "       review_id  ...   title_stem\n",
              "4995  es_0179515  ...     guadalup\n",
              "4996  es_0894902  ...  calid preci\n",
              "4997  es_0760496  ...     excelent\n",
              "4998  es_0178380  ...       genial\n",
              "4999  es_0810087  ...   buen calid\n",
              "\n",
              "[5 rows x 10 columns]"
            ]
          },
          "metadata": {
            "tags": []
          },
          "execution_count": 18
        }
      ]
    },
    {
      "cell_type": "code",
      "metadata": {
        "id": "NtgBOSPzJbkf",
        "colab": {
          "base_uri": "https://localhost:8080/",
          "height": 204
        },
        "outputId": "1dfadc75-e25b-4c05-9e06-ebd33f8ba9f7"
      },
      "source": [
        "#Seleccionamos unicamente las columnas que nos importa analizar\n",
        "dataset_stem=pd.concat([dataset.body_stem,dataset.title_stem,dataset.stars],axis=1)\n",
        "dataset_stem.dropna(axis=0,inplace=True)  # Por si quedaron titulares vacios\n",
        "dataset_stem.head()"
      ],
      "execution_count": null,
      "outputs": [
        {
          "output_type": "execute_result",
          "data": {
            "text/html": [
              "<div>\n",
              "<style scoped>\n",
              "    .dataframe tbody tr th:only-of-type {\n",
              "        vertical-align: middle;\n",
              "    }\n",
              "\n",
              "    .dataframe tbody tr th {\n",
              "        vertical-align: top;\n",
              "    }\n",
              "\n",
              "    .dataframe thead th {\n",
              "        text-align: right;\n",
              "    }\n",
              "</style>\n",
              "<table border=\"1\" class=\"dataframe\">\n",
              "  <thead>\n",
              "    <tr style=\"text-align: right;\">\n",
              "      <th></th>\n",
              "      <th>body_stem</th>\n",
              "      <th>title_stem</th>\n",
              "      <th>stars</th>\n",
              "    </tr>\n",
              "  </thead>\n",
              "  <tbody>\n",
              "    <tr>\n",
              "      <th>0</th>\n",
              "      <td>malisim grand demasi aparat mal protector pantall</td>\n",
              "      <td>mal compr</td>\n",
              "      <td>1</td>\n",
              "    </tr>\n",
              "    <tr>\n",
              "      <th>1</th>\n",
              "      <td>no recib ped no devoluci</td>\n",
              "      <td>no recib</td>\n",
              "      <td>1</td>\n",
              "    </tr>\n",
              "    <tr>\n",
              "      <th>2</th>\n",
              "      <td>busc sistem no funcion bien abrazader llev aga...</td>\n",
              "      <td>no apriet bien manill</td>\n",
              "      <td>1</td>\n",
              "    </tr>\n",
              "    <tr>\n",
              "      <th>3</th>\n",
              "      <td>utilic broc menor di metr dobl vari si mantequ...</td>\n",
              "      <td>broc mantequill</td>\n",
              "      <td>1</td>\n",
              "    </tr>\n",
              "    <tr>\n",
              "      <th>4</th>\n",
              "      <td>no gust olor viej aspect mal</td>\n",
              "      <td>no gust</td>\n",
              "      <td>1</td>\n",
              "    </tr>\n",
              "  </tbody>\n",
              "</table>\n",
              "</div>"
            ],
            "text/plain": [
              "                                           body_stem  ... stars\n",
              "0  malisim grand demasi aparat mal protector pantall  ...     1\n",
              "1                           no recib ped no devoluci  ...     1\n",
              "2  busc sistem no funcion bien abrazader llev aga...  ...     1\n",
              "3  utilic broc menor di metr dobl vari si mantequ...  ...     1\n",
              "4                       no gust olor viej aspect mal  ...     1\n",
              "\n",
              "[5 rows x 3 columns]"
            ]
          },
          "metadata": {
            "tags": []
          },
          "execution_count": 19
        }
      ]
    },
    {
      "cell_type": "code",
      "metadata": {
        "id": "qmFwFpicJpcV",
        "colab": {
          "base_uri": "https://localhost:8080/",
          "height": 419
        },
        "outputId": "68c1827c-5a60-4c6c-cf30-010e142bded7"
      },
      "source": [
        "#creamos una columna auxiliar uniendo el titulo y la reseña\n",
        "dataset_stem['body_and_title'] = dataset_stem['body_stem'] + dataset_stem['title_stem']\n",
        "dataset_stem"
      ],
      "execution_count": null,
      "outputs": [
        {
          "output_type": "execute_result",
          "data": {
            "text/html": [
              "<div>\n",
              "<style scoped>\n",
              "    .dataframe tbody tr th:only-of-type {\n",
              "        vertical-align: middle;\n",
              "    }\n",
              "\n",
              "    .dataframe tbody tr th {\n",
              "        vertical-align: top;\n",
              "    }\n",
              "\n",
              "    .dataframe thead th {\n",
              "        text-align: right;\n",
              "    }\n",
              "</style>\n",
              "<table border=\"1\" class=\"dataframe\">\n",
              "  <thead>\n",
              "    <tr style=\"text-align: right;\">\n",
              "      <th></th>\n",
              "      <th>body_stem</th>\n",
              "      <th>title_stem</th>\n",
              "      <th>stars</th>\n",
              "      <th>body_and_title</th>\n",
              "    </tr>\n",
              "  </thead>\n",
              "  <tbody>\n",
              "    <tr>\n",
              "      <th>0</th>\n",
              "      <td>malisim grand demasi aparat mal protector pantall</td>\n",
              "      <td>mal compr</td>\n",
              "      <td>1</td>\n",
              "      <td>malisim grand demasi aparat mal protector pant...</td>\n",
              "    </tr>\n",
              "    <tr>\n",
              "      <th>1</th>\n",
              "      <td>no recib ped no devoluci</td>\n",
              "      <td>no recib</td>\n",
              "      <td>1</td>\n",
              "      <td>no recib ped no devolucino recib</td>\n",
              "    </tr>\n",
              "    <tr>\n",
              "      <th>2</th>\n",
              "      <td>busc sistem no funcion bien abrazader llev aga...</td>\n",
              "      <td>no apriet bien manill</td>\n",
              "      <td>1</td>\n",
              "      <td>busc sistem no funcion bien abrazader llev aga...</td>\n",
              "    </tr>\n",
              "    <tr>\n",
              "      <th>3</th>\n",
              "      <td>utilic broc menor di metr dobl vari si mantequ...</td>\n",
              "      <td>broc mantequill</td>\n",
              "      <td>1</td>\n",
              "      <td>utilic broc menor di metr dobl vari si mantequ...</td>\n",
              "    </tr>\n",
              "    <tr>\n",
              "      <th>4</th>\n",
              "      <td>no gust olor viej aspect mal</td>\n",
              "      <td>no gust</td>\n",
              "      <td>1</td>\n",
              "      <td>no gust olor viej aspect malno gust</td>\n",
              "    </tr>\n",
              "    <tr>\n",
              "      <th>...</th>\n",
              "      <td>...</td>\n",
              "      <td>...</td>\n",
              "      <td>...</td>\n",
              "      <td>...</td>\n",
              "    </tr>\n",
              "    <tr>\n",
              "      <th>4995</th>\n",
              "      <td>encant cest lleg impec tam util no pes firm qu...</td>\n",
              "      <td>guadalup</td>\n",
              "      <td>5</td>\n",
              "      <td>encant cest lleg impec tam util no pes firm qu...</td>\n",
              "    </tr>\n",
              "    <tr>\n",
              "      <th>4996</th>\n",
              "      <td>desemp funci correct</td>\n",
              "      <td>calid preci</td>\n",
              "      <td>5</td>\n",
              "      <td>desemp funci correctcalid preci</td>\n",
              "    </tr>\n",
              "    <tr>\n",
              "      <th>4997</th>\n",
              "      <td>encant diadem flor tal vien imag no ven an apl...</td>\n",
              "      <td>excelent</td>\n",
              "      <td>5</td>\n",
              "      <td>encant diadem flor tal vien imag no ven an apl...</td>\n",
              "    </tr>\n",
              "    <tr>\n",
              "      <th>4998</th>\n",
              "      <td>gust fund tpu fund normal fin color hac vil bo...</td>\n",
              "      <td>genial</td>\n",
              "      <td>5</td>\n",
              "      <td>gust fund tpu fund normal fin color hac vil bo...</td>\n",
              "    </tr>\n",
              "    <tr>\n",
              "      <th>4999</th>\n",
              "      <td>art cul cumpl expect des</td>\n",
              "      <td>buen calid</td>\n",
              "      <td>5</td>\n",
              "      <td>art cul cumpl expect desbuen calid</td>\n",
              "    </tr>\n",
              "  </tbody>\n",
              "</table>\n",
              "<p>5000 rows × 4 columns</p>\n",
              "</div>"
            ],
            "text/plain": [
              "                                              body_stem  ...                                     body_and_title\n",
              "0     malisim grand demasi aparat mal protector pantall  ...  malisim grand demasi aparat mal protector pant...\n",
              "1                              no recib ped no devoluci  ...                   no recib ped no devolucino recib\n",
              "2     busc sistem no funcion bien abrazader llev aga...  ...  busc sistem no funcion bien abrazader llev aga...\n",
              "3     utilic broc menor di metr dobl vari si mantequ...  ...  utilic broc menor di metr dobl vari si mantequ...\n",
              "4                          no gust olor viej aspect mal  ...                no gust olor viej aspect malno gust\n",
              "...                                                 ...  ...                                                ...\n",
              "4995  encant cest lleg impec tam util no pes firm qu...  ...  encant cest lleg impec tam util no pes firm qu...\n",
              "4996                               desemp funci correct  ...                    desemp funci correctcalid preci\n",
              "4997  encant diadem flor tal vien imag no ven an apl...  ...  encant diadem flor tal vien imag no ven an apl...\n",
              "4998  gust fund tpu fund normal fin color hac vil bo...  ...  gust fund tpu fund normal fin color hac vil bo...\n",
              "4999                           art cul cumpl expect des  ...                 art cul cumpl expect desbuen calid\n",
              "\n",
              "[5000 rows x 4 columns]"
            ]
          },
          "metadata": {
            "tags": []
          },
          "execution_count": 20
        }
      ]
    },
    {
      "cell_type": "code",
      "metadata": {
        "id": "QL09NEYgjBRs",
        "colab": {
          "base_uri": "https://localhost:8080/",
          "height": 419
        },
        "outputId": "9e046a3f-bf6e-446f-b359-3317d3f2eb02"
      },
      "source": [
        "#creamos una etiqueta para saber si la reseña fue positiva o negativa\n",
        "dataset_stem['review'] = ['negative' if x <= 2 else 'positive' for x in dataset_stem['stars']]\n",
        "dataset_stem"
      ],
      "execution_count": null,
      "outputs": [
        {
          "output_type": "execute_result",
          "data": {
            "text/html": [
              "<div>\n",
              "<style scoped>\n",
              "    .dataframe tbody tr th:only-of-type {\n",
              "        vertical-align: middle;\n",
              "    }\n",
              "\n",
              "    .dataframe tbody tr th {\n",
              "        vertical-align: top;\n",
              "    }\n",
              "\n",
              "    .dataframe thead th {\n",
              "        text-align: right;\n",
              "    }\n",
              "</style>\n",
              "<table border=\"1\" class=\"dataframe\">\n",
              "  <thead>\n",
              "    <tr style=\"text-align: right;\">\n",
              "      <th></th>\n",
              "      <th>body_stem</th>\n",
              "      <th>title_stem</th>\n",
              "      <th>stars</th>\n",
              "      <th>body_and_title</th>\n",
              "      <th>review</th>\n",
              "    </tr>\n",
              "  </thead>\n",
              "  <tbody>\n",
              "    <tr>\n",
              "      <th>0</th>\n",
              "      <td>malisim grand demasi aparat mal protector pantall</td>\n",
              "      <td>mal compr</td>\n",
              "      <td>1</td>\n",
              "      <td>malisim grand demasi aparat mal protector pant...</td>\n",
              "      <td>negative</td>\n",
              "    </tr>\n",
              "    <tr>\n",
              "      <th>1</th>\n",
              "      <td>no recib ped no devoluci</td>\n",
              "      <td>no recib</td>\n",
              "      <td>1</td>\n",
              "      <td>no recib ped no devolucino recib</td>\n",
              "      <td>negative</td>\n",
              "    </tr>\n",
              "    <tr>\n",
              "      <th>2</th>\n",
              "      <td>busc sistem no funcion bien abrazader llev aga...</td>\n",
              "      <td>no apriet bien manill</td>\n",
              "      <td>1</td>\n",
              "      <td>busc sistem no funcion bien abrazader llev aga...</td>\n",
              "      <td>negative</td>\n",
              "    </tr>\n",
              "    <tr>\n",
              "      <th>3</th>\n",
              "      <td>utilic broc menor di metr dobl vari si mantequ...</td>\n",
              "      <td>broc mantequill</td>\n",
              "      <td>1</td>\n",
              "      <td>utilic broc menor di metr dobl vari si mantequ...</td>\n",
              "      <td>negative</td>\n",
              "    </tr>\n",
              "    <tr>\n",
              "      <th>4</th>\n",
              "      <td>no gust olor viej aspect mal</td>\n",
              "      <td>no gust</td>\n",
              "      <td>1</td>\n",
              "      <td>no gust olor viej aspect malno gust</td>\n",
              "      <td>negative</td>\n",
              "    </tr>\n",
              "    <tr>\n",
              "      <th>...</th>\n",
              "      <td>...</td>\n",
              "      <td>...</td>\n",
              "      <td>...</td>\n",
              "      <td>...</td>\n",
              "      <td>...</td>\n",
              "    </tr>\n",
              "    <tr>\n",
              "      <th>4995</th>\n",
              "      <td>encant cest lleg impec tam util no pes firm qu...</td>\n",
              "      <td>guadalup</td>\n",
              "      <td>5</td>\n",
              "      <td>encant cest lleg impec tam util no pes firm qu...</td>\n",
              "      <td>positive</td>\n",
              "    </tr>\n",
              "    <tr>\n",
              "      <th>4996</th>\n",
              "      <td>desemp funci correct</td>\n",
              "      <td>calid preci</td>\n",
              "      <td>5</td>\n",
              "      <td>desemp funci correctcalid preci</td>\n",
              "      <td>positive</td>\n",
              "    </tr>\n",
              "    <tr>\n",
              "      <th>4997</th>\n",
              "      <td>encant diadem flor tal vien imag no ven an apl...</td>\n",
              "      <td>excelent</td>\n",
              "      <td>5</td>\n",
              "      <td>encant diadem flor tal vien imag no ven an apl...</td>\n",
              "      <td>positive</td>\n",
              "    </tr>\n",
              "    <tr>\n",
              "      <th>4998</th>\n",
              "      <td>gust fund tpu fund normal fin color hac vil bo...</td>\n",
              "      <td>genial</td>\n",
              "      <td>5</td>\n",
              "      <td>gust fund tpu fund normal fin color hac vil bo...</td>\n",
              "      <td>positive</td>\n",
              "    </tr>\n",
              "    <tr>\n",
              "      <th>4999</th>\n",
              "      <td>art cul cumpl expect des</td>\n",
              "      <td>buen calid</td>\n",
              "      <td>5</td>\n",
              "      <td>art cul cumpl expect desbuen calid</td>\n",
              "      <td>positive</td>\n",
              "    </tr>\n",
              "  </tbody>\n",
              "</table>\n",
              "<p>5000 rows × 5 columns</p>\n",
              "</div>"
            ],
            "text/plain": [
              "                                              body_stem  ...    review\n",
              "0     malisim grand demasi aparat mal protector pantall  ...  negative\n",
              "1                              no recib ped no devoluci  ...  negative\n",
              "2     busc sistem no funcion bien abrazader llev aga...  ...  negative\n",
              "3     utilic broc menor di metr dobl vari si mantequ...  ...  negative\n",
              "4                          no gust olor viej aspect mal  ...  negative\n",
              "...                                                 ...  ...       ...\n",
              "4995  encant cest lleg impec tam util no pes firm qu...  ...  positive\n",
              "4996                               desemp funci correct  ...  positive\n",
              "4997  encant diadem flor tal vien imag no ven an apl...  ...  positive\n",
              "4998  gust fund tpu fund normal fin color hac vil bo...  ...  positive\n",
              "4999                           art cul cumpl expect des  ...  positive\n",
              "\n",
              "[5000 rows x 5 columns]"
            ]
          },
          "metadata": {
            "tags": []
          },
          "execution_count": 21
        }
      ]
    },
    {
      "cell_type": "markdown",
      "metadata": {
        "id": "S4sZhhH6Jkmo"
      },
      "source": [
        "Ahora que nuestro dataset está listo para trabajar luego de haber creado columnas auxiliares y eliminado las que no usaremos. Ahora nos proponemos responder la siguiente pregunta: \n",
        "\n",
        "**¿Que palabras son las más utilizadas en las reseñas negativas? ¿Y en las positivas?**"
      ]
    },
    {
      "cell_type": "markdown",
      "metadata": {
        "id": "dFRIKg5ElfVj"
      },
      "source": [
        "#Analisis de Reseñas Negativas con Stemming\n",
        "\n",
        "En esta seccion analizaremos las palabras mas frecuentes a encontrar en reseñas \"negativas\". Continuaremos trabajando con el dataset en el que se trabajo con stemming."
      ]
    },
    {
      "cell_type": "code",
      "metadata": {
        "id": "2RvT_O-Xle-C",
        "colab": {
          "base_uri": "https://localhost:8080/",
          "height": 204
        },
        "outputId": "71df2d69-9c79-401f-f131-6bd4dd18e8c3"
      },
      "source": [
        "#@title\n",
        "dataset_negative = dataset_stem[dataset_stem.review=='negative']\n",
        "dataset_negative.head()"
      ],
      "execution_count": null,
      "outputs": [
        {
          "output_type": "execute_result",
          "data": {
            "text/html": [
              "<div>\n",
              "<style scoped>\n",
              "    .dataframe tbody tr th:only-of-type {\n",
              "        vertical-align: middle;\n",
              "    }\n",
              "\n",
              "    .dataframe tbody tr th {\n",
              "        vertical-align: top;\n",
              "    }\n",
              "\n",
              "    .dataframe thead th {\n",
              "        text-align: right;\n",
              "    }\n",
              "</style>\n",
              "<table border=\"1\" class=\"dataframe\">\n",
              "  <thead>\n",
              "    <tr style=\"text-align: right;\">\n",
              "      <th></th>\n",
              "      <th>body_stem</th>\n",
              "      <th>title_stem</th>\n",
              "      <th>stars</th>\n",
              "      <th>body_and_title</th>\n",
              "      <th>review</th>\n",
              "    </tr>\n",
              "  </thead>\n",
              "  <tbody>\n",
              "    <tr>\n",
              "      <th>0</th>\n",
              "      <td>malisim grand demasi aparat mal protector pantall</td>\n",
              "      <td>mal compr</td>\n",
              "      <td>1</td>\n",
              "      <td>malisim grand demasi aparat mal protector pant...</td>\n",
              "      <td>negative</td>\n",
              "    </tr>\n",
              "    <tr>\n",
              "      <th>1</th>\n",
              "      <td>no recib ped no devoluci</td>\n",
              "      <td>no recib</td>\n",
              "      <td>1</td>\n",
              "      <td>no recib ped no devolucino recib</td>\n",
              "      <td>negative</td>\n",
              "    </tr>\n",
              "    <tr>\n",
              "      <th>2</th>\n",
              "      <td>busc sistem no funcion bien abrazader llev aga...</td>\n",
              "      <td>no apriet bien manill</td>\n",
              "      <td>1</td>\n",
              "      <td>busc sistem no funcion bien abrazader llev aga...</td>\n",
              "      <td>negative</td>\n",
              "    </tr>\n",
              "    <tr>\n",
              "      <th>3</th>\n",
              "      <td>utilic broc menor di metr dobl vari si mantequ...</td>\n",
              "      <td>broc mantequill</td>\n",
              "      <td>1</td>\n",
              "      <td>utilic broc menor di metr dobl vari si mantequ...</td>\n",
              "      <td>negative</td>\n",
              "    </tr>\n",
              "    <tr>\n",
              "      <th>4</th>\n",
              "      <td>no gust olor viej aspect mal</td>\n",
              "      <td>no gust</td>\n",
              "      <td>1</td>\n",
              "      <td>no gust olor viej aspect malno gust</td>\n",
              "      <td>negative</td>\n",
              "    </tr>\n",
              "  </tbody>\n",
              "</table>\n",
              "</div>"
            ],
            "text/plain": [
              "                                           body_stem  ...    review\n",
              "0  malisim grand demasi aparat mal protector pantall  ...  negative\n",
              "1                           no recib ped no devoluci  ...  negative\n",
              "2  busc sistem no funcion bien abrazader llev aga...  ...  negative\n",
              "3  utilic broc menor di metr dobl vari si mantequ...  ...  negative\n",
              "4                       no gust olor viej aspect mal  ...  negative\n",
              "\n",
              "[5 rows x 5 columns]"
            ]
          },
          "metadata": {
            "tags": []
          },
          "execution_count": 22
        }
      ]
    },
    {
      "cell_type": "code",
      "metadata": {
        "id": "6dKAtItKmDXX"
      },
      "source": [
        "\n",
        "filtrar = []\n",
        "if True:\n",
        "    filtrar.append(\"u\")\n",
        "    filtrar.append(\"new\")\n",
        "\n",
        "todos_titulares_negativos = []\n",
        "for i in range(dataset_negative.shape[0]):\n",
        "    titular = dataset_negative.iloc[i].body_and_title\n",
        "    titular = nltk.tokenize.RegexpTokenizer(\"[\\w]+\").tokenize(titular)\n",
        "    titular = [word for word in titular if word not in stopwords]\n",
        "    titular = [word for word in titular if word not in filtrar]\n",
        "\n",
        "    todos_titulares_negativos.append(titular)"
      ],
      "execution_count": null,
      "outputs": []
    },
    {
      "cell_type": "code",
      "metadata": {
        "id": "_eZmpAICml4p"
      },
      "source": [
        "# Esta celda convierte una lista de listas en una unica lista\n",
        "todos_titulares_negativos = list(itertools.chain(*todos_titulares_negativos))\n",
        "\n"
      ],
      "execution_count": null,
      "outputs": []
    },
    {
      "cell_type": "code",
      "metadata": {
        "id": "JwnMgpO-mzo8"
      },
      "source": [
        "freq_negativos = nltk.FreqDist(todos_titulares_negativos)\n"
      ],
      "execution_count": null,
      "outputs": []
    },
    {
      "cell_type": "code",
      "metadata": {
        "id": "UjRj5xGhnWrY",
        "colab": {
          "base_uri": "https://localhost:8080/",
          "height": 204
        },
        "outputId": "45620511-3bfd-44e5-a18c-091969deb805"
      },
      "source": [
        "df_neg = pd.DataFrame(list(freq_negativos.items()), columns = [\"Word\",\"Frequency\"])\n",
        "df_neg.head()"
      ],
      "execution_count": null,
      "outputs": [
        {
          "output_type": "execute_result",
          "data": {
            "text/html": [
              "<div>\n",
              "<style scoped>\n",
              "    .dataframe tbody tr th:only-of-type {\n",
              "        vertical-align: middle;\n",
              "    }\n",
              "\n",
              "    .dataframe tbody tr th {\n",
              "        vertical-align: top;\n",
              "    }\n",
              "\n",
              "    .dataframe thead th {\n",
              "        text-align: right;\n",
              "    }\n",
              "</style>\n",
              "<table border=\"1\" class=\"dataframe\">\n",
              "  <thead>\n",
              "    <tr style=\"text-align: right;\">\n",
              "      <th></th>\n",
              "      <th>Word</th>\n",
              "      <th>Frequency</th>\n",
              "    </tr>\n",
              "  </thead>\n",
              "  <tbody>\n",
              "    <tr>\n",
              "      <th>0</th>\n",
              "      <td>malisim</td>\n",
              "      <td>16</td>\n",
              "    </tr>\n",
              "    <tr>\n",
              "      <th>1</th>\n",
              "      <td>grand</td>\n",
              "      <td>55</td>\n",
              "    </tr>\n",
              "    <tr>\n",
              "      <th>2</th>\n",
              "      <td>demasi</td>\n",
              "      <td>89</td>\n",
              "    </tr>\n",
              "    <tr>\n",
              "      <th>3</th>\n",
              "      <td>aparat</td>\n",
              "      <td>21</td>\n",
              "    </tr>\n",
              "    <tr>\n",
              "      <th>4</th>\n",
              "      <td>mal</td>\n",
              "      <td>318</td>\n",
              "    </tr>\n",
              "  </tbody>\n",
              "</table>\n",
              "</div>"
            ],
            "text/plain": [
              "      Word  Frequency\n",
              "0  malisim         16\n",
              "1    grand         55\n",
              "2   demasi         89\n",
              "3   aparat         21\n",
              "4      mal        318"
            ]
          },
          "metadata": {
            "tags": []
          },
          "execution_count": 26
        }
      ]
    },
    {
      "cell_type": "code",
      "metadata": {
        "id": "gCA9IpFjnnTU",
        "colab": {
          "base_uri": "https://localhost:8080/",
          "height": 204
        },
        "outputId": "a39cb490-47e3-43a8-ecbb-264c97f53bac"
      },
      "source": [
        "# ordenar por frecuencia\n",
        "df_neg.sort_values('Frequency',ascending=False, inplace = True)\n",
        "df_neg.head()\n",
        "df_neg.reset_index(drop = True, inplace=True)\n",
        "df_neg.head()"
      ],
      "execution_count": null,
      "outputs": [
        {
          "output_type": "execute_result",
          "data": {
            "text/html": [
              "<div>\n",
              "<style scoped>\n",
              "    .dataframe tbody tr th:only-of-type {\n",
              "        vertical-align: middle;\n",
              "    }\n",
              "\n",
              "    .dataframe tbody tr th {\n",
              "        vertical-align: top;\n",
              "    }\n",
              "\n",
              "    .dataframe thead th {\n",
              "        text-align: right;\n",
              "    }\n",
              "</style>\n",
              "<table border=\"1\" class=\"dataframe\">\n",
              "  <thead>\n",
              "    <tr style=\"text-align: right;\">\n",
              "      <th></th>\n",
              "      <th>Word</th>\n",
              "      <th>Frequency</th>\n",
              "    </tr>\n",
              "  </thead>\n",
              "  <tbody>\n",
              "    <tr>\n",
              "      <th>0</th>\n",
              "      <td>no</td>\n",
              "      <td>2379</td>\n",
              "    </tr>\n",
              "    <tr>\n",
              "      <th>1</th>\n",
              "      <td>lleg</td>\n",
              "      <td>399</td>\n",
              "    </tr>\n",
              "    <tr>\n",
              "      <th>2</th>\n",
              "      <td>compr</td>\n",
              "      <td>367</td>\n",
              "    </tr>\n",
              "    <tr>\n",
              "      <th>3</th>\n",
              "      <td>bien</td>\n",
              "      <td>355</td>\n",
              "    </tr>\n",
              "    <tr>\n",
              "      <th>4</th>\n",
              "      <td>product</td>\n",
              "      <td>333</td>\n",
              "    </tr>\n",
              "  </tbody>\n",
              "</table>\n",
              "</div>"
            ],
            "text/plain": [
              "      Word  Frequency\n",
              "0       no       2379\n",
              "1     lleg        399\n",
              "2    compr        367\n",
              "3     bien        355\n",
              "4  product        333"
            ]
          },
          "metadata": {
            "tags": []
          },
          "execution_count": 27
        }
      ]
    },
    {
      "cell_type": "code",
      "metadata": {
        "id": "GevLQpHeoLHZ",
        "colab": {
          "base_uri": "https://localhost:8080/",
          "height": 535
        },
        "outputId": "3c81ab71-a505-4123-8087-201ebcd90fcb"
      },
      "source": [
        "plt.figure(figsize = (15,8))\n",
        "plot = sns.barplot(x  = df_neg.iloc[:30].Word, y = df_neg.iloc[:30].Frequency)\n",
        "for item in plot.get_xticklabels():\n",
        "    item.set_rotation(90)\n",
        "plt.show()"
      ],
      "execution_count": null,
      "outputs": [
        {
          "output_type": "display_data",
          "data": {
            "image/png": "[encoded data removed]",
            "text/plain": [
              "<Figure size 1080x576 with 1 Axes>"
            ]
          },
          "metadata": {
            "tags": []
          }
        }
      ]
    },
    {
      "cell_type": "markdown",
      "metadata": {
        "id": "m5xHELarJMSQ"
      },
      "source": [
        "En este grafico se observan las palabras más utilizadas en reseñas negativas y su frecuencia"
      ]
    },
    {
      "cell_type": "markdown",
      "metadata": {
        "id": "e9lJb9rVpIeN"
      },
      "source": [
        "#Analisis de Reseñas Positivas con Stemming\n",
        "En esta seccion analizaremos las palabras mas frecuentes a encontrar en reseñas \"positivas\". Continuaremos trabajando con el dataset en el que se trabajo con stemming.\n"
      ]
    },
    {
      "cell_type": "code",
      "metadata": {
        "id": "HO3qSwzYpGd7",
        "colab": {
          "base_uri": "https://localhost:8080/",
          "height": 204
        },
        "outputId": "b3681a75-bd27-40bd-b3ae-8e861068d877"
      },
      "source": [
        "\n",
        "dataset_positive = dataset_stem[dataset_stem.review =='positive']\n",
        "dataset_positive.head()"
      ],
      "execution_count": null,
      "outputs": [
        {
          "output_type": "execute_result",
          "data": {
            "text/html": [
              "<div>\n",
              "<style scoped>\n",
              "    .dataframe tbody tr th:only-of-type {\n",
              "        vertical-align: middle;\n",
              "    }\n",
              "\n",
              "    .dataframe tbody tr th {\n",
              "        vertical-align: top;\n",
              "    }\n",
              "\n",
              "    .dataframe thead th {\n",
              "        text-align: right;\n",
              "    }\n",
              "</style>\n",
              "<table border=\"1\" class=\"dataframe\">\n",
              "  <thead>\n",
              "    <tr style=\"text-align: right;\">\n",
              "      <th></th>\n",
              "      <th>body_stem</th>\n",
              "      <th>title_stem</th>\n",
              "      <th>stars</th>\n",
              "      <th>body_and_title</th>\n",
              "      <th>review</th>\n",
              "    </tr>\n",
              "  </thead>\n",
              "  <tbody>\n",
              "    <tr>\n",
              "      <th>2000</th>\n",
              "      <td>gust color tej calid espum recomend</td>\n",
              "      <td>encaj</td>\n",
              "      <td>3</td>\n",
              "      <td>gust color tej calid espum recomendencaj</td>\n",
              "      <td>positive</td>\n",
              "    </tr>\n",
              "    <tr>\n",
              "      <th>2001</th>\n",
              "      <td>lleg pid pequ pens no cab tant cos cm fot mate...</td>\n",
              "      <td>simpl</td>\n",
              "      <td>3</td>\n",
              "      <td>lleg pid pequ pens no cab tant cos cm fot mate...</td>\n",
              "      <td>positive</td>\n",
              "    </tr>\n",
              "    <tr>\n",
              "      <th>2002</th>\n",
              "      <td>gust product</td>\n",
              "      <td>buen product</td>\n",
              "      <td>3</td>\n",
              "      <td>gust productbuen product</td>\n",
              "      <td>positive</td>\n",
              "    </tr>\n",
              "    <tr>\n",
              "      <th>2003</th>\n",
              "      <td>despeg pid hech sid coc</td>\n",
              "      <td>bien</td>\n",
              "      <td>3</td>\n",
              "      <td>despeg pid hech sid cocbien</td>\n",
              "      <td>positive</td>\n",
              "    </tr>\n",
              "    <tr>\n",
              "      <th>2004</th>\n",
              "      <td>no parec tampoc especif animal apriet pued val...</td>\n",
              "      <td>basic</td>\n",
              "      <td>3</td>\n",
              "      <td>no parec tampoc especif animal apriet pued val...</td>\n",
              "      <td>positive</td>\n",
              "    </tr>\n",
              "  </tbody>\n",
              "</table>\n",
              "</div>"
            ],
            "text/plain": [
              "                                              body_stem  ...    review\n",
              "2000                gust color tej calid espum recomend  ...  positive\n",
              "2001  lleg pid pequ pens no cab tant cos cm fot mate...  ...  positive\n",
              "2002                                       gust product  ...  positive\n",
              "2003                            despeg pid hech sid coc  ...  positive\n",
              "2004  no parec tampoc especif animal apriet pued val...  ...  positive\n",
              "\n",
              "[5 rows x 5 columns]"
            ]
          },
          "metadata": {
            "tags": []
          },
          "execution_count": 29
        }
      ]
    },
    {
      "cell_type": "code",
      "metadata": {
        "id": "7cg20u9GpcJj"
      },
      "source": [
        "\n",
        "todos_titulares_positivos = []\n",
        "for i in range(dataset_positive.shape[0]):\n",
        "    titular = dataset_positive.iloc[i].body_and_title\n",
        "    titular = nltk.tokenize.RegexpTokenizer(\"[\\w]+\").tokenize(titular)\n",
        "    titular = [word for word in titular if word not in stopwords]\n",
        "   \n",
        "\n",
        "    todos_titulares_positivos.append(titular)"
      ],
      "execution_count": null,
      "outputs": []
    },
    {
      "cell_type": "code",
      "metadata": {
        "id": "MqZ-cMOYpzVL"
      },
      "source": [
        "todos_titulares_positivos = list(itertools.chain(*todos_titulares_positivos))"
      ],
      "execution_count": null,
      "outputs": []
    },
    {
      "cell_type": "code",
      "metadata": {
        "id": "vCdwwhOYp__f"
      },
      "source": [
        "freq_positivos = nltk.FreqDist(todos_titulares_positivos)\n"
      ],
      "execution_count": null,
      "outputs": []
    },
    {
      "cell_type": "code",
      "metadata": {
        "id": "p6-3di4PqklC",
        "colab": {
          "base_uri": "https://localhost:8080/",
          "height": 204
        },
        "outputId": "b7707c8e-b281-4ee7-ae90-eac6fac0ab80"
      },
      "source": [
        "df_pos = pd.DataFrame(list(freq_positivos.items()), columns = [\"Word\",\"Frequency\"])\n",
        "# ordenar por frecuencia\n",
        "df_pos.sort_values('Frequency',ascending=False, inplace = True)\n",
        "df_pos.reset_index(drop = True, inplace=True)\n",
        "df_pos.head()\n"
      ],
      "execution_count": null,
      "outputs": [
        {
          "output_type": "execute_result",
          "data": {
            "text/html": [
              "<div>\n",
              "<style scoped>\n",
              "    .dataframe tbody tr th:only-of-type {\n",
              "        vertical-align: middle;\n",
              "    }\n",
              "\n",
              "    .dataframe tbody tr th {\n",
              "        vertical-align: top;\n",
              "    }\n",
              "\n",
              "    .dataframe thead th {\n",
              "        text-align: right;\n",
              "    }\n",
              "</style>\n",
              "<table border=\"1\" class=\"dataframe\">\n",
              "  <thead>\n",
              "    <tr style=\"text-align: right;\">\n",
              "      <th></th>\n",
              "      <th>Word</th>\n",
              "      <th>Frequency</th>\n",
              "    </tr>\n",
              "  </thead>\n",
              "  <tbody>\n",
              "    <tr>\n",
              "      <th>0</th>\n",
              "      <td>no</td>\n",
              "      <td>1669</td>\n",
              "    </tr>\n",
              "    <tr>\n",
              "      <th>1</th>\n",
              "      <td>bien</td>\n",
              "      <td>949</td>\n",
              "    </tr>\n",
              "    <tr>\n",
              "      <th>2</th>\n",
              "      <td>buen</td>\n",
              "      <td>857</td>\n",
              "    </tr>\n",
              "    <tr>\n",
              "      <th>3</th>\n",
              "      <td>calid</td>\n",
              "      <td>687</td>\n",
              "    </tr>\n",
              "    <tr>\n",
              "      <th>4</th>\n",
              "      <td>preci</td>\n",
              "      <td>573</td>\n",
              "    </tr>\n",
              "  </tbody>\n",
              "</table>\n",
              "</div>"
            ],
            "text/plain": [
              "    Word  Frequency\n",
              "0     no       1669\n",
              "1   bien        949\n",
              "2   buen        857\n",
              "3  calid        687\n",
              "4  preci        573"
            ]
          },
          "metadata": {
            "tags": []
          },
          "execution_count": 33
        }
      ]
    },
    {
      "cell_type": "code",
      "metadata": {
        "id": "mznwokFp8K0d",
        "colab": {
          "base_uri": "https://localhost:8080/",
          "height": 535
        },
        "outputId": "54c774f1-1ba5-4eea-e9fe-551421cd36dc"
      },
      "source": [
        "plt.figure(figsize = (15,8))\n",
        "plot = sns.barplot(x  = df_pos.iloc[:30].Word, y = df_pos.iloc[:30].Frequency)\n",
        "for item in plot.get_xticklabels():\n",
        "    item.set_rotation(90)\n",
        "plt.show()"
      ],
      "execution_count": null,
      "outputs": [
        {
          "output_type": "display_data",
          "data": {
            "image/png": "[encoded data removed]",
            "text/plain": [
              "<Figure size 1080x576 with 1 Axes>"
            ]
          },
          "metadata": {
            "tags": []
          }
        }
      ]
    },
    {
      "cell_type": "markdown",
      "metadata": {
        "id": "CzPExbqhJe5z"
      },
      "source": [
        "En este grafico se observan las palabras más utilizadas en reseñas positivas y su frecuencia"
      ]
    },
    {
      "cell_type": "markdown",
      "metadata": {
        "id": "g_rc10mFTi1_"
      },
      "source": [
        "#Vectorizar Dataset Stem\n",
        "\n",
        "A partir de aqui trabajaremos para crear un modelo de predicion que trate de adivinar el puntaje obtenido en base a la reseña escrita. Primero procederemos a vectorizar el dataset con el que venimos trabajando.\n",
        "\n",
        "\n",
        "  "
      ]
    },
    {
      "cell_type": "code",
      "metadata": {
        "id": "6vnevGnHPKJY"
      },
      "source": [
        "# Tomamso la lista de palabras y el vector que nos dice si es o no sarcastico el titulo\n",
        "list_titulos = list(dataset_stem['body_stem'].values)\n",
        "stars = dataset_stem['stars'].values\n",
        "\n"
      ],
      "execution_count": null,
      "outputs": []
    },
    {
      "cell_type": "code",
      "metadata": {
        "id": "nnm0dvqKT1r2"
      },
      "source": [
        "from sklearn.feature_extraction.text import CountVectorizer\n",
        "\n",
        "# Usaremos solo las 1100 palabras con mas frecuencia en todo el corpus para generar los vectores\n",
        "max_features=1100\n",
        "\n",
        "# Es decir que cada instancia tendrá 1100 features\n",
        "cou_vec=CountVectorizer(max_features=max_features) # stop_words=\"english\" , ngram_range=(1, 2)"
      ],
      "execution_count": null,
      "outputs": []
    },
    {
      "cell_type": "markdown",
      "metadata": {
        "id": "h98fXoG_Uc2i"
      },
      "source": [
        "# Modelos Benchmark Stem\n",
        "Crearemos tres modelos de benchmark para poder comparar los resultados."
      ]
    },
    {
      "cell_type": "code",
      "metadata": {
        "id": "iqd0DiPJUGIu",
        "colab": {
          "base_uri": "https://localhost:8080/"
        },
        "outputId": "97530ef6-31c2-4579-8e9a-f9fca6b5f686"
      },
      "source": [
        "matriz_titulos = cou_vec.fit_transform(list_titulos)\n",
        "\n",
        "# Tomamos las palabras\n",
        "all_words = cou_vec.get_feature_names()\n",
        "\n",
        "# Vizualizamos las 50 palabras mas usadas\n",
        "print(\"50 palabras mas usadas: \",all_words[0:50])"
      ],
      "execution_count": null,
      "outputs": [
        {
          "output_type": "stream",
          "text": [
            "50 palabras mas usadas:  ['abaj', 'abiert', 'abre', 'abrir', 'abrirl', 'absolut', 'acab', 'accesori', 'aceit', 'acept', 'acert', 'aconsej', 'acopl', 'acord', 'activ', 'ada', 'adapt', 'adecu', 'adem', 'adhes', 'adhier', 'adjunt', 'ado', 'adquir', 'adult', 'afil', 'agarr', 'agrad', 'agradec', 'agu', 'aguant', 'agujer', 'ah', 'ahor', 'ahorr', 'air', 'ajust', 'alg', 'algui', 'algun', 'alimentaci', 'almacen', 'almoh', 'alta', 'altavoz', 'alto', 'altur', 'alumbr', 'amarill', 'amazon']\n"
          ],
          "name": "stdout"
        }
      ]
    },
    {
      "cell_type": "code",
      "metadata": {
        "id": "VUwFtzDvUY9i"
      },
      "source": [
        "#Creamos sets de train y de test de nuestro dataset vecorizado\n",
        "x = matriz_titulos.toarray()\n",
        "y = stars\n",
        "\n",
        "from sklearn.model_selection import train_test_split\n",
        "xtrain, xtest, ytrain, ytest = train_test_split(x,y,test_size=0.2,random_state=42,stratify=y)"
      ],
      "execution_count": null,
      "outputs": []
    },
    {
      "cell_type": "code",
      "metadata": {
        "id": "-2hOq_6jUm-T"
      },
      "source": [
        "#Definimos la matriz de confusion\n",
        "from sklearn.metrics import confusion_matrix\n",
        "import seaborn as sns\n",
        "\n",
        "def confusion(ytest,y_pred):\n",
        "    names=[\"1\",\"2\",'3','4','5']\n",
        "    cm=confusion_matrix(ytest,y_pred)\n",
        "    f,ax=plt.subplots(figsize=(5,5))\n",
        "    sns.heatmap(cm,annot=True,linewidth=.5,linecolor=\"r\",fmt=\".0f\",ax=ax)\n",
        "    plt.xlabel(\"y_pred\")\n",
        "    plt.ylabel(\"y_true\")\n",
        "    ax.set_xticklabels(names)\n",
        "    ax.set_yticklabels(names)\n",
        "    plt.show()\n",
        "\n",
        "    return"
      ],
      "execution_count": null,
      "outputs": []
    },
    {
      "cell_type": "code",
      "metadata": {
        "id": "K2bSOHCQU3mY",
        "colab": {
          "base_uri": "https://localhost:8080/"
        },
        "outputId": "3d1379d6-87c0-4ddf-e082-f02d8e6ec0cc"
      },
      "source": [
        "from sklearn.naive_bayes import GaussianNB\n",
        "nb = GaussianNB()\n",
        "nb.fit(xtrain,ytrain)\n",
        "print(\"acc : \", nb.score(xtest,ytest))"
      ],
      "execution_count": null,
      "outputs": [
        {
          "output_type": "stream",
          "text": [
            "acc :  0.306\n"
          ],
          "name": "stdout"
        }
      ]
    },
    {
      "cell_type": "code",
      "metadata": {
        "id": "XLdW6ITfU7rZ",
        "colab": {
          "base_uri": "https://localhost:8080/",
          "height": 339
        },
        "outputId": "fe0b55d7-b385-45d8-8c4e-84a17dac02d1"
      },
      "source": [
        "y_pred=nb.predict(xtest)\n",
        "confusion(ytest,y_pred)"
      ],
      "execution_count": null,
      "outputs": [
        {
          "output_type": "display_data",
          "data": {
            "image/png": "[encoded data removed]",
            "text/plain": [
              "<Figure size 360x360 with 2 Axes>"
            ]
          },
          "metadata": {
            "tags": []
          }
        }
      ]
    },
    {
      "cell_type": "code",
      "metadata": {
        "id": "hS5Wl2SuVN26",
        "colab": {
          "base_uri": "https://localhost:8080/"
        },
        "outputId": "f71eb734-afd0-4bc0-8c2a-6d0f3e9fdb6b"
      },
      "source": [
        "from sklearn.ensemble import RandomForestClassifier\n",
        "from sklearn.metrics import confusion_matrix\n",
        "\n",
        "rf = RandomForestClassifier(n_estimators = 50, random_state=42)\n",
        "rf.fit(xtrain,ytrain)\n",
        "print(\"acc: \",rf.score(xtest,ytest))"
      ],
      "execution_count": null,
      "outputs": [
        {
          "output_type": "stream",
          "text": [
            "acc:  0.391\n"
          ],
          "name": "stdout"
        }
      ]
    },
    {
      "cell_type": "code",
      "metadata": {
        "id": "NJe3G_19VOfj",
        "colab": {
          "base_uri": "https://localhost:8080/",
          "height": 339
        },
        "outputId": "d1ac2f8f-f901-4745-a58c-79124e36347f"
      },
      "source": [
        "\n",
        "y_pred=rf.predict(xtest)\n",
        "confusion(ytest,y_pred)"
      ],
      "execution_count": null,
      "outputs": [
        {
          "output_type": "display_data",
          "data": {
            "image/png": "[encoded data removed]",
            "text/plain": [
              "<Figure size 360x360 with 2 Axes>"
            ]
          },
          "metadata": {
            "tags": []
          }
        }
      ]
    },
    {
      "cell_type": "code",
      "metadata": {
        "id": "HOLC1-S_VYRj",
        "colab": {
          "base_uri": "https://localhost:8080/"
        },
        "outputId": "c1d43b59-4f8d-43af-dfa1-07752a54732e"
      },
      "source": [
        "#@title\n",
        "# Notar que en vez de utilizar SVC, vamos a usar LinearSVC. \n",
        "# Para el Kernel Lineal, esta función es MUCHO mas rapida que la tradicional SVC.\n",
        "from sklearn.svm import LinearSVC\n",
        "\n",
        "svc = LinearSVC(C = 1)\n",
        "svc.fit(xtrain,ytrain)\n",
        "svc.score(xtest,ytest)"
      ],
      "execution_count": null,
      "outputs": [
        {
          "output_type": "stream",
          "text": [
            "/usr/local/lib/python3.6/dist-packages/sklearn/svm/_base.py:947: ConvergenceWarning: Liblinear failed to converge, increase the number of iterations.\n",
            "  \"the number of iterations.\", ConvergenceWarning)\n"
          ],
          "name": "stderr"
        },
        {
          "output_type": "execute_result",
          "data": {
            "text/plain": [
              "0.398"
            ]
          },
          "metadata": {
            "tags": []
          },
          "execution_count": 44
        }
      ]
    },
    {
      "cell_type": "code",
      "metadata": {
        "id": "jI2Du14SVbkt",
        "colab": {
          "base_uri": "https://localhost:8080/",
          "height": 339
        },
        "outputId": "aa0c78e1-17cc-4950-abd9-21e57a2c503f"
      },
      "source": [
        "y_pred = svc.predict(xtest)\n",
        "confusion(ytest,y_pred)"
      ],
      "execution_count": null,
      "outputs": [
        {
          "output_type": "display_data",
          "data": {
            "image/png": "[encoded data removed]",
            "text/plain": [
              "<Figure size 360x360 with 2 Axes>"
            ]
          },
          "metadata": {
            "tags": []
          }
        }
      ]
    },
    {
      "cell_type": "markdown",
      "metadata": {
        "id": "o84FFQ8Lb5Ji"
      },
      "source": [
        "Podemos observar de que los tres modelos implementados obtuvieron un puntaje relativamente bajo en los modelos de benchmark."
      ]
    },
    {
      "cell_type": "markdown",
      "metadata": {
        "id": "ImQ0By_LpyGh"
      },
      "source": [
        "#Lemmatization\n",
        "En la siguiente seccion se trabajará con una tecnica distinta a stemming llamada lemmatization. En vez de eliminar la terminacion de las palabras para omitir conjugaciones, esta funcion reemplaza las palabras con su forma no conjugada. Se podría decir que es una solución un poco mas elegante que stemming."
      ]
    },
    {
      "cell_type": "code",
      "metadata": {
        "id": "3WWEbAWuqL00"
      },
      "source": [
        "import spacy\n",
        "import unidecode\n",
        "\n",
        "from spacy.lemmatizer import Lemmatizer\n",
        "import spacy\n",
        "import re\n",
        "spacy.prefer_gpu()\n",
        "\n",
        "nlp = spacy.load('es_core_news_sm')"
      ],
      "execution_count": null,
      "outputs": []
    },
    {
      "cell_type": "code",
      "metadata": {
        "id": "Hu6fsm58qWCs"
      },
      "source": [
        "dataset['body_lem'] = dataset[\"review_body\"].apply(lambda row: \" \".join([w.lemma_ for w in nlp(row)]))\n",
        "titular_list=[]\n",
        "for titular in dataset.review_body:\n",
        "    #Removemos los accentos\n",
        "    titular = unidecode.unidecode(titular)\n",
        "    # Vamos a reemplzar los caracteres que no sean letras por espacios\n",
        "    titular=re.sub(\"[^a-zA-Z]\",\" \",str(titular))\n",
        "    # Pasamos todo a minúsculas\n",
        "    titular=titular.lower()\n",
        "    # Tokenizamos para separar las palabras del titular\n",
        "    titular=nltk.word_tokenize(titular)\n",
        "    # Eliminamos las palabras de menos de 2 letras\n",
        "    titular = [palabra for palabra in titular if len(palabra)>1]\n",
        "    # Sacamos las Stopwords\n",
        "    titular = [palabra for palabra in titular if not palabra in stopwords]\n",
        "    \n",
        "    ## Hasta acá Normalizamos, ahora a stemmizar\n",
        "    # Aplicamos la funcion para buscar la raiz de las palabras\n",
        "  \n",
        "    # Por ultimo volvemos a unir el titular\n",
        "    titular=\" \".join(titular)\n",
        "    # Vamos armando una lista con todos los titulares\n",
        "    titular_list.append(titular)\n",
        "    #dataset[\"titular_normalizado\"] = titular_list\n",
        "\n",
        "dataset[\"body_lem_clean\"] = titular_list\n"
      ],
      "execution_count": null,
      "outputs": []
    },
    {
      "cell_type": "code",
      "metadata": {
        "id": "5Fn5TvarrF2Z",
        "colab": {
          "base_uri": "https://localhost:8080/",
          "height": 541
        },
        "outputId": "645ac54b-6bf4-4c88-d18a-f603fd66b44b"
      },
      "source": [
        "#Creamos un nuevo dataset con enunciados lemmatiszados\n",
        "dataset_lem = dataset[['stars','body_lem_clean']]\n",
        "dataset_lem['review'] = ['negative' if x <= 2 else 'positive' for x in dataset_stem['stars']]\n",
        "dataset_lem\n"
      ],
      "execution_count": null,
      "outputs": [
        {
          "output_type": "stream",
          "text": [
            "/usr/local/lib/python3.6/dist-packages/ipykernel_launcher.py:2: SettingWithCopyWarning: \n",
            "A value is trying to be set on a copy of a slice from a DataFrame.\n",
            "Try using .loc[row_indexer,col_indexer] = value instead\n",
            "\n",
            "See the caveats in the documentation: https://pandas.pydata.org/pandas-docs/stable/user_guide/indexing.html#returning-a-view-versus-a-copy\n",
            "  \n"
          ],
          "name": "stderr"
        },
        {
          "output_type": "execute_result",
          "data": {
            "text/html": [
              "<div>\n",
              "<style scoped>\n",
              "    .dataframe tbody tr th:only-of-type {\n",
              "        vertical-align: middle;\n",
              "    }\n",
              "\n",
              "    .dataframe tbody tr th {\n",
              "        vertical-align: top;\n",
              "    }\n",
              "\n",
              "    .dataframe thead th {\n",
              "        text-align: right;\n",
              "    }\n",
              "</style>\n",
              "<table border=\"1\" class=\"dataframe\">\n",
              "  <thead>\n",
              "    <tr style=\"text-align: right;\">\n",
              "      <th></th>\n",
              "      <th>stars</th>\n",
              "      <th>body_lem_clean</th>\n",
              "      <th>review</th>\n",
              "    </tr>\n",
              "  </thead>\n",
              "  <tbody>\n",
              "    <tr>\n",
              "      <th>0</th>\n",
              "      <td>1</td>\n",
              "      <td>malisimo grande demasiado aparatoso mal protec...</td>\n",
              "      <td>negative</td>\n",
              "    </tr>\n",
              "    <tr>\n",
              "      <th>1</th>\n",
              "      <td>1</td>\n",
              "      <td>no recibido pedido no devolucion</td>\n",
              "      <td>negative</td>\n",
              "    </tr>\n",
              "    <tr>\n",
              "      <th>2</th>\n",
              "      <td>1</td>\n",
              "      <td>buscar sistema no funciona bien abrazadera lle...</td>\n",
              "      <td>negative</td>\n",
              "    </tr>\n",
              "    <tr>\n",
              "      <th>3</th>\n",
              "      <td>1</td>\n",
              "      <td>utilice brocas menor diametro doblaron varias ...</td>\n",
              "      <td>negative</td>\n",
              "    </tr>\n",
              "    <tr>\n",
              "      <th>4</th>\n",
              "      <td>1</td>\n",
              "      <td>no gusta olor viejo aspecto malo</td>\n",
              "      <td>negative</td>\n",
              "    </tr>\n",
              "    <tr>\n",
              "      <th>...</th>\n",
              "      <td>...</td>\n",
              "      <td>...</td>\n",
              "      <td>...</td>\n",
              "    </tr>\n",
              "    <tr>\n",
              "      <th>4995</th>\n",
              "      <td>5</td>\n",
              "      <td>encantado cesta llegado impecable tamano util ...</td>\n",
              "      <td>positive</td>\n",
              "    </tr>\n",
              "    <tr>\n",
              "      <th>4996</th>\n",
              "      <td>5</td>\n",
              "      <td>desempena funcion correctamente</td>\n",
              "      <td>positive</td>\n",
              "    </tr>\n",
              "    <tr>\n",
              "      <th>4997</th>\n",
              "      <td>5</td>\n",
              "      <td>encantado diadema flores tal vienen imagen no ...</td>\n",
              "      <td>positive</td>\n",
              "    </tr>\n",
              "    <tr>\n",
              "      <th>4998</th>\n",
              "      <td>5</td>\n",
              "      <td>gustan fundas tpu fundas normalmente finas col...</td>\n",
              "      <td>positive</td>\n",
              "    </tr>\n",
              "    <tr>\n",
              "      <th>4999</th>\n",
              "      <td>5</td>\n",
              "      <td>articulo cumplido expectativas deseaba</td>\n",
              "      <td>positive</td>\n",
              "    </tr>\n",
              "  </tbody>\n",
              "</table>\n",
              "<p>5000 rows × 3 columns</p>\n",
              "</div>"
            ],
            "text/plain": [
              "      stars                                     body_lem_clean    review\n",
              "0         1  malisimo grande demasiado aparatoso mal protec...  negative\n",
              "1         1                   no recibido pedido no devolucion  negative\n",
              "2         1  buscar sistema no funciona bien abrazadera lle...  negative\n",
              "3         1  utilice brocas menor diametro doblaron varias ...  negative\n",
              "4         1                   no gusta olor viejo aspecto malo  negative\n",
              "...     ...                                                ...       ...\n",
              "4995      5  encantado cesta llegado impecable tamano util ...  positive\n",
              "4996      5                    desempena funcion correctamente  positive\n",
              "4997      5  encantado diadema flores tal vienen imagen no ...  positive\n",
              "4998      5  gustan fundas tpu fundas normalmente finas col...  positive\n",
              "4999      5             articulo cumplido expectativas deseaba  positive\n",
              "\n",
              "[5000 rows x 3 columns]"
            ]
          },
          "metadata": {
            "tags": []
          },
          "execution_count": 48
        }
      ]
    },
    {
      "cell_type": "markdown",
      "metadata": {
        "id": "wiXCAcv703qI"
      },
      "source": [
        "#Analisis de Reseñas Negativas con Lemmatization\n",
        "Nuevamente nos pronemos a analizar las palabras mas utilizadas en reseñas negativas y positivas, esta vez con el dataset \"lemmatizado\" para observar si hay diferencias entre ambas tecnicas.\n",
        "\n",
        "En esta seccion analizaremos las palabras mas frecuentes a encontrar en reseñas \"negativas\". Continuaremos trabajando con el dataset en el que se trabajo con lemmatization."
      ]
    },
    {
      "cell_type": "code",
      "metadata": {
        "id": "wr8odlh706L-",
        "colab": {
          "base_uri": "https://localhost:8080/",
          "height": 204
        },
        "outputId": "62033175-694c-4c7b-ceb3-f72d6df99cc7"
      },
      "source": [
        "\n",
        "dataset_negative_lem = dataset_lem[dataset_lem.review=='negative']\n",
        "dataset_negative_lem.head()"
      ],
      "execution_count": null,
      "outputs": [
        {
          "output_type": "execute_result",
          "data": {
            "text/html": [
              "<div>\n",
              "<style scoped>\n",
              "    .dataframe tbody tr th:only-of-type {\n",
              "        vertical-align: middle;\n",
              "    }\n",
              "\n",
              "    .dataframe tbody tr th {\n",
              "        vertical-align: top;\n",
              "    }\n",
              "\n",
              "    .dataframe thead th {\n",
              "        text-align: right;\n",
              "    }\n",
              "</style>\n",
              "<table border=\"1\" class=\"dataframe\">\n",
              "  <thead>\n",
              "    <tr style=\"text-align: right;\">\n",
              "      <th></th>\n",
              "      <th>stars</th>\n",
              "      <th>body_lem_clean</th>\n",
              "      <th>review</th>\n",
              "    </tr>\n",
              "  </thead>\n",
              "  <tbody>\n",
              "    <tr>\n",
              "      <th>0</th>\n",
              "      <td>1</td>\n",
              "      <td>malisimo grande demasiado aparatoso mal protec...</td>\n",
              "      <td>negative</td>\n",
              "    </tr>\n",
              "    <tr>\n",
              "      <th>1</th>\n",
              "      <td>1</td>\n",
              "      <td>no recibido pedido no devolucion</td>\n",
              "      <td>negative</td>\n",
              "    </tr>\n",
              "    <tr>\n",
              "      <th>2</th>\n",
              "      <td>1</td>\n",
              "      <td>buscar sistema no funciona bien abrazadera lle...</td>\n",
              "      <td>negative</td>\n",
              "    </tr>\n",
              "    <tr>\n",
              "      <th>3</th>\n",
              "      <td>1</td>\n",
              "      <td>utilice brocas menor diametro doblaron varias ...</td>\n",
              "      <td>negative</td>\n",
              "    </tr>\n",
              "    <tr>\n",
              "      <th>4</th>\n",
              "      <td>1</td>\n",
              "      <td>no gusta olor viejo aspecto malo</td>\n",
              "      <td>negative</td>\n",
              "    </tr>\n",
              "  </tbody>\n",
              "</table>\n",
              "</div>"
            ],
            "text/plain": [
              "   stars                                     body_lem_clean    review\n",
              "0      1  malisimo grande demasiado aparatoso mal protec...  negative\n",
              "1      1                   no recibido pedido no devolucion  negative\n",
              "2      1  buscar sistema no funciona bien abrazadera lle...  negative\n",
              "3      1  utilice brocas menor diametro doblaron varias ...  negative\n",
              "4      1                   no gusta olor viejo aspecto malo  negative"
            ]
          },
          "metadata": {
            "tags": []
          },
          "execution_count": 49
        }
      ]
    },
    {
      "cell_type": "code",
      "metadata": {
        "id": "-L2NaqdF06tL"
      },
      "source": [
        "todos_titulares_negativos = []\n",
        "for i in range(dataset_negative_lem.shape[0]):\n",
        "    titular = dataset_negative_lem.iloc[i].body_lem_clean\n",
        "    titular = nltk.tokenize.RegexpTokenizer(\"[\\w]+\").tokenize(titular)\n",
        "    titular = [word for word in titular if word not in stopwords]\n",
        "   \n",
        "\n",
        "    todos_titulares_negativos.append(titular)"
      ],
      "execution_count": null,
      "outputs": []
    },
    {
      "cell_type": "code",
      "metadata": {
        "id": "Qw2fGFvN06xn",
        "colab": {
          "base_uri": "https://localhost:8080/",
          "height": 204
        },
        "outputId": "733228cb-0127-4c7f-99cc-19745ec2a304"
      },
      "source": [
        "# Esta celda convierte una lista de listas en una unica lista\n",
        "todos_titulares_negativos = list(itertools.chain(*todos_titulares_negativos))\n",
        "\n",
        "freq_negativos = nltk.FreqDist(todos_titulares_negativos)\n",
        "\n",
        "df_neg1 = pd.DataFrame(list(freq_negativos.items()), columns = [\"Word\",\"Frequency\"])\n",
        "df_neg1.head()\n"
      ],
      "execution_count": null,
      "outputs": [
        {
          "output_type": "execute_result",
          "data": {
            "text/html": [
              "<div>\n",
              "<style scoped>\n",
              "    .dataframe tbody tr th:only-of-type {\n",
              "        vertical-align: middle;\n",
              "    }\n",
              "\n",
              "    .dataframe tbody tr th {\n",
              "        vertical-align: top;\n",
              "    }\n",
              "\n",
              "    .dataframe thead th {\n",
              "        text-align: right;\n",
              "    }\n",
              "</style>\n",
              "<table border=\"1\" class=\"dataframe\">\n",
              "  <thead>\n",
              "    <tr style=\"text-align: right;\">\n",
              "      <th></th>\n",
              "      <th>Word</th>\n",
              "      <th>Frequency</th>\n",
              "    </tr>\n",
              "  </thead>\n",
              "  <tbody>\n",
              "    <tr>\n",
              "      <th>0</th>\n",
              "      <td>malisimo</td>\n",
              "      <td>11</td>\n",
              "    </tr>\n",
              "    <tr>\n",
              "      <th>1</th>\n",
              "      <td>grande</td>\n",
              "      <td>41</td>\n",
              "    </tr>\n",
              "    <tr>\n",
              "      <th>2</th>\n",
              "      <td>demasiado</td>\n",
              "      <td>76</td>\n",
              "    </tr>\n",
              "    <tr>\n",
              "      <th>3</th>\n",
              "      <td>aparatoso</td>\n",
              "      <td>2</td>\n",
              "    </tr>\n",
              "    <tr>\n",
              "      <th>4</th>\n",
              "      <td>mal</td>\n",
              "      <td>109</td>\n",
              "    </tr>\n",
              "  </tbody>\n",
              "</table>\n",
              "</div>"
            ],
            "text/plain": [
              "        Word  Frequency\n",
              "0   malisimo         11\n",
              "1     grande         41\n",
              "2  demasiado         76\n",
              "3  aparatoso          2\n",
              "4        mal        109"
            ]
          },
          "metadata": {
            "tags": []
          },
          "execution_count": 51
        }
      ]
    },
    {
      "cell_type": "code",
      "metadata": {
        "id": "ZxW1NFOt062O",
        "colab": {
          "base_uri": "https://localhost:8080/",
          "height": 204
        },
        "outputId": "0346a525-c8fe-4472-a4c5-7c78b40afd60"
      },
      "source": [
        "# ordenar por frecuencia\n",
        "df_neg1.sort_values('Frequency',ascending=False, inplace = True)\n",
        "df_neg1.reset_index(drop = True, inplace=True)\n",
        "df_neg1.head()"
      ],
      "execution_count": null,
      "outputs": [
        {
          "output_type": "execute_result",
          "data": {
            "text/html": [
              "<div>\n",
              "<style scoped>\n",
              "    .dataframe tbody tr th:only-of-type {\n",
              "        vertical-align: middle;\n",
              "    }\n",
              "\n",
              "    .dataframe tbody tr th {\n",
              "        vertical-align: top;\n",
              "    }\n",
              "\n",
              "    .dataframe thead th {\n",
              "        text-align: right;\n",
              "    }\n",
              "</style>\n",
              "<table border=\"1\" class=\"dataframe\">\n",
              "  <thead>\n",
              "    <tr style=\"text-align: right;\">\n",
              "      <th></th>\n",
              "      <th>Word</th>\n",
              "      <th>Frequency</th>\n",
              "    </tr>\n",
              "  </thead>\n",
              "  <tbody>\n",
              "    <tr>\n",
              "      <th>0</th>\n",
              "      <td>no</td>\n",
              "      <td>2236</td>\n",
              "    </tr>\n",
              "    <tr>\n",
              "      <th>1</th>\n",
              "      <td>bien</td>\n",
              "      <td>352</td>\n",
              "    </tr>\n",
              "    <tr>\n",
              "      <th>2</th>\n",
              "      <td>mas</td>\n",
              "      <td>340</td>\n",
              "    </tr>\n",
              "    <tr>\n",
              "      <th>3</th>\n",
              "      <td>si</td>\n",
              "      <td>306</td>\n",
              "    </tr>\n",
              "    <tr>\n",
              "      <th>4</th>\n",
              "      <td>producto</td>\n",
              "      <td>299</td>\n",
              "    </tr>\n",
              "  </tbody>\n",
              "</table>\n",
              "</div>"
            ],
            "text/plain": [
              "       Word  Frequency\n",
              "0        no       2236\n",
              "1      bien        352\n",
              "2       mas        340\n",
              "3        si        306\n",
              "4  producto        299"
            ]
          },
          "metadata": {
            "tags": []
          },
          "execution_count": 52
        }
      ]
    },
    {
      "cell_type": "code",
      "metadata": {
        "id": "YF4XPlI5067O",
        "colab": {
          "base_uri": "https://localhost:8080/",
          "height": 558
        },
        "outputId": "7904b8d8-2b72-494e-8565-6a6e4cf484ec"
      },
      "source": [
        "plt.figure(figsize = (15,8))\n",
        "plot = sns.barplot(x  = df_neg1.iloc[:30].Word, y = df_neg.iloc[:30].Frequency)\n",
        "for item in plot.get_xticklabels():\n",
        "    item.set_rotation(90)\n",
        "plt.show()"
      ],
      "execution_count": null,
      "outputs": [
        {
          "output_type": "display_data",
          "data": {
            "image/png": "[encoded data removed]",
            "text/plain": [
              "<Figure size 1080x576 with 1 Axes>"
            ]
          },
          "metadata": {
            "tags": []
          }
        }
      ]
    },
    {
      "cell_type": "markdown",
      "metadata": {
        "id": "k0nFtOmteHfj"
      },
      "source": [
        "En este grafico se observan las palabras más utilizadas en reseñas negativas y su frecuencia. Notamos que algunas de las palabras son diferentes a cuando usamos stemmig."
      ]
    },
    {
      "cell_type": "markdown",
      "metadata": {
        "id": "a12ZDolOz2uz"
      },
      "source": [
        "#Analisis de Reseñas Positivas con Lemmatization\n",
        "\n",
        "En esta seccion analizaremos las palabras mas frecuentes a encontrar en reseñas \"Positivas\". Continuaremos trabajando con el dataset en el que se trabajo con lemmatization."
      ]
    },
    {
      "cell_type": "code",
      "metadata": {
        "id": "T4hHepNmz4Ud",
        "colab": {
          "base_uri": "https://localhost:8080/",
          "height": 204
        },
        "outputId": "0feab1ce-2283-4e90-d62a-3ec97837e110"
      },
      "source": [
        "dataset_positive_lem = dataset_lem[dataset_lem.review =='positive']\n",
        "dataset_positive_lem.head()"
      ],
      "execution_count": null,
      "outputs": [
        {
          "output_type": "execute_result",
          "data": {
            "text/html": [
              "<div>\n",
              "<style scoped>\n",
              "    .dataframe tbody tr th:only-of-type {\n",
              "        vertical-align: middle;\n",
              "    }\n",
              "\n",
              "    .dataframe tbody tr th {\n",
              "        vertical-align: top;\n",
              "    }\n",
              "\n",
              "    .dataframe thead th {\n",
              "        text-align: right;\n",
              "    }\n",
              "</style>\n",
              "<table border=\"1\" class=\"dataframe\">\n",
              "  <thead>\n",
              "    <tr style=\"text-align: right;\">\n",
              "      <th></th>\n",
              "      <th>stars</th>\n",
              "      <th>body_lem_clean</th>\n",
              "      <th>review</th>\n",
              "    </tr>\n",
              "  </thead>\n",
              "  <tbody>\n",
              "    <tr>\n",
              "      <th>2000</th>\n",
              "      <td>3</td>\n",
              "      <td>gusto color tejido calidad espuma recomendable</td>\n",
              "      <td>positive</td>\n",
              "    </tr>\n",
              "    <tr>\n",
              "      <th>2001</th>\n",
              "      <td>3</td>\n",
              "      <td>llegado rapido mas pequena pensaba no caben ta...</td>\n",
              "      <td>positive</td>\n",
              "    </tr>\n",
              "    <tr>\n",
              "      <th>2002</th>\n",
              "      <td>3</td>\n",
              "      <td>gustado producto</td>\n",
              "      <td>positive</td>\n",
              "    </tr>\n",
              "    <tr>\n",
              "      <th>2003</th>\n",
              "      <td>3</td>\n",
              "      <td>despega rapido hecho sido cocerlo</td>\n",
              "      <td>positive</td>\n",
              "    </tr>\n",
              "    <tr>\n",
              "      <th>2004</th>\n",
              "      <td>3</td>\n",
              "      <td>no parece tampoco especifico animales aprieto ...</td>\n",
              "      <td>positive</td>\n",
              "    </tr>\n",
              "  </tbody>\n",
              "</table>\n",
              "</div>"
            ],
            "text/plain": [
              "      stars                                     body_lem_clean    review\n",
              "2000      3     gusto color tejido calidad espuma recomendable  positive\n",
              "2001      3  llegado rapido mas pequena pensaba no caben ta...  positive\n",
              "2002      3                                   gustado producto  positive\n",
              "2003      3                  despega rapido hecho sido cocerlo  positive\n",
              "2004      3  no parece tampoco especifico animales aprieto ...  positive"
            ]
          },
          "metadata": {
            "tags": []
          },
          "execution_count": 54
        }
      ]
    },
    {
      "cell_type": "code",
      "metadata": {
        "id": "wqdzlMRDz4gs"
      },
      "source": [
        "\n",
        "todos_titulares_positivos = []\n",
        "for i in range(dataset_positive_lem.shape[0]):\n",
        "    titular = dataset_positive_lem.iloc[i].body_lem_clean\n",
        "    titular = nltk.tokenize.RegexpTokenizer(\"[\\w]+\").tokenize(titular)\n",
        "    titular = [word for word in titular if word not in stopwords]\n",
        "   \n",
        "\n",
        "    todos_titulares_positivos.append(titular)"
      ],
      "execution_count": null,
      "outputs": []
    },
    {
      "cell_type": "code",
      "metadata": {
        "id": "MXEKOMD8z4pP"
      },
      "source": [
        "todos_titulares_positivos = list(itertools.chain(*todos_titulares_positivos))"
      ],
      "execution_count": null,
      "outputs": []
    },
    {
      "cell_type": "code",
      "metadata": {
        "id": "yqSFLniKz4xa"
      },
      "source": [
        "freq_positivos = nltk.FreqDist(todos_titulares_positivos)\n"
      ],
      "execution_count": null,
      "outputs": []
    },
    {
      "cell_type": "code",
      "metadata": {
        "id": "40V2r69Nz44t",
        "colab": {
          "base_uri": "https://localhost:8080/",
          "height": 204
        },
        "outputId": "bb02a15a-3c3d-40bb-94a6-f34c4d7bf763"
      },
      "source": [
        "df_pos1 = pd.DataFrame(list(freq_positivos.items()), columns = [\"Word\",\"Frequency\"])\n",
        "# ordenar por frecuencia\n",
        "df_pos1.sort_values('Frequency',ascending=False, inplace = True)\n",
        "df_pos1.reset_index(drop = True, inplace=True)\n",
        "df_pos1.head()\n"
      ],
      "execution_count": null,
      "outputs": [
        {
          "output_type": "execute_result",
          "data": {
            "text/html": [
              "<div>\n",
              "<style scoped>\n",
              "    .dataframe tbody tr th:only-of-type {\n",
              "        vertical-align: middle;\n",
              "    }\n",
              "\n",
              "    .dataframe tbody tr th {\n",
              "        vertical-align: top;\n",
              "    }\n",
              "\n",
              "    .dataframe thead th {\n",
              "        text-align: right;\n",
              "    }\n",
              "</style>\n",
              "<table border=\"1\" class=\"dataframe\">\n",
              "  <thead>\n",
              "    <tr style=\"text-align: right;\">\n",
              "      <th></th>\n",
              "      <th>Word</th>\n",
              "      <th>Frequency</th>\n",
              "    </tr>\n",
              "  </thead>\n",
              "  <tbody>\n",
              "    <tr>\n",
              "      <th>0</th>\n",
              "      <td>no</td>\n",
              "      <td>1617</td>\n",
              "    </tr>\n",
              "    <tr>\n",
              "      <th>1</th>\n",
              "      <td>bien</td>\n",
              "      <td>978</td>\n",
              "    </tr>\n",
              "    <tr>\n",
              "      <th>2</th>\n",
              "      <td>mas</td>\n",
              "      <td>593</td>\n",
              "    </tr>\n",
              "    <tr>\n",
              "      <th>3</th>\n",
              "      <td>calidad</td>\n",
              "      <td>551</td>\n",
              "    </tr>\n",
              "    <tr>\n",
              "      <th>4</th>\n",
              "      <td>precio</td>\n",
              "      <td>466</td>\n",
              "    </tr>\n",
              "  </tbody>\n",
              "</table>\n",
              "</div>"
            ],
            "text/plain": [
              "      Word  Frequency\n",
              "0       no       1617\n",
              "1     bien        978\n",
              "2      mas        593\n",
              "3  calidad        551\n",
              "4   precio        466"
            ]
          },
          "metadata": {
            "tags": []
          },
          "execution_count": 58
        }
      ]
    },
    {
      "cell_type": "code",
      "metadata": {
        "id": "FPzl2Dex0IEu",
        "colab": {
          "base_uri": "https://localhost:8080/",
          "height": 575
        },
        "outputId": "84e39b3f-0a33-4c7d-912e-e5aaaeef9802"
      },
      "source": [
        "plt.figure(figsize = (15,8))\n",
        "plot = sns.barplot(x  = df_pos1.iloc[:30].Word, y = df_pos.iloc[:30].Frequency)\n",
        "for item in plot.get_xticklabels():\n",
        "    item.set_rotation(90)\n",
        "plt.show()"
      ],
      "execution_count": null,
      "outputs": [
        {
          "output_type": "display_data",
          "data": {
            "image/png": "[encoded data removed]",
            "text/plain": [
              "<Figure size 1080x576 with 1 Axes>"
            ]
          },
          "metadata": {
            "tags": []
          }
        }
      ]
    },
    {
      "cell_type": "markdown",
      "metadata": {
        "id": "BOx9LxofekVU"
      },
      "source": [
        "En este grafico se observan las palabras más utilizadas en reseñas positivas y su frecuencia. Notamos que algunas de las palabras son diferentes a cuando usamos stemmig."
      ]
    },
    {
      "cell_type": "markdown",
      "metadata": {
        "id": "EGQL_XTRMTGL"
      },
      "source": [
        "**Pregunta: ¿Obtenemos listas distintas de palabras mas usadas si tokenizamos con lematizacion o con stemmizacion?**"
      ]
    },
    {
      "cell_type": "code",
      "metadata": {
        "id": "L1UQ4kE8MSiy",
        "colab": {
          "base_uri": "https://localhost:8080/"
        },
        "outputId": "a01cbf17-30a5-49fa-e55b-3fc5c800363e"
      },
      "source": [
        "#Reseñas positivas\n",
        "print(\"lem\",df_pos1.head())\n",
        "\n",
        "print(\"stem\",df_pos.head())"
      ],
      "execution_count": null,
      "outputs": [
        {
          "output_type": "stream",
          "text": [
            "lem       Word  Frequency\n",
            "0       no       1617\n",
            "1     bien        978\n",
            "2      mas        593\n",
            "3  calidad        551\n",
            "4   precio        466\n",
            "stem     Word  Frequency\n",
            "0     no       1669\n",
            "1   bien        949\n",
            "2   buen        857\n",
            "3  calid        687\n",
            "4  preci        573\n"
          ],
          "name": "stdout"
        }
      ]
    },
    {
      "cell_type": "code",
      "metadata": {
        "id": "HloSI1vZNU6v",
        "colab": {
          "base_uri": "https://localhost:8080/"
        },
        "outputId": "f9d6b021-a8be-471e-e98d-2a90a1e6523e"
      },
      "source": [
        "#Reseñas negativas\n",
        "print(\"lem\",df_neg1.head())\n",
        "\n",
        "print(\"stem\",df_neg.head())"
      ],
      "execution_count": null,
      "outputs": [
        {
          "output_type": "stream",
          "text": [
            "lem        Word  Frequency\n",
            "0        no       2236\n",
            "1      bien        352\n",
            "2       mas        340\n",
            "3        si        306\n",
            "4  producto        299\n",
            "stem       Word  Frequency\n",
            "0       no       2379\n",
            "1     lleg        399\n",
            "2    compr        367\n",
            "3     bien        355\n",
            "4  product        333\n"
          ],
          "name": "stdout"
        }
      ]
    },
    {
      "cell_type": "markdown",
      "metadata": {
        "id": "WPaACCjcer7V"
      },
      "source": [
        "En el analisis comparativo notamos en las 5 palabras mas utilizadas en las reseñas positivas y negativas que estas varían levemente de acuerdo a la tecnica que se utilize para tokenizar. Sin embargo observando los gráficos notamos que estas diferencias no son muy significativas ya que las frecuencias en ciertas palabras fluctuan poco. Optamos por seguir trabajando con el dataset en el que utilizamos lemmatization ya que se considera la solucion mas \"elegante\"."
      ]
    },
    {
      "cell_type": "markdown",
      "metadata": {
        "id": "o05-2PkxKWkh"
      },
      "source": [
        "#Vectorizar Dataset Lem\n",
        "\n"
      ]
    },
    {
      "cell_type": "code",
      "metadata": {
        "id": "65Q4WJBuG3yP"
      },
      "source": [
        "# Tomamso la lista de palabras y el vector que nos dice si es o no sarcastico el titulo\n",
        "list_titulos = list(dataset_lem['body_lem_clean'].values)\n",
        "stars = dataset_lem['stars'].values"
      ],
      "execution_count": null,
      "outputs": []
    },
    {
      "cell_type": "code",
      "metadata": {
        "id": "evHh2E-KKUzy"
      },
      "source": [
        "from sklearn.feature_extraction.text import CountVectorizer\n",
        "\n",
        "# Usaremos solo las 1000 palabras con mas frecuencia en todo el corpus para generar los vectores\n",
        "max_features=1000\n",
        "\n",
        "# Es decir que cada instancia tendrá 1000 features\n",
        "cou_vec=CountVectorizer(max_features=max_features) # stop_words=\"english\" , ngram_range=(1, 2)"
      ],
      "execution_count": null,
      "outputs": []
    },
    {
      "cell_type": "markdown",
      "metadata": {
        "id": "TkDz2rUCLyT7"
      },
      "source": [
        "#Modelos Benchmark (para el dataset Lem)\n",
        "\n",
        "Nuevamente procedemos a realizar modelos de benchmark utilizando modelos de prediccion simples sin optimizacion de hiperparametros."
      ]
    },
    {
      "cell_type": "code",
      "metadata": {
        "id": "oRvIuU8oLq5d",
        "colab": {
          "base_uri": "https://localhost:8080/"
        },
        "outputId": "e1700dc2-e815-4d4c-f5eb-ce0f87031757"
      },
      "source": [
        "matriz_titulos = cou_vec.fit_transform(list_titulos)\n",
        "\n",
        "# Tomamos las palabras\n",
        "all_words = cou_vec.get_feature_names()\n",
        "\n",
        "# Vizualizamos las 50 palabras mas usadas\n",
        "print(\"50 palabras mas usadas: \",all_words[0:50])"
      ],
      "execution_count": null,
      "outputs": [
        {
          "output_type": "stream",
          "text": [
            "50 palabras mas usadas:  ['abajo', 'abierta', 'abierto', 'abre', 'abrir', 'acaba', 'acabado', 'acabados', 'acabo', 'accesorios', 'aceite', 'aceptable', 'aconsejo', 'adapta', 'adaptador', 'adecuado', 'ademas', 'adhesivo', 'agradable', 'agua', 'aguanta', 'agujero', 'agujeros', 'ahi', 'ahora', 'aire', 'ajusta', 'ajuste', 'alguien', 'algun', 'alguna', 'alta', 'altavoz', 'alto', 'altura', 'amazon', 'ancho', 'ano', 'anos', 'antena', 'anterior', 'anuncio', 'apaga', 'aparato', 'aparece', 'aparte', 'apenas', 'aplicacion', 'app', 'apple']\n"
          ],
          "name": "stdout"
        }
      ]
    },
    {
      "cell_type": "code",
      "metadata": {
        "id": "hCGNLv83Lq5n"
      },
      "source": [
        "#creamos sets de test y de train\n",
        "x = matriz_titulos.toarray()\n",
        "y = stars\n",
        "\n",
        "from sklearn.model_selection import train_test_split\n",
        "xtrain, xtest, ytrain, ytest = train_test_split(x,y,test_size=0.2,random_state=42,stratify=y)"
      ],
      "execution_count": null,
      "outputs": []
    },
    {
      "cell_type": "code",
      "metadata": {
        "id": "BhCy-lnULq5q"
      },
      "source": [
        "from sklearn.metrics import confusion_matrix\n",
        "import seaborn as sns\n",
        "\n",
        "def confusion(ytest,y_pred):\n",
        "    names=[\"1\",\"2\",'3','4','5']\n",
        "    cm=confusion_matrix(ytest,y_pred)\n",
        "    f,ax=plt.subplots(figsize=(5,5))\n",
        "    sns.heatmap(cm,annot=True,linewidth=.5,linecolor=\"r\",fmt=\".0f\",ax=ax)\n",
        "    plt.xlabel(\"y_pred\")\n",
        "    plt.ylabel(\"y_true\")\n",
        "    ax.set_xticklabels(names)\n",
        "    ax.set_yticklabels(names)\n",
        "    plt.show()\n",
        "\n",
        "    return"
      ],
      "execution_count": null,
      "outputs": []
    },
    {
      "cell_type": "code",
      "metadata": {
        "id": "pquAXJCPLq5r",
        "colab": {
          "base_uri": "https://localhost:8080/"
        },
        "outputId": "6db8008a-700d-47f1-c06e-180dec38e10c"
      },
      "source": [
        "from sklearn.naive_bayes import GaussianNB\n",
        "nb = GaussianNB()\n",
        "nb.fit(xtrain,ytrain)\n",
        "print(\"acc : \", nb.score(xtest,ytest))"
      ],
      "execution_count": null,
      "outputs": [
        {
          "output_type": "stream",
          "text": [
            "acc :  0.318\n"
          ],
          "name": "stdout"
        }
      ]
    },
    {
      "cell_type": "code",
      "metadata": {
        "id": "-0dlbCe4Lq5u",
        "colab": {
          "base_uri": "https://localhost:8080/",
          "height": 339
        },
        "outputId": "9ed0093c-3c4c-4d61-f573-196e977d4c7c"
      },
      "source": [
        "y_pred=nb.predict(xtest)\n",
        "confusion(ytest,y_pred)"
      ],
      "execution_count": null,
      "outputs": [
        {
          "output_type": "display_data",
          "data": {
            "image/png": "[encoded data removed]",
            "text/plain": [
              "<Figure size 360x360 with 2 Axes>"
            ]
          },
          "metadata": {
            "tags": []
          }
        }
      ]
    },
    {
      "cell_type": "code",
      "metadata": {
        "id": "RRPSZ-qJLq5w",
        "colab": {
          "base_uri": "https://localhost:8080/"
        },
        "outputId": "9645c65d-7767-4dd1-86d4-f7da5ed84b72"
      },
      "source": [
        "from sklearn.ensemble import RandomForestClassifier\n",
        "from sklearn.metrics import confusion_matrix\n",
        "\n",
        "rf = RandomForestClassifier(n_estimators = 50, random_state=42)\n",
        "rf.fit(xtrain,ytrain)\n",
        "print(\"acc: \",rf.score(xtest,ytest))"
      ],
      "execution_count": null,
      "outputs": [
        {
          "output_type": "stream",
          "text": [
            "acc:  0.389\n"
          ],
          "name": "stdout"
        }
      ]
    },
    {
      "cell_type": "code",
      "metadata": {
        "id": "MZj7WLcALq5y",
        "colab": {
          "base_uri": "https://localhost:8080/",
          "height": 339
        },
        "outputId": "bd5ba519-30d0-44b7-b155-d4c19c864f56"
      },
      "source": [
        "\n",
        "y_pred=rf.predict(xtest)\n",
        "confusion(ytest,y_pred)"
      ],
      "execution_count": null,
      "outputs": [
        {
          "output_type": "display_data",
          "data": {
            "image/png": "[encoded data removed]",
            "text/plain": [
              "<Figure size 360x360 with 2 Axes>"
            ]
          },
          "metadata": {
            "tags": []
          }
        }
      ]
    },
    {
      "cell_type": "code",
      "metadata": {
        "id": "wQX5nPJrLq50",
        "colab": {
          "base_uri": "https://localhost:8080/"
        },
        "outputId": "7a7dd1fd-6587-48a9-8665-65067a03d293"
      },
      "source": [
        "\n",
        "# Notar que en vez de utilizar SVC, vamos a usar LinearSVC. \n",
        "# Para el Kernel Lineal, esta función es MUCHO mas rapida que la tradicional SVC.\n",
        "from sklearn.svm import LinearSVC\n",
        "\n",
        "svc = LinearSVC(C = 1)\n",
        "svc.fit(xtrain,ytrain)\n",
        "svc.score(xtest,ytest)"
      ],
      "execution_count": null,
      "outputs": [
        {
          "output_type": "execute_result",
          "data": {
            "text/plain": [
              "0.395"
            ]
          },
          "metadata": {
            "tags": []
          },
          "execution_count": 71
        }
      ]
    },
    {
      "cell_type": "code",
      "metadata": {
        "id": "d46w-1RLLq52",
        "colab": {
          "base_uri": "https://localhost:8080/",
          "height": 339
        },
        "outputId": "6d7ffd98-5d1f-4aa1-f746-e91965d34518"
      },
      "source": [
        "y_pred = svc.predict(xtest)\n",
        "confusion(ytest,y_pred)"
      ],
      "execution_count": null,
      "outputs": [
        {
          "output_type": "display_data",
          "data": {
            "image/png": "[encoded data removed]",
            "text/plain": [
              "<Figure size 360x360 with 2 Axes>"
            ]
          },
          "metadata": {
            "tags": []
          }
        }
      ]
    },
    {
      "cell_type": "markdown",
      "metadata": {
        "id": "Yu3J5B3Nfrg-"
      },
      "source": [
        "Podemos observar de que los tres modelos implementados obtuvieron un puntaje relativamente bajo en los modelos de benchmark. Esperamos obtener mejores modelos cuando trabajemos con optimización de hiperparametros. Seguiremos trabajando con un modelo de SVC ya que fue el que obtuvo mejores resultados en la etapa de benchmark.\n"
      ]
    },
    {
      "cell_type": "markdown",
      "metadata": {
        "id": "TOV6OW1UOBNF"
      },
      "source": [
        "# Modelos de prediccion\n",
        "\n",
        "En esta seccion desarrollaremos un modelo para predecir la cantidad de estrellas de un producto en base a la reseña del usuario. Usaremos SVC para el modelo y optimizaremos los hiperparametros utilizando grid search."
      ]
    },
    {
      "cell_type": "code",
      "metadata": {
        "id": "kPDs7pbaN_pD"
      },
      "source": [
        "from sklearn.metrics import classification_report, confusion_matrix \n",
        "from sklearn.datasets import load_breast_cancer \n",
        "from sklearn.svm import SVC "
      ],
      "execution_count": null,
      "outputs": []
    },
    {
      "cell_type": "code",
      "metadata": {
        "id": "nAC2JhU_N7ie",
        "colab": {
          "base_uri": "https://localhost:8080/"
        },
        "outputId": "2bce00c6-db72-4cd9-de7f-5b276f1beb54"
      },
      "source": [
        "from sklearn.model_selection import GridSearchCV \n",
        "\n",
        "# Definimos rangos de los hiperparametros\n",
        "param_grid = {'C': [0.1, 1, 10, 100, 1000],  \n",
        "              'gamma': [1, 0.1, 0.01, 0.001, 0.0001], \n",
        "              'kernel': ['rbf']}  \n",
        "  \n",
        "grid = GridSearchCV(SVC(), param_grid, refit = True, verbose = 3) \n",
        "  \n",
        "# fitting the model for grid search \n",
        "grid.fit(xtrain, ytrain) "
      ],
      "execution_count": null,
      "outputs": [
        {
          "output_type": "stream",
          "text": [
            "Fitting 5 folds for each of 25 candidates, totalling 125 fits\n",
            "[CV] C=0.1, gamma=1, kernel=rbf ......................................\n"
          ],
          "name": "stdout"
        },
        {
          "output_type": "stream",
          "text": [
            "[Parallel(n_jobs=1)]: Using backend SequentialBackend with 1 concurrent workers.\n"
          ],
          "name": "stderr"
        },
        {
          "output_type": "stream",
          "text": [
            "[CV] .......... C=0.1, gamma=1, kernel=rbf, score=0.215, total=  31.8s\n",
            "[CV] C=0.1, gamma=1, kernel=rbf ......................................\n"
          ],
          "name": "stdout"
        },
        {
          "output_type": "stream",
          "text": [
            "[Parallel(n_jobs=1)]: Done   1 out of   1 | elapsed:   31.8s remaining:    0.0s\n"
          ],
          "name": "stderr"
        },
        {
          "output_type": "stream",
          "text": [
            "[CV] .......... C=0.1, gamma=1, kernel=rbf, score=0.223, total=  31.9s\n",
            "[CV] C=0.1, gamma=1, kernel=rbf ......................................\n"
          ],
          "name": "stdout"
        },
        {
          "output_type": "stream",
          "text": [
            "[Parallel(n_jobs=1)]: Done   2 out of   2 | elapsed:  1.1min remaining:    0.0s\n"
          ],
          "name": "stderr"
        },
        {
          "output_type": "stream",
          "text": [
            "[CV] .......... C=0.1, gamma=1, kernel=rbf, score=0.204, total=  31.6s\n",
            "[CV] C=0.1, gamma=1, kernel=rbf ......................................\n",
            "[CV] .......... C=0.1, gamma=1, kernel=rbf, score=0.204, total=  31.4s\n",
            "[CV] C=0.1, gamma=1, kernel=rbf ......................................\n",
            "[CV] .......... C=0.1, gamma=1, kernel=rbf, score=0.206, total=  31.3s\n",
            "[CV] C=0.1, gamma=0.1, kernel=rbf ....................................\n",
            "[CV] ........ C=0.1, gamma=0.1, kernel=rbf, score=0.292, total=  30.0s\n",
            "[CV] C=0.1, gamma=0.1, kernel=rbf ....................................\n",
            "[CV] ........ C=0.1, gamma=0.1, kernel=rbf, score=0.329, total=  29.4s\n",
            "[CV] C=0.1, gamma=0.1, kernel=rbf ....................................\n",
            "[CV] ........ C=0.1, gamma=0.1, kernel=rbf, score=0.321, total=  29.3s\n",
            "[CV] C=0.1, gamma=0.1, kernel=rbf ....................................\n",
            "[CV] ........ C=0.1, gamma=0.1, kernel=rbf, score=0.320, total=  28.8s\n",
            "[CV] C=0.1, gamma=0.1, kernel=rbf ....................................\n",
            "[CV] ........ C=0.1, gamma=0.1, kernel=rbf, score=0.301, total=  28.7s\n",
            "[CV] C=0.1, gamma=0.01, kernel=rbf ...................................\n",
            "[CV] ....... C=0.1, gamma=0.01, kernel=rbf, score=0.301, total=  29.3s\n",
            "[CV] C=0.1, gamma=0.01, kernel=rbf ...................................\n",
            "[CV] ....... C=0.1, gamma=0.01, kernel=rbf, score=0.306, total=  29.3s\n",
            "[CV] C=0.1, gamma=0.01, kernel=rbf ...................................\n",
            "[CV] ....... C=0.1, gamma=0.01, kernel=rbf, score=0.297, total=  29.3s\n",
            "[CV] C=0.1, gamma=0.01, kernel=rbf ...................................\n",
            "[CV] ....... C=0.1, gamma=0.01, kernel=rbf, score=0.282, total=  29.4s\n",
            "[CV] C=0.1, gamma=0.01, kernel=rbf ...................................\n",
            "[CV] ....... C=0.1, gamma=0.01, kernel=rbf, score=0.284, total=  29.4s\n",
            "[CV] C=0.1, gamma=0.001, kernel=rbf ..................................\n",
            "[CV] ...... C=0.1, gamma=0.001, kernel=rbf, score=0.233, total=  29.8s\n",
            "[CV] C=0.1, gamma=0.001, kernel=rbf ..................................\n",
            "[CV] ...... C=0.1, gamma=0.001, kernel=rbf, score=0.231, total=  29.7s\n",
            "[CV] C=0.1, gamma=0.001, kernel=rbf ..................................\n",
            "[CV] ...... C=0.1, gamma=0.001, kernel=rbf, score=0.237, total=  29.7s\n",
            "[CV] C=0.1, gamma=0.001, kernel=rbf ..................................\n",
            "[CV] ...... C=0.1, gamma=0.001, kernel=rbf, score=0.225, total=  29.8s\n",
            "[CV] C=0.1, gamma=0.001, kernel=rbf ..................................\n",
            "[CV] ...... C=0.1, gamma=0.001, kernel=rbf, score=0.226, total=  29.8s\n",
            "[CV] C=0.1, gamma=0.0001, kernel=rbf .................................\n",
            "[CV] ..... C=0.1, gamma=0.0001, kernel=rbf, score=0.235, total=  29.9s\n",
            "[CV] C=0.1, gamma=0.0001, kernel=rbf .................................\n",
            "[CV] ..... C=0.1, gamma=0.0001, kernel=rbf, score=0.230, total=  29.9s\n",
            "[CV] C=0.1, gamma=0.0001, kernel=rbf .................................\n",
            "[CV] ..... C=0.1, gamma=0.0001, kernel=rbf, score=0.235, total=  29.9s\n",
            "[CV] C=0.1, gamma=0.0001, kernel=rbf .................................\n",
            "[CV] ..... C=0.1, gamma=0.0001, kernel=rbf, score=0.225, total=  30.4s\n",
            "[CV] C=0.1, gamma=0.0001, kernel=rbf .................................\n",
            "[CV] ..... C=0.1, gamma=0.0001, kernel=rbf, score=0.224, total=  31.7s\n",
            "[CV] C=1, gamma=1, kernel=rbf ........................................\n",
            "[CV] ............ C=1, gamma=1, kernel=rbf, score=0.239, total=  31.7s\n",
            "[CV] C=1, gamma=1, kernel=rbf ........................................\n",
            "[CV] ............ C=1, gamma=1, kernel=rbf, score=0.259, total=  31.4s\n",
            "[CV] C=1, gamma=1, kernel=rbf ........................................\n",
            "[CV] ............ C=1, gamma=1, kernel=rbf, score=0.247, total=  31.8s\n",
            "[CV] C=1, gamma=1, kernel=rbf ........................................\n",
            "[CV] ............ C=1, gamma=1, kernel=rbf, score=0.246, total=  31.7s\n",
            "[CV] C=1, gamma=1, kernel=rbf ........................................\n",
            "[CV] ............ C=1, gamma=1, kernel=rbf, score=0.265, total=  31.0s\n",
            "[CV] C=1, gamma=0.1, kernel=rbf ......................................\n",
            "[CV] .......... C=1, gamma=0.1, kernel=rbf, score=0.366, total=  27.4s\n",
            "[CV] C=1, gamma=0.1, kernel=rbf ......................................\n",
            "[CV] .......... C=1, gamma=0.1, kernel=rbf, score=0.405, total=  27.2s\n",
            "[CV] C=1, gamma=0.1, kernel=rbf ......................................\n",
            "[CV] .......... C=1, gamma=0.1, kernel=rbf, score=0.383, total=  26.8s\n",
            "[CV] C=1, gamma=0.1, kernel=rbf ......................................\n",
            "[CV] .......... C=1, gamma=0.1, kernel=rbf, score=0.422, total=  26.5s\n",
            "[CV] C=1, gamma=0.1, kernel=rbf ......................................\n",
            "[CV] .......... C=1, gamma=0.1, kernel=rbf, score=0.409, total=  26.7s\n",
            "[CV] C=1, gamma=0.01, kernel=rbf .....................................\n",
            "[CV] ......... C=1, gamma=0.01, kernel=rbf, score=0.352, total=  25.7s\n",
            "[CV] C=1, gamma=0.01, kernel=rbf .....................................\n",
            "[CV] ......... C=1, gamma=0.01, kernel=rbf, score=0.378, total=  26.8s\n",
            "[CV] C=1, gamma=0.01, kernel=rbf .....................................\n",
            "[CV] ......... C=1, gamma=0.01, kernel=rbf, score=0.364, total=  26.2s\n",
            "[CV] C=1, gamma=0.01, kernel=rbf .....................................\n",
            "[CV] ......... C=1, gamma=0.01, kernel=rbf, score=0.378, total=  26.0s\n",
            "[CV] C=1, gamma=0.01, kernel=rbf .....................................\n",
            "[CV] ......... C=1, gamma=0.01, kernel=rbf, score=0.374, total=  26.1s\n",
            "[CV] C=1, gamma=0.001, kernel=rbf ....................................\n",
            "[CV] ........ C=1, gamma=0.001, kernel=rbf, score=0.324, total=  29.1s\n",
            "[CV] C=1, gamma=0.001, kernel=rbf ....................................\n",
            "[CV] ........ C=1, gamma=0.001, kernel=rbf, score=0.295, total=  29.2s\n",
            "[CV] C=1, gamma=0.001, kernel=rbf ....................................\n",
            "[CV] ........ C=1, gamma=0.001, kernel=rbf, score=0.299, total=  29.2s\n",
            "[CV] C=1, gamma=0.001, kernel=rbf ....................................\n",
            "[CV] ........ C=1, gamma=0.001, kernel=rbf, score=0.280, total=  29.3s\n",
            "[CV] C=1, gamma=0.001, kernel=rbf ....................................\n",
            "[CV] ........ C=1, gamma=0.001, kernel=rbf, score=0.276, total=  29.4s\n",
            "[CV] C=1, gamma=0.0001, kernel=rbf ...................................\n",
            "[CV] ....... C=1, gamma=0.0001, kernel=rbf, score=0.235, total=  30.3s\n",
            "[CV] C=1, gamma=0.0001, kernel=rbf ...................................\n",
            "[CV] ....... C=1, gamma=0.0001, kernel=rbf, score=0.230, total=  30.0s\n",
            "[CV] C=1, gamma=0.0001, kernel=rbf ...................................\n",
            "[CV] ....... C=1, gamma=0.0001, kernel=rbf, score=0.235, total=  30.0s\n",
            "[CV] C=1, gamma=0.0001, kernel=rbf ...................................\n",
            "[CV] ....... C=1, gamma=0.0001, kernel=rbf, score=0.225, total=  30.0s\n",
            "[CV] C=1, gamma=0.0001, kernel=rbf ...................................\n",
            "[CV] ....... C=1, gamma=0.0001, kernel=rbf, score=0.224, total=  31.5s\n",
            "[CV] C=10, gamma=1, kernel=rbf .......................................\n",
            "[CV] ........... C=10, gamma=1, kernel=rbf, score=0.244, total=  31.9s\n",
            "[CV] C=10, gamma=1, kernel=rbf .......................................\n",
            "[CV] ........... C=10, gamma=1, kernel=rbf, score=0.261, total=  31.7s\n",
            "[CV] C=10, gamma=1, kernel=rbf .......................................\n",
            "[CV] ........... C=10, gamma=1, kernel=rbf, score=0.236, total=  31.3s\n",
            "[CV] C=10, gamma=1, kernel=rbf .......................................\n",
            "[CV] ........... C=10, gamma=1, kernel=rbf, score=0.245, total=  31.3s\n",
            "[CV] C=10, gamma=1, kernel=rbf .......................................\n",
            "[CV] ........... C=10, gamma=1, kernel=rbf, score=0.264, total=  31.0s\n",
            "[CV] C=10, gamma=0.1, kernel=rbf .....................................\n",
            "[CV] ......... C=10, gamma=0.1, kernel=rbf, score=0.356, total=  29.9s\n",
            "[CV] C=10, gamma=0.1, kernel=rbf .....................................\n",
            "[CV] ......... C=10, gamma=0.1, kernel=rbf, score=0.361, total=  29.4s\n",
            "[CV] C=10, gamma=0.1, kernel=rbf .....................................\n",
            "[CV] ......... C=10, gamma=0.1, kernel=rbf, score=0.365, total=  28.9s\n",
            "[CV] C=10, gamma=0.1, kernel=rbf .....................................\n",
            "[CV] ......... C=10, gamma=0.1, kernel=rbf, score=0.383, total=  28.9s\n",
            "[CV] C=10, gamma=0.1, kernel=rbf .....................................\n",
            "[CV] ......... C=10, gamma=0.1, kernel=rbf, score=0.354, total=  28.9s\n",
            "[CV] C=10, gamma=0.01, kernel=rbf ....................................\n",
            "[CV] ........ C=10, gamma=0.01, kernel=rbf, score=0.398, total=  22.2s\n",
            "[CV] C=10, gamma=0.01, kernel=rbf ....................................\n",
            "[CV] ........ C=10, gamma=0.01, kernel=rbf, score=0.401, total=  22.3s\n",
            "[CV] C=10, gamma=0.01, kernel=rbf ....................................\n",
            "[CV] ........ C=10, gamma=0.01, kernel=rbf, score=0.396, total=  22.6s\n",
            "[CV] C=10, gamma=0.01, kernel=rbf ....................................\n",
            "[CV] ........ C=10, gamma=0.01, kernel=rbf, score=0.425, total=  22.5s\n",
            "[CV] C=10, gamma=0.01, kernel=rbf ....................................\n",
            "[CV] ........ C=10, gamma=0.01, kernel=rbf, score=0.391, total=  22.4s\n",
            "[CV] C=10, gamma=0.001, kernel=rbf ...................................\n",
            "[CV] ....... C=10, gamma=0.001, kernel=rbf, score=0.361, total=  25.3s\n",
            "[CV] C=10, gamma=0.001, kernel=rbf ...................................\n",
            "[CV] ....... C=10, gamma=0.001, kernel=rbf, score=0.380, total=  25.4s\n",
            "[CV] C=10, gamma=0.001, kernel=rbf ...................................\n",
            "[CV] ....... C=10, gamma=0.001, kernel=rbf, score=0.375, total=  25.7s\n",
            "[CV] C=10, gamma=0.001, kernel=rbf ...................................\n",
            "[CV] ....... C=10, gamma=0.001, kernel=rbf, score=0.405, total=  25.6s\n",
            "[CV] C=10, gamma=0.001, kernel=rbf ...................................\n",
            "[CV] ....... C=10, gamma=0.001, kernel=rbf, score=0.375, total=  25.6s\n",
            "[CV] C=10, gamma=0.0001, kernel=rbf ..................................\n",
            "[CV] ...... C=10, gamma=0.0001, kernel=rbf, score=0.325, total=  29.0s\n",
            "[CV] C=10, gamma=0.0001, kernel=rbf ..................................\n",
            "[CV] ...... C=10, gamma=0.0001, kernel=rbf, score=0.296, total=  29.0s\n",
            "[CV] C=10, gamma=0.0001, kernel=rbf ..................................\n",
            "[CV] ...... C=10, gamma=0.0001, kernel=rbf, score=0.294, total=  29.0s\n",
            "[CV] C=10, gamma=0.0001, kernel=rbf ..................................\n",
            "[CV] ...... C=10, gamma=0.0001, kernel=rbf, score=0.273, total=  28.9s\n",
            "[CV] C=10, gamma=0.0001, kernel=rbf ..................................\n",
            "[CV] ...... C=10, gamma=0.0001, kernel=rbf, score=0.279, total=  29.4s\n",
            "[CV] C=100, gamma=1, kernel=rbf ......................................\n",
            "[CV] .......... C=100, gamma=1, kernel=rbf, score=0.244, total=  31.6s\n",
            "[CV] C=100, gamma=1, kernel=rbf ......................................\n",
            "[CV] .......... C=100, gamma=1, kernel=rbf, score=0.261, total=  31.4s\n",
            "[CV] C=100, gamma=1, kernel=rbf ......................................\n",
            "[CV] .......... C=100, gamma=1, kernel=rbf, score=0.236, total=  31.2s\n",
            "[CV] C=100, gamma=1, kernel=rbf ......................................\n",
            "[CV] .......... C=100, gamma=1, kernel=rbf, score=0.245, total=  31.5s\n",
            "[CV] C=100, gamma=1, kernel=rbf ......................................\n",
            "[CV] .......... C=100, gamma=1, kernel=rbf, score=0.264, total=  31.4s\n",
            "[CV] C=100, gamma=0.1, kernel=rbf ....................................\n",
            "[CV] ........ C=100, gamma=0.1, kernel=rbf, score=0.328, total=  29.7s\n",
            "[CV] C=100, gamma=0.1, kernel=rbf ....................................\n",
            "[CV] ........ C=100, gamma=0.1, kernel=rbf, score=0.357, total=  29.2s\n",
            "[CV] C=100, gamma=0.1, kernel=rbf ....................................\n",
            "[CV] ........ C=100, gamma=0.1, kernel=rbf, score=0.357, total=  29.1s\n",
            "[CV] C=100, gamma=0.1, kernel=rbf ....................................\n",
            "[CV] ........ C=100, gamma=0.1, kernel=rbf, score=0.366, total=  28.7s\n",
            "[CV] C=100, gamma=0.1, kernel=rbf ....................................\n",
            "[CV] ........ C=100, gamma=0.1, kernel=rbf, score=0.326, total=  28.7s\n",
            "[CV] C=100, gamma=0.01, kernel=rbf ...................................\n",
            "[CV] ....... C=100, gamma=0.01, kernel=rbf, score=0.371, total=  23.0s\n",
            "[CV] C=100, gamma=0.01, kernel=rbf ...................................\n",
            "[CV] ....... C=100, gamma=0.01, kernel=rbf, score=0.381, total=  22.6s\n",
            "[CV] C=100, gamma=0.01, kernel=rbf ...................................\n",
            "[CV] ....... C=100, gamma=0.01, kernel=rbf, score=0.393, total=  22.9s\n",
            "[CV] C=100, gamma=0.01, kernel=rbf ...................................\n",
            "[CV] ....... C=100, gamma=0.01, kernel=rbf, score=0.401, total=  22.2s\n",
            "[CV] C=100, gamma=0.01, kernel=rbf ...................................\n",
            "[CV] ....... C=100, gamma=0.01, kernel=rbf, score=0.345, total=  23.2s\n",
            "[CV] C=100, gamma=0.001, kernel=rbf ..................................\n",
            "[CV] ...... C=100, gamma=0.001, kernel=rbf, score=0.398, total=  21.8s\n",
            "[CV] C=100, gamma=0.001, kernel=rbf ..................................\n",
            "[CV] ...... C=100, gamma=0.001, kernel=rbf, score=0.406, total=  21.8s\n",
            "[CV] C=100, gamma=0.001, kernel=rbf ..................................\n",
            "[CV] ...... C=100, gamma=0.001, kernel=rbf, score=0.388, total=  22.0s\n",
            "[CV] C=100, gamma=0.001, kernel=rbf ..................................\n",
            "[CV] ...... C=100, gamma=0.001, kernel=rbf, score=0.425, total=  21.9s\n",
            "[CV] C=100, gamma=0.001, kernel=rbf ..................................\n",
            "[CV] ...... C=100, gamma=0.001, kernel=rbf, score=0.375, total=  22.2s\n",
            "[CV] C=100, gamma=0.0001, kernel=rbf .................................\n",
            "[CV] ..... C=100, gamma=0.0001, kernel=rbf, score=0.365, total=  25.6s\n",
            "[CV] C=100, gamma=0.0001, kernel=rbf .................................\n",
            "[CV] ..... C=100, gamma=0.0001, kernel=rbf, score=0.380, total=  25.5s\n",
            "[CV] C=100, gamma=0.0001, kernel=rbf .................................\n",
            "[CV] ..... C=100, gamma=0.0001, kernel=rbf, score=0.374, total=  25.8s\n",
            "[CV] C=100, gamma=0.0001, kernel=rbf .................................\n",
            "[CV] ..... C=100, gamma=0.0001, kernel=rbf, score=0.404, total=  25.6s\n",
            "[CV] C=100, gamma=0.0001, kernel=rbf .................................\n",
            "[CV] ..... C=100, gamma=0.0001, kernel=rbf, score=0.372, total=  25.8s\n",
            "[CV] C=1000, gamma=1, kernel=rbf .....................................\n",
            "[CV] ......... C=1000, gamma=1, kernel=rbf, score=0.244, total=  30.1s\n",
            "[CV] C=1000, gamma=1, kernel=rbf .....................................\n",
            "[CV] ......... C=1000, gamma=1, kernel=rbf, score=0.261, total=  30.1s\n",
            "[CV] C=1000, gamma=1, kernel=rbf .....................................\n",
            "[CV] ......... C=1000, gamma=1, kernel=rbf, score=0.236, total=  30.2s\n",
            "[CV] C=1000, gamma=1, kernel=rbf .....................................\n",
            "[CV] ......... C=1000, gamma=1, kernel=rbf, score=0.245, total=  30.2s\n",
            "[CV] C=1000, gamma=1, kernel=rbf .....................................\n",
            "[CV] ......... C=1000, gamma=1, kernel=rbf, score=0.264, total=  30.4s\n",
            "[CV] C=1000, gamma=0.1, kernel=rbf ...................................\n",
            "[CV] ....... C=1000, gamma=0.1, kernel=rbf, score=0.324, total=  28.8s\n",
            "[CV] C=1000, gamma=0.1, kernel=rbf ...................................\n",
            "[CV] ....... C=1000, gamma=0.1, kernel=rbf, score=0.355, total=  28.8s\n",
            "[CV] C=1000, gamma=0.1, kernel=rbf ...................................\n",
            "[CV] ....... C=1000, gamma=0.1, kernel=rbf, score=0.355, total=  28.9s\n",
            "[CV] C=1000, gamma=0.1, kernel=rbf ...................................\n",
            "[CV] ....... C=1000, gamma=0.1, kernel=rbf, score=0.357, total=  28.8s\n",
            "[CV] C=1000, gamma=0.1, kernel=rbf ...................................\n",
            "[CV] ....... C=1000, gamma=0.1, kernel=rbf, score=0.331, total=  28.7s\n",
            "[CV] C=1000, gamma=0.01, kernel=rbf ..................................\n",
            "[CV] ...... C=1000, gamma=0.01, kernel=rbf, score=0.349, total=  23.3s\n",
            "[CV] C=1000, gamma=0.01, kernel=rbf ..................................\n",
            "[CV] ...... C=1000, gamma=0.01, kernel=rbf, score=0.378, total=  23.5s\n",
            "[CV] C=1000, gamma=0.01, kernel=rbf ..................................\n",
            "[CV] ...... C=1000, gamma=0.01, kernel=rbf, score=0.376, total=  23.3s\n",
            "[CV] C=1000, gamma=0.01, kernel=rbf ..................................\n",
            "[CV] ...... C=1000, gamma=0.01, kernel=rbf, score=0.341, total=  22.3s\n",
            "[CV] C=1000, gamma=0.01, kernel=rbf ..................................\n",
            "[CV] ...... C=1000, gamma=0.01, kernel=rbf, score=0.336, total=  24.0s\n",
            "[CV] C=1000, gamma=0.001, kernel=rbf .................................\n",
            "[CV] ..... C=1000, gamma=0.001, kernel=rbf, score=0.374, total=  21.8s\n",
            "[CV] C=1000, gamma=0.001, kernel=rbf .................................\n",
            "[CV] ..... C=1000, gamma=0.001, kernel=rbf, score=0.369, total=  21.9s\n",
            "[CV] C=1000, gamma=0.001, kernel=rbf .................................\n",
            "[CV] ..... C=1000, gamma=0.001, kernel=rbf, score=0.390, total=  22.1s\n",
            "[CV] C=1000, gamma=0.001, kernel=rbf .................................\n",
            "[CV] ..... C=1000, gamma=0.001, kernel=rbf, score=0.384, total=  23.5s\n",
            "[CV] C=1000, gamma=0.001, kernel=rbf .................................\n",
            "[CV] ..... C=1000, gamma=0.001, kernel=rbf, score=0.340, total=  22.1s\n",
            "[CV] C=1000, gamma=0.0001, kernel=rbf ................................\n",
            "[CV] .... C=1000, gamma=0.0001, kernel=rbf, score=0.401, total=  23.1s\n",
            "[CV] C=1000, gamma=0.0001, kernel=rbf ................................\n",
            "[CV] .... C=1000, gamma=0.0001, kernel=rbf, score=0.405, total=  23.2s\n",
            "[CV] C=1000, gamma=0.0001, kernel=rbf ................................\n",
            "[CV] .... C=1000, gamma=0.0001, kernel=rbf, score=0.384, total=  23.3s\n",
            "[CV] C=1000, gamma=0.0001, kernel=rbf ................................\n",
            "[CV] .... C=1000, gamma=0.0001, kernel=rbf, score=0.426, total=  23.3s\n",
            "[CV] C=1000, gamma=0.0001, kernel=rbf ................................\n",
            "[CV] .... C=1000, gamma=0.0001, kernel=rbf, score=0.375, total=  22.8s\n"
          ],
          "name": "stdout"
        },
        {
          "output_type": "stream",
          "text": [
            "[Parallel(n_jobs=1)]: Done 125 out of 125 | elapsed: 57.6min finished\n"
          ],
          "name": "stderr"
        },
        {
          "output_type": "execute_result",
          "data": {
            "text/plain": [
              "GridSearchCV(cv=None, error_score=nan,\n",
              "             estimator=SVC(C=1.0, break_ties=False, cache_size=200,\n",
              "                           class_weight=None, coef0=0.0,\n",
              "                           decision_function_shape='ovr', degree=3,\n",
              "                           gamma='scale', kernel='rbf', max_iter=-1,\n",
              "                           probability=False, random_state=None, shrinking=True,\n",
              "                           tol=0.001, verbose=False),\n",
              "             iid='deprecated', n_jobs=None,\n",
              "             param_grid={'C': [0.1, 1, 10, 100, 1000],\n",
              "                         'gamma': [1, 0.1, 0.01, 0.001, 0.0001],\n",
              "                         'kernel': ['rbf']},\n",
              "             pre_dispatch='2*n_jobs', refit=True, return_train_score=False,\n",
              "             scoring=None, verbose=3)"
            ]
          },
          "metadata": {
            "tags": []
          },
          "execution_count": 75
        }
      ]
    },
    {
      "cell_type": "code",
      "metadata": {
        "id": "a4jxmdrXQahd",
        "colab": {
          "base_uri": "https://localhost:8080/"
        },
        "outputId": "bcb1898a-df56-4357-ce02-b01ce11fb828"
      },
      "source": [
        "# print best parameter after tuning \n",
        "print(grid.best_params_) \n",
        "  \n",
        "# print how our model looks after hyper-parameter tuning \n",
        "print(grid.best_estimator_) \n"
      ],
      "execution_count": null,
      "outputs": [
        {
          "output_type": "stream",
          "text": [
            "{'C': 10, 'gamma': 0.01, 'kernel': 'rbf'}\n",
            "SVC(C=10, break_ties=False, cache_size=200, class_weight=None, coef0=0.0,\n",
            "    decision_function_shape='ovr', degree=3, gamma=0.01, kernel='rbf',\n",
            "    max_iter=-1, probability=False, random_state=None, shrinking=True,\n",
            "    tol=0.001, verbose=False)\n"
          ],
          "name": "stdout"
        }
      ]
    },
    {
      "cell_type": "code",
      "metadata": {
        "id": "TKazqvUCQdP7",
        "colab": {
          "base_uri": "https://localhost:8080/"
        },
        "outputId": "2041efd3-f13a-41b7-91cb-283cc9a3e669"
      },
      "source": [
        "grid_predictions = grid.predict(xtest) \n",
        "  \n",
        "# print classification report \n",
        "print(classification_report(ytest, grid_predictions)) "
      ],
      "execution_count": null,
      "outputs": [
        {
          "output_type": "stream",
          "text": [
            "              precision    recall  f1-score   support\n",
            "\n",
            "           1       0.52      0.55      0.53       200\n",
            "           2       0.36      0.39      0.38       200\n",
            "           3       0.31      0.31      0.31       200\n",
            "           4       0.35      0.31      0.33       200\n",
            "           5       0.56      0.56      0.56       200\n",
            "\n",
            "    accuracy                           0.42      1000\n",
            "   macro avg       0.42      0.42      0.42      1000\n",
            "weighted avg       0.42      0.42      0.42      1000\n",
            "\n"
          ],
          "name": "stdout"
        }
      ]
    },
    {
      "cell_type": "markdown",
      "metadata": {
        "id": "pJX7jplYkCp_"
      },
      "source": [
        "Observamos que los resultados del modelo son mas altos optimizando los hiperparametros. De todas formas se considera que un accuracy del 0.42 es relativamente bajo. Se cree que es una tarea dificil calcular exactamente la cantidad de estrellas que recibe un producto en base a su reseña ya que esto es algo totalmente subjetivo. Por ejemplo las palabras utilizadas en reseñas de 1 o 2 estrellas pueden ser muy similares. Por eso creemos que podria ser mas factible un modelo que prediga si una reseña fue negativa (una o dos estrellas) o positiva (tres o mas) en base a lo que escribió el usuario."
      ]
    },
    {
      "cell_type": "code",
      "metadata": {
        "id": "BYVno_BIX12z",
        "colab": {
          "base_uri": "https://localhost:8080/",
          "height": 54
        },
        "outputId": "9bf540d1-cf25-4185-aca6-ccf9a9ebc0c1"
      },
      "source": [
        "y_pred = grid.predict(xtest)\n",
        "confusion(ytest,y_pred)"
      ],
      "execution_count": null,
      "outputs": [
        {
          "output_type": "display_data",
          "data": {
            "image/png": "[encoded data removed]",
            "text/plain": [
              "<Figure size 360x360 with 2 Axes>"
            ]
          },
          "metadata": {
            "tags": []
          }
        }
      ]
    },
    {
      "cell_type": "markdown",
      "metadata": {
        "id": "S1lrXf8Dktm7"
      },
      "source": [
        "Podemos ver en la matriz de confusion que hay cierto grado de aciertos en el modelo, sobre todo en los extremos, sin embargo notamos que al modelo le cuesta diferenciar entre puntajes similares (1 y 2, 4 y 5)"
      ]
    },
    {
      "cell_type": "code",
      "metadata": {
        "id": "M1PFEEOzZc0i",
        "colab": {
          "base_uri": "https://localhost:8080/"
        },
        "outputId": "73fbac49-8ba6-481c-9b8a-f42d670031d0"
      },
      "source": [
        "#Validacion Cruzada\n",
        "from sklearn.model_selection import cross_validate\n",
        "from sklearn.svm import SVC \n",
        "\n",
        "model = SVC(C=10, break_ties=False, cache_size=200, class_weight=None, coef0=0.0,\n",
        "    decision_function_shape='ovr', degree=3, gamma=0.01, kernel='rbf',\n",
        "    max_iter=-1, probability=False, random_state=None, shrinking=True,\n",
        "    tol=0.001, verbose=False)\n",
        "\n",
        "SVC_score = cross_validate(model, x, y, cv=5)\n",
        "\n",
        "print(SVC_score)"
      ],
      "execution_count": null,
      "outputs": [
        {
          "output_type": "stream",
          "text": [
            "{'fit_time': array([28.5004468 , 28.17597198, 28.17889667, 29.20987606, 28.57995653]), 'score_time': array([6.14587498, 6.1044054 , 6.14080763, 6.14931798, 6.16398048]), 'test_score': array([0.428, 0.425, 0.433, 0.415, 0.425])}\n"
          ],
          "name": "stdout"
        }
      ]
    },
    {
      "cell_type": "markdown",
      "metadata": {
        "id": "37D9W3uXlEAO"
      },
      "source": [
        "La validacion cruzada nos confirma que los resultados del modelo no estan sezgados por la muestras de prueba y entrenamiento."
      ]
    },
    {
      "cell_type": "markdown",
      "metadata": {
        "id": "l0eL0hIwik7w"
      },
      "source": [
        "#Modelo de Prediccion Binario\n",
        "\n",
        "En la siguiente seccion desarrollaremos un modelo que prediga si una reseña fue negativa (una o dos estrellas) o positiva (tres o mas). Crearemos nuevas etiquetas y seguiremos trabajando con principios similares a los modelos anteriores.\n",
        "\n",
        "Se espera que para este modelo se obtendrán resultados considerablemente mejores que en el modelo anterior debido a que se estan simplificando los datos de manera considerable agrupandolos en menos categorías.\n"
      ]
    },
    {
      "cell_type": "code",
      "metadata": {
        "id": "LsHSEvVDaJun"
      },
      "source": [
        "#Creamos nuevas etiquetas. 1 si es una reseña positiva, 0 si es negativa\n",
        "y = pd.get_dummies(dataset_lem['review'])\n",
        "y = y['positive']"
      ],
      "execution_count": null,
      "outputs": []
    },
    {
      "cell_type": "code",
      "metadata": {
        "id": "zHaqtjLaijTP",
        "colab": {
          "base_uri": "https://localhost:8080/"
        },
        "outputId": "2d890548-000c-4d45-cdd7-88718f4565ff"
      },
      "source": [
        "#Modelo Benchmark\n",
        "from sklearn.model_selection import train_test_split\n",
        "xtrain, xtest, ytrain, ytest = train_test_split(x,y,test_size=0.2,random_state=42,stratify=y)\n",
        "\n",
        "model = SVC() \n",
        "model.fit(xtrain, ytrain) \n",
        "  \n",
        "# print prediction results \n",
        "predictions = model.predict(xtest) \n",
        "print(classification_report(ytest, predictions)) "
      ],
      "execution_count": null,
      "outputs": [
        {
          "output_type": "stream",
          "text": [
            "              precision    recall  f1-score   support\n",
            "\n",
            "           0       0.75      0.65      0.70       400\n",
            "           1       0.79      0.85      0.82       600\n",
            "\n",
            "    accuracy                           0.77      1000\n",
            "   macro avg       0.77      0.75      0.76      1000\n",
            "weighted avg       0.77      0.77      0.77      1000\n",
            "\n"
          ],
          "name": "stdout"
        }
      ]
    },
    {
      "cell_type": "code",
      "metadata": {
        "id": "L28c2VJGk9QH",
        "colab": {
          "base_uri": "https://localhost:8080/"
        },
        "outputId": "4249a920-2e49-4728-ed7f-7b8186fcf0d8"
      },
      "source": [
        "from sklearn.metrics import confusion_matrix\n",
        "\n",
        "confusion_matrix(ytest, predictions)"
      ],
      "execution_count": null,
      "outputs": [
        {
          "output_type": "execute_result",
          "data": {
            "text/plain": [
              "array([[261, 139],\n",
              "       [ 88, 512]])"
            ]
          },
          "metadata": {
            "tags": []
          },
          "execution_count": 82
        }
      ]
    },
    {
      "cell_type": "code",
      "metadata": {
        "id": "HHovJtEjn1Ko",
        "colab": {
          "base_uri": "https://localhost:8080/"
        },
        "outputId": "04c9e00e-7296-42c0-9818-80f6b3a09bdf"
      },
      "source": [
        "from sklearn.model_selection import GridSearchCV \n",
        "\n",
        "# defining parameter range \n",
        "param_grid = {'C': [0.1, 1, 10, 100, 1000],  \n",
        "              'gamma': [1, 0.1, 0.01, 0.001, 0.0001], \n",
        "              'kernel': ['rbf']}  \n",
        "  \n",
        "grid = GridSearchCV(SVC(), param_grid, refit = True, verbose = 3) \n",
        "  \n",
        "# fitting the model for grid search \n",
        "grid.fit(xtrain, ytrain) "
      ],
      "execution_count": null,
      "outputs": [
        {
          "output_type": "stream",
          "text": [
            "Fitting 5 folds for each of 25 candidates, totalling 125 fits\n",
            "[CV] C=0.1, gamma=1, kernel=rbf ......................................\n"
          ],
          "name": "stdout"
        },
        {
          "output_type": "stream",
          "text": [
            "[Parallel(n_jobs=1)]: Using backend SequentialBackend with 1 concurrent workers.\n"
          ],
          "name": "stderr"
        },
        {
          "output_type": "stream",
          "text": [
            "[CV] .......... C=0.1, gamma=1, kernel=rbf, score=0.600, total=  20.9s\n",
            "[CV] C=0.1, gamma=1, kernel=rbf ......................................\n"
          ],
          "name": "stdout"
        },
        {
          "output_type": "stream",
          "text": [
            "[Parallel(n_jobs=1)]: Done   1 out of   1 | elapsed:   20.9s remaining:    0.0s\n"
          ],
          "name": "stderr"
        },
        {
          "output_type": "stream",
          "text": [
            "[CV] .......... C=0.1, gamma=1, kernel=rbf, score=0.600, total=  21.0s\n",
            "[CV] C=0.1, gamma=1, kernel=rbf ......................................\n"
          ],
          "name": "stdout"
        },
        {
          "output_type": "stream",
          "text": [
            "[Parallel(n_jobs=1)]: Done   2 out of   2 | elapsed:   41.9s remaining:    0.0s\n"
          ],
          "name": "stderr"
        },
        {
          "output_type": "stream",
          "text": [
            "[CV] .......... C=0.1, gamma=1, kernel=rbf, score=0.600, total=  21.1s\n",
            "[CV] C=0.1, gamma=1, kernel=rbf ......................................\n",
            "[CV] .......... C=0.1, gamma=1, kernel=rbf, score=0.600, total=  21.3s\n",
            "[CV] C=0.1, gamma=1, kernel=rbf ......................................\n",
            "[CV] .......... C=0.1, gamma=1, kernel=rbf, score=0.600, total=  21.3s\n",
            "[CV] C=0.1, gamma=0.1, kernel=rbf ....................................\n",
            "[CV] ........ C=0.1, gamma=0.1, kernel=rbf, score=0.700, total=  17.6s\n",
            "[CV] C=0.1, gamma=0.1, kernel=rbf ....................................\n",
            "[CV] ........ C=0.1, gamma=0.1, kernel=rbf, score=0.699, total=  17.8s\n",
            "[CV] C=0.1, gamma=0.1, kernel=rbf ....................................\n",
            "[CV] ........ C=0.1, gamma=0.1, kernel=rbf, score=0.676, total=  17.4s\n",
            "[CV] C=0.1, gamma=0.1, kernel=rbf ....................................\n",
            "[CV] ........ C=0.1, gamma=0.1, kernel=rbf, score=0.665, total=  17.2s\n",
            "[CV] C=0.1, gamma=0.1, kernel=rbf ....................................\n",
            "[CV] ........ C=0.1, gamma=0.1, kernel=rbf, score=0.657, total=  17.2s\n",
            "[CV] C=0.1, gamma=0.01, kernel=rbf ...................................\n",
            "[CV] ....... C=0.1, gamma=0.01, kernel=rbf, score=0.662, total=  17.8s\n",
            "[CV] C=0.1, gamma=0.01, kernel=rbf ...................................\n",
            "[CV] ....... C=0.1, gamma=0.01, kernel=rbf, score=0.662, total=  18.0s\n",
            "[CV] C=0.1, gamma=0.01, kernel=rbf ...................................\n",
            "[CV] ....... C=0.1, gamma=0.01, kernel=rbf, score=0.647, total=  18.0s\n",
            "[CV] C=0.1, gamma=0.01, kernel=rbf ...................................\n",
            "[CV] ....... C=0.1, gamma=0.01, kernel=rbf, score=0.661, total=  17.9s\n",
            "[CV] C=0.1, gamma=0.01, kernel=rbf ...................................\n",
            "[CV] ....... C=0.1, gamma=0.01, kernel=rbf, score=0.651, total=  17.7s\n",
            "[CV] C=0.1, gamma=0.001, kernel=rbf ..................................\n",
            "[CV] ...... C=0.1, gamma=0.001, kernel=rbf, score=0.600, total=  18.4s\n",
            "[CV] C=0.1, gamma=0.001, kernel=rbf ..................................\n",
            "[CV] ...... C=0.1, gamma=0.001, kernel=rbf, score=0.600, total=  18.6s\n",
            "[CV] C=0.1, gamma=0.001, kernel=rbf ..................................\n",
            "[CV] ...... C=0.1, gamma=0.001, kernel=rbf, score=0.600, total=  18.7s\n",
            "[CV] C=0.1, gamma=0.001, kernel=rbf ..................................\n",
            "[CV] ...... C=0.1, gamma=0.001, kernel=rbf, score=0.600, total=  18.6s\n",
            "[CV] C=0.1, gamma=0.001, kernel=rbf ..................................\n",
            "[CV] ...... C=0.1, gamma=0.001, kernel=rbf, score=0.600, total=  18.4s\n",
            "[CV] C=0.1, gamma=0.0001, kernel=rbf .................................\n",
            "[CV] ..... C=0.1, gamma=0.0001, kernel=rbf, score=0.600, total=  18.4s\n",
            "[CV] C=0.1, gamma=0.0001, kernel=rbf .................................\n",
            "[CV] ..... C=0.1, gamma=0.0001, kernel=rbf, score=0.600, total=  18.4s\n",
            "[CV] C=0.1, gamma=0.0001, kernel=rbf .................................\n",
            "[CV] ..... C=0.1, gamma=0.0001, kernel=rbf, score=0.600, total=  18.3s\n",
            "[CV] C=0.1, gamma=0.0001, kernel=rbf .................................\n",
            "[CV] ..... C=0.1, gamma=0.0001, kernel=rbf, score=0.600, total=  18.5s\n",
            "[CV] C=0.1, gamma=0.0001, kernel=rbf .................................\n",
            "[CV] ..... C=0.1, gamma=0.0001, kernel=rbf, score=0.600, total=  18.2s\n",
            "[CV] C=1, gamma=1, kernel=rbf ........................................\n",
            "[CV] ............ C=1, gamma=1, kernel=rbf, score=0.621, total=  20.8s\n",
            "[CV] C=1, gamma=1, kernel=rbf ........................................\n",
            "[CV] ............ C=1, gamma=1, kernel=rbf, score=0.608, total=  20.7s\n",
            "[CV] C=1, gamma=1, kernel=rbf ........................................\n",
            "[CV] ............ C=1, gamma=1, kernel=rbf, score=0.619, total=  20.7s\n",
            "[CV] C=1, gamma=1, kernel=rbf ........................................\n",
            "[CV] ............ C=1, gamma=1, kernel=rbf, score=0.605, total=  20.8s\n",
            "[CV] C=1, gamma=1, kernel=rbf ........................................\n",
            "[CV] ............ C=1, gamma=1, kernel=rbf, score=0.609, total=  20.7s\n",
            "[CV] C=1, gamma=0.1, kernel=rbf ......................................\n",
            "[CV] .......... C=1, gamma=0.1, kernel=rbf, score=0.767, total=  16.0s\n",
            "[CV] C=1, gamma=0.1, kernel=rbf ......................................\n",
            "[CV] .......... C=1, gamma=0.1, kernel=rbf, score=0.782, total=  16.1s\n",
            "[CV] C=1, gamma=0.1, kernel=rbf ......................................\n",
            "[CV] .......... C=1, gamma=0.1, kernel=rbf, score=0.757, total=  16.5s\n",
            "[CV] C=1, gamma=0.1, kernel=rbf ......................................\n",
            "[CV] .......... C=1, gamma=0.1, kernel=rbf, score=0.741, total=  16.9s\n",
            "[CV] C=1, gamma=0.1, kernel=rbf ......................................\n",
            "[CV] .......... C=1, gamma=0.1, kernel=rbf, score=0.750, total=  16.7s\n",
            "[CV] C=1, gamma=0.01, kernel=rbf .....................................\n",
            "[CV] ......... C=1, gamma=0.01, kernel=rbf, score=0.738, total=  16.1s\n",
            "[CV] C=1, gamma=0.01, kernel=rbf .....................................\n",
            "[CV] ......... C=1, gamma=0.01, kernel=rbf, score=0.772, total=  16.2s\n",
            "[CV] C=1, gamma=0.01, kernel=rbf .....................................\n",
            "[CV] ......... C=1, gamma=0.01, kernel=rbf, score=0.741, total=  15.9s\n",
            "[CV] C=1, gamma=0.01, kernel=rbf .....................................\n",
            "[CV] ......... C=1, gamma=0.01, kernel=rbf, score=0.736, total=  15.8s\n",
            "[CV] C=1, gamma=0.01, kernel=rbf .....................................\n",
            "[CV] ......... C=1, gamma=0.01, kernel=rbf, score=0.739, total=  15.8s\n",
            "[CV] C=1, gamma=0.001, kernel=rbf ....................................\n",
            "[CV] ........ C=1, gamma=0.001, kernel=rbf, score=0.659, total=  18.3s\n",
            "[CV] C=1, gamma=0.001, kernel=rbf ....................................\n",
            "[CV] ........ C=1, gamma=0.001, kernel=rbf, score=0.665, total=  18.4s\n",
            "[CV] C=1, gamma=0.001, kernel=rbf ....................................\n",
            "[CV] ........ C=1, gamma=0.001, kernel=rbf, score=0.649, total=  18.3s\n",
            "[CV] C=1, gamma=0.001, kernel=rbf ....................................\n",
            "[CV] ........ C=1, gamma=0.001, kernel=rbf, score=0.657, total=  17.7s\n",
            "[CV] C=1, gamma=0.001, kernel=rbf ....................................\n",
            "[CV] ........ C=1, gamma=0.001, kernel=rbf, score=0.645, total=  17.3s\n",
            "[CV] C=1, gamma=0.0001, kernel=rbf ...................................\n",
            "[CV] ....... C=1, gamma=0.0001, kernel=rbf, score=0.600, total=  17.8s\n",
            "[CV] C=1, gamma=0.0001, kernel=rbf ...................................\n",
            "[CV] ....... C=1, gamma=0.0001, kernel=rbf, score=0.600, total=  17.8s\n",
            "[CV] C=1, gamma=0.0001, kernel=rbf ...................................\n",
            "[CV] ....... C=1, gamma=0.0001, kernel=rbf, score=0.600, total=  17.8s\n",
            "[CV] C=1, gamma=0.0001, kernel=rbf ...................................\n",
            "[CV] ....... C=1, gamma=0.0001, kernel=rbf, score=0.600, total=  17.8s\n",
            "[CV] C=1, gamma=0.0001, kernel=rbf ...................................\n",
            "[CV] ....... C=1, gamma=0.0001, kernel=rbf, score=0.600, total=  17.8s\n",
            "[CV] C=10, gamma=1, kernel=rbf .......................................\n",
            "[CV] ........... C=10, gamma=1, kernel=rbf, score=0.618, total=  20.4s\n",
            "[CV] C=10, gamma=1, kernel=rbf .......................................\n",
            "[CV] ........... C=10, gamma=1, kernel=rbf, score=0.610, total=  20.4s\n",
            "[CV] C=10, gamma=1, kernel=rbf .......................................\n",
            "[CV] ........... C=10, gamma=1, kernel=rbf, score=0.621, total=  20.5s\n",
            "[CV] C=10, gamma=1, kernel=rbf .......................................\n",
            "[CV] ........... C=10, gamma=1, kernel=rbf, score=0.608, total=  21.8s\n",
            "[CV] C=10, gamma=1, kernel=rbf .......................................\n",
            "[CV] ........... C=10, gamma=1, kernel=rbf, score=0.604, total=  21.7s\n",
            "[CV] C=10, gamma=0.1, kernel=rbf .....................................\n",
            "[CV] ......... C=10, gamma=0.1, kernel=rbf, score=0.744, total=  19.3s\n",
            "[CV] C=10, gamma=0.1, kernel=rbf .....................................\n",
            "[CV] ......... C=10, gamma=0.1, kernel=rbf, score=0.766, total=  19.5s\n",
            "[CV] C=10, gamma=0.1, kernel=rbf .....................................\n",
            "[CV] ......... C=10, gamma=0.1, kernel=rbf, score=0.752, total=  19.3s\n",
            "[CV] C=10, gamma=0.1, kernel=rbf .....................................\n",
            "[CV] ......... C=10, gamma=0.1, kernel=rbf, score=0.728, total=  19.2s\n",
            "[CV] C=10, gamma=0.1, kernel=rbf .....................................\n",
            "[CV] ......... C=10, gamma=0.1, kernel=rbf, score=0.734, total=  19.3s\n",
            "[CV] C=10, gamma=0.01, kernel=rbf ....................................\n",
            "[CV] ........ C=10, gamma=0.01, kernel=rbf, score=0.765, total=  13.3s\n",
            "[CV] C=10, gamma=0.01, kernel=rbf ....................................\n",
            "[CV] ........ C=10, gamma=0.01, kernel=rbf, score=0.770, total=  13.3s\n",
            "[CV] C=10, gamma=0.01, kernel=rbf ....................................\n",
            "[CV] ........ C=10, gamma=0.01, kernel=rbf, score=0.765, total=  13.1s\n",
            "[CV] C=10, gamma=0.01, kernel=rbf ....................................\n",
            "[CV] ........ C=10, gamma=0.01, kernel=rbf, score=0.765, total=  13.2s\n",
            "[CV] C=10, gamma=0.01, kernel=rbf ....................................\n",
            "[CV] ........ C=10, gamma=0.01, kernel=rbf, score=0.756, total=  12.9s\n",
            "[CV] C=10, gamma=0.001, kernel=rbf ...................................\n",
            "[CV] ....... C=10, gamma=0.001, kernel=rbf, score=0.741, total=  15.4s\n",
            "[CV] C=10, gamma=0.001, kernel=rbf ...................................\n",
            "[CV] ....... C=10, gamma=0.001, kernel=rbf, score=0.770, total=  15.6s\n",
            "[CV] C=10, gamma=0.001, kernel=rbf ...................................\n",
            "[CV] ....... C=10, gamma=0.001, kernel=rbf, score=0.740, total=  15.3s\n",
            "[CV] C=10, gamma=0.001, kernel=rbf ...................................\n",
            "[CV] ....... C=10, gamma=0.001, kernel=rbf, score=0.745, total=  15.3s\n",
            "[CV] C=10, gamma=0.001, kernel=rbf ...................................\n",
            "[CV] ....... C=10, gamma=0.001, kernel=rbf, score=0.745, total=  15.2s\n",
            "[CV] C=10, gamma=0.0001, kernel=rbf ..................................\n",
            "[CV] ...... C=10, gamma=0.0001, kernel=rbf, score=0.657, total=  17.8s\n",
            "[CV] C=10, gamma=0.0001, kernel=rbf ..................................\n",
            "[CV] ...... C=10, gamma=0.0001, kernel=rbf, score=0.665, total=  17.8s\n",
            "[CV] C=10, gamma=0.0001, kernel=rbf ..................................\n",
            "[CV] ...... C=10, gamma=0.0001, kernel=rbf, score=0.651, total=  17.2s\n",
            "[CV] C=10, gamma=0.0001, kernel=rbf ..................................\n",
            "[CV] ...... C=10, gamma=0.0001, kernel=rbf, score=0.657, total=  17.1s\n",
            "[CV] C=10, gamma=0.0001, kernel=rbf ..................................\n",
            "[CV] ...... C=10, gamma=0.0001, kernel=rbf, score=0.647, total=  17.0s\n",
            "[CV] C=100, gamma=1, kernel=rbf ......................................\n",
            "[CV] .......... C=100, gamma=1, kernel=rbf, score=0.618, total=  20.3s\n",
            "[CV] C=100, gamma=1, kernel=rbf ......................................\n",
            "[CV] .......... C=100, gamma=1, kernel=rbf, score=0.610, total=  20.5s\n",
            "[CV] C=100, gamma=1, kernel=rbf ......................................\n",
            "[CV] .......... C=100, gamma=1, kernel=rbf, score=0.621, total=  20.9s\n",
            "[CV] C=100, gamma=1, kernel=rbf ......................................\n",
            "[CV] .......... C=100, gamma=1, kernel=rbf, score=0.608, total=  20.7s\n",
            "[CV] C=100, gamma=1, kernel=rbf ......................................\n",
            "[CV] .......... C=100, gamma=1, kernel=rbf, score=0.604, total=  20.6s\n",
            "[CV] C=100, gamma=0.1, kernel=rbf ....................................\n",
            "[CV] ........ C=100, gamma=0.1, kernel=rbf, score=0.706, total=  18.0s\n",
            "[CV] C=100, gamma=0.1, kernel=rbf ....................................\n",
            "[CV] ........ C=100, gamma=0.1, kernel=rbf, score=0.772, total=  17.9s\n",
            "[CV] C=100, gamma=0.1, kernel=rbf ....................................\n",
            "[CV] ........ C=100, gamma=0.1, kernel=rbf, score=0.729, total=  17.6s\n",
            "[CV] C=100, gamma=0.1, kernel=rbf ....................................\n",
            "[CV] ........ C=100, gamma=0.1, kernel=rbf, score=0.716, total=  17.9s\n",
            "[CV] C=100, gamma=0.1, kernel=rbf ....................................\n",
            "[CV] ........ C=100, gamma=0.1, kernel=rbf, score=0.713, total=  18.2s\n",
            "[CV] C=100, gamma=0.01, kernel=rbf ...................................\n",
            "[CV] ....... C=100, gamma=0.01, kernel=rbf, score=0.743, total=  12.2s\n",
            "[CV] C=100, gamma=0.01, kernel=rbf ...................................\n",
            "[CV] ....... C=100, gamma=0.01, kernel=rbf, score=0.757, total=  11.9s\n",
            "[CV] C=100, gamma=0.01, kernel=rbf ...................................\n",
            "[CV] ....... C=100, gamma=0.01, kernel=rbf, score=0.738, total=  11.6s\n",
            "[CV] C=100, gamma=0.01, kernel=rbf ...................................\n",
            "[CV] ....... C=100, gamma=0.01, kernel=rbf, score=0.738, total=  11.7s\n",
            "[CV] C=100, gamma=0.01, kernel=rbf ...................................\n",
            "[CV] ....... C=100, gamma=0.01, kernel=rbf, score=0.738, total=  11.7s\n",
            "[CV] C=100, gamma=0.001, kernel=rbf ..................................\n",
            "[CV] ...... C=100, gamma=0.001, kernel=rbf, score=0.772, total=  12.6s\n",
            "[CV] C=100, gamma=0.001, kernel=rbf ..................................\n",
            "[CV] ...... C=100, gamma=0.001, kernel=rbf, score=0.757, total=  12.7s\n",
            "[CV] C=100, gamma=0.001, kernel=rbf ..................................\n",
            "[CV] ...... C=100, gamma=0.001, kernel=rbf, score=0.759, total=  12.3s\n",
            "[CV] C=100, gamma=0.001, kernel=rbf ..................................\n",
            "[CV] ...... C=100, gamma=0.001, kernel=rbf, score=0.759, total=  12.3s\n",
            "[CV] C=100, gamma=0.001, kernel=rbf ..................................\n",
            "[CV] ...... C=100, gamma=0.001, kernel=rbf, score=0.757, total=  12.2s\n",
            "[CV] C=100, gamma=0.0001, kernel=rbf .................................\n",
            "[CV] ..... C=100, gamma=0.0001, kernel=rbf, score=0.740, total=  15.1s\n",
            "[CV] C=100, gamma=0.0001, kernel=rbf .................................\n",
            "[CV] ..... C=100, gamma=0.0001, kernel=rbf, score=0.772, total=  15.3s\n",
            "[CV] C=100, gamma=0.0001, kernel=rbf .................................\n",
            "[CV] ..... C=100, gamma=0.0001, kernel=rbf, score=0.741, total=  15.0s\n",
            "[CV] C=100, gamma=0.0001, kernel=rbf .................................\n",
            "[CV] ..... C=100, gamma=0.0001, kernel=rbf, score=0.740, total=  15.1s\n",
            "[CV] C=100, gamma=0.0001, kernel=rbf .................................\n",
            "[CV] ..... C=100, gamma=0.0001, kernel=rbf, score=0.748, total=  14.9s\n",
            "[CV] C=1000, gamma=1, kernel=rbf .....................................\n",
            "[CV] ......... C=1000, gamma=1, kernel=rbf, score=0.618, total=  21.1s\n",
            "[CV] C=1000, gamma=1, kernel=rbf .....................................\n",
            "[CV] ......... C=1000, gamma=1, kernel=rbf, score=0.610, total=  21.3s\n",
            "[CV] C=1000, gamma=1, kernel=rbf .....................................\n",
            "[CV] ......... C=1000, gamma=1, kernel=rbf, score=0.621, total=  21.2s\n",
            "[CV] C=1000, gamma=1, kernel=rbf .....................................\n",
            "[CV] ......... C=1000, gamma=1, kernel=rbf, score=0.608, total=  20.9s\n",
            "[CV] C=1000, gamma=1, kernel=rbf .....................................\n",
            "[CV] ......... C=1000, gamma=1, kernel=rbf, score=0.604, total=  20.8s\n",
            "[CV] C=1000, gamma=0.1, kernel=rbf ...................................\n",
            "[CV] ....... C=1000, gamma=0.1, kernel=rbf, score=0.691, total=  18.1s\n",
            "[CV] C=1000, gamma=0.1, kernel=rbf ...................................\n",
            "[CV] ....... C=1000, gamma=0.1, kernel=rbf, score=0.765, total=  17.8s\n",
            "[CV] C=1000, gamma=0.1, kernel=rbf ...................................\n",
            "[CV] ....... C=1000, gamma=0.1, kernel=rbf, score=0.730, total=  17.4s\n",
            "[CV] C=1000, gamma=0.1, kernel=rbf ...................................\n",
            "[CV] ....... C=1000, gamma=0.1, kernel=rbf, score=0.723, total=  21.0s\n",
            "[CV] C=1000, gamma=0.1, kernel=rbf ...................................\n",
            "[CV] ....... C=1000, gamma=0.1, kernel=rbf, score=0.698, total=  17.3s\n",
            "[CV] C=1000, gamma=0.01, kernel=rbf ..................................\n",
            "[CV] ...... C=1000, gamma=0.01, kernel=rbf, score=0.718, total=  11.5s\n",
            "[CV] C=1000, gamma=0.01, kernel=rbf ..................................\n",
            "[CV] ...... C=1000, gamma=0.01, kernel=rbf, score=0.736, total=  11.6s\n",
            "[CV] C=1000, gamma=0.01, kernel=rbf ..................................\n",
            "[CV] ...... C=1000, gamma=0.01, kernel=rbf, score=0.708, total=  11.5s\n",
            "[CV] C=1000, gamma=0.01, kernel=rbf ..................................\n",
            "[CV] ...... C=1000, gamma=0.01, kernel=rbf, score=0.709, total=  11.3s\n",
            "[CV] C=1000, gamma=0.01, kernel=rbf ..................................\n",
            "[CV] ...... C=1000, gamma=0.01, kernel=rbf, score=0.706, total=  11.7s\n",
            "[CV] C=1000, gamma=0.001, kernel=rbf .................................\n",
            "[CV] ..... C=1000, gamma=0.001, kernel=rbf, score=0.748, total=  12.1s\n",
            "[CV] C=1000, gamma=0.001, kernel=rbf .................................\n",
            "[CV] ..... C=1000, gamma=0.001, kernel=rbf, score=0.754, total=  11.9s\n",
            "[CV] C=1000, gamma=0.001, kernel=rbf .................................\n",
            "[CV] ..... C=1000, gamma=0.001, kernel=rbf, score=0.746, total=  11.7s\n",
            "[CV] C=1000, gamma=0.001, kernel=rbf .................................\n",
            "[CV] ..... C=1000, gamma=0.001, kernel=rbf, score=0.746, total=  12.0s\n",
            "[CV] C=1000, gamma=0.001, kernel=rbf .................................\n",
            "[CV] ..... C=1000, gamma=0.001, kernel=rbf, score=0.729, total=  11.8s\n",
            "[CV] C=1000, gamma=0.0001, kernel=rbf ................................\n",
            "[CV] .... C=1000, gamma=0.0001, kernel=rbf, score=0.772, total=  12.5s\n",
            "[CV] C=1000, gamma=0.0001, kernel=rbf ................................\n",
            "[CV] .... C=1000, gamma=0.0001, kernel=rbf, score=0.754, total=  12.6s\n",
            "[CV] C=1000, gamma=0.0001, kernel=rbf ................................\n",
            "[CV] .... C=1000, gamma=0.0001, kernel=rbf, score=0.757, total=  12.2s\n",
            "[CV] C=1000, gamma=0.0001, kernel=rbf ................................\n",
            "[CV] .... C=1000, gamma=0.0001, kernel=rbf, score=0.754, total=  12.4s\n",
            "[CV] C=1000, gamma=0.0001, kernel=rbf ................................\n",
            "[CV] .... C=1000, gamma=0.0001, kernel=rbf, score=0.750, total=  12.4s\n"
          ],
          "name": "stdout"
        },
        {
          "output_type": "stream",
          "text": [
            "[Parallel(n_jobs=1)]: Done 125 out of 125 | elapsed: 35.1min finished\n"
          ],
          "name": "stderr"
        },
        {
          "output_type": "execute_result",
          "data": {
            "text/plain": [
              "GridSearchCV(cv=None, error_score=nan,\n",
              "             estimator=SVC(C=1.0, break_ties=False, cache_size=200,\n",
              "                           class_weight=None, coef0=0.0,\n",
              "                           decision_function_shape='ovr', degree=3,\n",
              "                           gamma='scale', kernel='rbf', max_iter=-1,\n",
              "                           probability=False, random_state=None, shrinking=True,\n",
              "                           tol=0.001, verbose=False),\n",
              "             iid='deprecated', n_jobs=None,\n",
              "             param_grid={'C': [0.1, 1, 10, 100, 1000],\n",
              "                         'gamma': [1, 0.1, 0.01, 0.001, 0.0001],\n",
              "                         'kernel': ['rbf']},\n",
              "             pre_dispatch='2*n_jobs', refit=True, return_train_score=False,\n",
              "             scoring=None, verbose=3)"
            ]
          },
          "metadata": {
            "tags": []
          },
          "execution_count": 83
        }
      ]
    },
    {
      "cell_type": "code",
      "metadata": {
        "id": "owx-EQAMn1Kv",
        "colab": {
          "base_uri": "https://localhost:8080/"
        },
        "outputId": "fe2ffda9-aa32-4d88-8eba-6e09ccff899b"
      },
      "source": [
        "# print mejor combinacion de hiperparametros \n",
        "print(grid.best_params_) \n",
        "  \n",
        "# print como se ve el modelo despuees de ajustar los hiperparametros.\n",
        "print(grid.best_estimator_) \n"
      ],
      "execution_count": null,
      "outputs": [
        {
          "output_type": "stream",
          "text": [
            "{'C': 10, 'gamma': 0.01, 'kernel': 'rbf'}\n",
            "SVC(C=10, break_ties=False, cache_size=200, class_weight=None, coef0=0.0,\n",
            "    decision_function_shape='ovr', degree=3, gamma=0.01, kernel='rbf',\n",
            "    max_iter=-1, probability=False, random_state=None, shrinking=True,\n",
            "    tol=0.001, verbose=False)\n"
          ],
          "name": "stdout"
        }
      ]
    },
    {
      "cell_type": "code",
      "metadata": {
        "id": "v4eF_vADn1Kz",
        "colab": {
          "base_uri": "https://localhost:8080/"
        },
        "outputId": "c4645449-503e-4149-86e9-0f440a48301d"
      },
      "source": [
        "grid_predictions = grid.predict(xtest) \n",
        "  \n",
        "# print reeporte de clasificacion\n",
        "print(classification_report(ytest, grid_predictions)) "
      ],
      "execution_count": null,
      "outputs": [
        {
          "output_type": "stream",
          "text": [
            "              precision    recall  f1-score   support\n",
            "\n",
            "           0       0.75      0.68      0.72       400\n",
            "           1       0.80      0.85      0.82       600\n",
            "\n",
            "    accuracy                           0.78      1000\n",
            "   macro avg       0.78      0.77      0.77      1000\n",
            "weighted avg       0.78      0.78      0.78      1000\n",
            "\n"
          ],
          "name": "stdout"
        }
      ]
    },
    {
      "cell_type": "code",
      "metadata": {
        "id": "PjQdFSnBn9T_",
        "colab": {
          "base_uri": "https://localhost:8080/"
        },
        "outputId": "09728fa6-bae6-4be4-a2d9-80c4ce443f3c"
      },
      "source": [
        "confusion_matrix(ytest, grid_predictions)"
      ],
      "execution_count": null,
      "outputs": [
        {
          "output_type": "execute_result",
          "data": {
            "text/plain": [
              "array([[273, 127],\n",
              "       [ 90, 510]])"
            ]
          },
          "metadata": {
            "tags": []
          },
          "execution_count": 86
        }
      ]
    },
    {
      "cell_type": "markdown",
      "metadata": {
        "id": "3z5l1Bf8L7wS"
      },
      "source": [
        "Luego de entrenar el modelo podemos observar que obtuvo resultados bastante satisfactorios. Alcanzo un accuracy de 0.78 lo cual se puede considerar accetable para un modelo de clasificacion de este tipo ya que es lo suficientemente alto para ser confiable pero no demasiado lo cual podrìa significar un sobre ajuste. De todos los modelos generados en este notebook se podría considerar como el más peretinente ya que por su accuracy se podria considerar certero y podria brindar informacion sobre si un consumidor esta satisfecho o no con su compra representandolo de forma booleana.\n",
        "\n",
        "\n",
        "\n"
      ]
    },
    {
      "cell_type": "markdown",
      "metadata": {
        "id": "V27utrC5NJ5B"
      },
      "source": [
        "#Investigación\n",
        "\n",
        "En relacion a cuanto se podría profundizar el analisis que se llevo a cabo en este notebook surgen varias ideas basadas en el articulo ¨The Multilingual Amazon Reviews Corpus\" por Phillip Keung, Yichao Lu y Gyorgy Szarvas de la universidad University of Washington, Allen Institute for AI (https://arxiv.org/pdf/2010.02573v1.pdf#page=6&zoom=100,402,918)\n",
        "\n",
        "En dicho articulo se lleva a cabo una investigacion en vias similares a la de este notebook pero de forma mucho más extensa. \n",
        "\n",
        "En primer lugar el estudio se lleva a cabo para los 5 idiomas en los que está disponible el Multilingual Amazon Review Corpus. Para cada idioma se generan modelos de predicción utilizando el cuerpo de la reseña, el titulo y la categoría del producto y se generan utilizando distintas combinaciones de esta información. A su vez se generan modelos binarios y de calificacion de 1 al 5 tal como se llevó a cabo en este notebook. \n",
        "\n",
        "El articulo menciona que en la investigacion se llevo a cabo un procesamiento de texto más profundo del que se alcanzo en este notebook, por ejemplo, se aplico un algoritmo de reconocimiento de idioma para asegurarse de que las reseñas fueran en el idioma indicado. También se eliminaron algunas reseñas de productos repetidos para eliminar posibles sezgos. \n",
        "\n",
        "En cuanto a los resultados los obtenidos por este estudio tienen un orden de magnigud similar a los obtenidos en el notebook. Es entendible ya que es producto de una investigacion muchisimo mas extensa (proyecto de investigacion de maestría). El objetivo de este notebook más que conseguir los mejores resultados fue llevar a cabo la aplicacion de las herramientas provistas por el curso. Para el modelo de clasificacion de 5 estrellas el articulo menciona un accuracy de 0.47 lo cual nos confirma que el resultado de 0.42 de nuestro no está muy alejado del mejor modelo que se podría obtener. Por otro lado para la prediccion binaria se alcanza un resultado (0.92) considerablemente más alto del alcanzado en este notebook (0.78), dejando en evidencia que se podría profundizar en el desarrollo de este modelo.\n",
        "\n",
        "Por ultimo mencionar que en el principio de este trabajo se esperaba alcanzar resultados similares a los obtenidos. Claramente se esperaba que el modelo de prediccion de puntajes de 1 a 5 iba a ser menos certero que el binario y así resultó siendo. Sin embargo se esperaba obtener un resultado mayor en el accuracy de el modelo binario ya que en el paper consultado se llega aun orden del noveno decil y en este notebook se alcanzo simplemente el septimo."
      ]
    }
  ]
}